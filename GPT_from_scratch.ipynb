{
  "nbformat": 4,
  "nbformat_minor": 0,
  "metadata": {
    "colab": {
      "provenance": [],
      "gpuType": "T4"
    },
    "kernelspec": {
      "name": "python3",
      "display_name": "Python 3"
    },
    "language_info": {
      "name": "python"
    },
    "accelerator": "GPU"
  },
  "cells": [
    {
      "cell_type": "markdown",
      "source": [
        "# GPT from scratch\n",
        "## This notebook serves as a comprehensive guide to implement, code, and train a basic Generative Pretrained Transformer (GPT) model from scratch using Keras. It is based on the methodologies and code provided in “Generative Deep Learning, 2nd Edition” by David Foster (2023) (https://learning.oreilly.com/library/view/generative-deep-learning/9781098134174/ ) . The objective is to provide a hands-on approach to understanding and applying the principles of generative models, specifically focusing on the GPT model. This study aims to contribute to the broader understanding of generative deep learning and its applications."
      ],
      "metadata": {
        "id": "4GoW-7WLdgW7"
      }
    },
    {
      "cell_type": "code",
      "execution_count": 1,
      "metadata": {
        "id": "Na2mEH4H78Ss"
      },
      "outputs": [],
      "source": [
        "import pandas as pd\n",
        "from tensorflow.keras import layers\n",
        "%load_ext autoreload\n",
        "%autoreload 2\n",
        "import numpy as np\n",
        "import json\n",
        "import re\n",
        "import string\n",
        "from IPython.display import display, HTML\n",
        "import tensorflow as tf\n",
        "from tensorflow.keras import models, losses, callbacks"
      ]
    },
    {
      "cell_type": "markdown",
      "source": [
        "# Constants and model parameters\n",
        "These are the hyperparameters for the model. VOCAB_SIZE is the size of the vocabulary, MAX_LEN is the maximum length of the sequences, EMBEDDING_DIM is the dimension of the word embeddings, KEY_DIM is the dimension of the keys in the attention mechanism, N_HEADS is the number of attention heads, FEED_FORWARD_DIM is the dimension of the feed-forward network in the transformer block, VALIDATION_SPLIT is the fraction of data to be used for validation, SEED is the random seed for reproducibility, LOAD_MODEL is a flag to load a pre-trained model, BATCH_SIZE is the size of the batches for training, and EPOCHS is the number of epochs for training."
      ],
      "metadata": {
        "id": "onhTADwiT6LJ"
      }
    },
    {
      "cell_type": "code",
      "source": [
        "\n",
        "VOCAB_SIZE = 5000\n",
        "MAX_LEN = 1000\n",
        "EMBEDDING_DIM = 256\n",
        "KEY_DIM = 256\n",
        "N_HEADS = 2\n",
        "FEED_FORWARD_DIM = 256\n",
        "VALIDATION_SPLIT = 0.2\n",
        "SEED = 42\n",
        "LOAD_MODEL = False\n",
        "BATCH_SIZE = 32\n",
        "EPOCHS = 5"
      ],
      "metadata": {
        "id": "7rZoHls7HPfr"
      },
      "execution_count": 28,
      "outputs": []
    },
    {
      "cell_type": "markdown",
      "source": [
        "# About the data:\n",
        "\n",
        "This dataset was collected via Python scraper in March 2023 and contains:\n",
        "information about all beauty products (over 8,000) from the Sephora online store, including product and brand names, prices, ingredients, ratings, and all features.\n",
        "user reviews (about 1 million on over 2,000 products) of all products from the Skincare category, including user appearances, and review ratings by other users\n",
        "\n",
        "source : https://www.kaggle.com/datasets/nadyinky/sephora-products-and-skincare-reviews"
      ],
      "metadata": {
        "id": "brUDcxJzTc4y"
      }
    },
    {
      "cell_type": "code",
      "source": [
        "products = pd.read_csv('product_info.csv')\n",
        "products.head()"
      ],
      "metadata": {
        "colab": {
          "base_uri": "https://localhost:8080/",
          "height": 620
        },
        "id": "KqWtOKt8MBtS",
        "outputId": "63494a98-f3c2-42f6-de72-91a9c6cf66ea"
      },
      "execution_count": 3,
      "outputs": [
        {
          "output_type": "execute_result",
          "data": {
            "text/plain": [
              "  product_id               product_name  brand_id brand_name  loves_count  \\\n",
              "0    P473671    Fragrance Discovery Set      6342      19-69         6320   \n",
              "1    P473668    La Habana Eau de Parfum      6342      19-69         3827   \n",
              "2    P473662  Rainbow Bar Eau de Parfum      6342      19-69         3253   \n",
              "3    P473660       Kasbah Eau de Parfum      6342      19-69         3018   \n",
              "4    P473658  Purple Haze Eau de Parfum      6342      19-69         2691   \n",
              "\n",
              "   rating  reviews            size                      variation_type  \\\n",
              "0  3.6364     11.0             NaN                                 NaN   \n",
              "1  4.1538     13.0  3.4 oz/ 100 mL  Size + Concentration + Formulation   \n",
              "2  4.2500     16.0  3.4 oz/ 100 mL  Size + Concentration + Formulation   \n",
              "3  4.4762     21.0  3.4 oz/ 100 mL  Size + Concentration + Formulation   \n",
              "4  3.2308     13.0  3.4 oz/ 100 mL  Size + Concentration + Formulation   \n",
              "\n",
              "  variation_value  ... online_only out_of_stock  sephora_exclusive  \\\n",
              "0             NaN  ...           1            0                  0   \n",
              "1  3.4 oz/ 100 mL  ...           1            0                  0   \n",
              "2  3.4 oz/ 100 mL  ...           1            0                  0   \n",
              "3  3.4 oz/ 100 mL  ...           1            0                  0   \n",
              "4  3.4 oz/ 100 mL  ...           1            0                  0   \n",
              "\n",
              "                                          highlights  primary_category  \\\n",
              "0  ['Unisex/ Genderless Scent', 'Warm &Spicy Scen...         Fragrance   \n",
              "1  ['Unisex/ Genderless Scent', 'Layerable Scent'...         Fragrance   \n",
              "2  ['Unisex/ Genderless Scent', 'Layerable Scent'...         Fragrance   \n",
              "3  ['Unisex/ Genderless Scent', 'Layerable Scent'...         Fragrance   \n",
              "4  ['Unisex/ Genderless Scent', 'Layerable Scent'...         Fragrance   \n",
              "\n",
              "   secondary_category  tertiary_category  child_count  child_max_price  \\\n",
              "0   Value & Gift Sets  Perfume Gift Sets            0              NaN   \n",
              "1               Women            Perfume            2             85.0   \n",
              "2               Women            Perfume            2             75.0   \n",
              "3               Women            Perfume            2             75.0   \n",
              "4               Women            Perfume            2             75.0   \n",
              "\n",
              "   child_min_price  \n",
              "0              NaN  \n",
              "1             30.0  \n",
              "2             30.0  \n",
              "3             30.0  \n",
              "4             30.0  \n",
              "\n",
              "[5 rows x 27 columns]"
            ],
            "text/html": [
              "\n",
              "  <div id=\"df-8d165c8a-f1d2-47f2-b596-1455f90735cc\" class=\"colab-df-container\">\n",
              "    <div>\n",
              "<style scoped>\n",
              "    .dataframe tbody tr th:only-of-type {\n",
              "        vertical-align: middle;\n",
              "    }\n",
              "\n",
              "    .dataframe tbody tr th {\n",
              "        vertical-align: top;\n",
              "    }\n",
              "\n",
              "    .dataframe thead th {\n",
              "        text-align: right;\n",
              "    }\n",
              "</style>\n",
              "<table border=\"1\" class=\"dataframe\">\n",
              "  <thead>\n",
              "    <tr style=\"text-align: right;\">\n",
              "      <th></th>\n",
              "      <th>product_id</th>\n",
              "      <th>product_name</th>\n",
              "      <th>brand_id</th>\n",
              "      <th>brand_name</th>\n",
              "      <th>loves_count</th>\n",
              "      <th>rating</th>\n",
              "      <th>reviews</th>\n",
              "      <th>size</th>\n",
              "      <th>variation_type</th>\n",
              "      <th>variation_value</th>\n",
              "      <th>...</th>\n",
              "      <th>online_only</th>\n",
              "      <th>out_of_stock</th>\n",
              "      <th>sephora_exclusive</th>\n",
              "      <th>highlights</th>\n",
              "      <th>primary_category</th>\n",
              "      <th>secondary_category</th>\n",
              "      <th>tertiary_category</th>\n",
              "      <th>child_count</th>\n",
              "      <th>child_max_price</th>\n",
              "      <th>child_min_price</th>\n",
              "    </tr>\n",
              "  </thead>\n",
              "  <tbody>\n",
              "    <tr>\n",
              "      <th>0</th>\n",
              "      <td>P473671</td>\n",
              "      <td>Fragrance Discovery Set</td>\n",
              "      <td>6342</td>\n",
              "      <td>19-69</td>\n",
              "      <td>6320</td>\n",
              "      <td>3.6364</td>\n",
              "      <td>11.0</td>\n",
              "      <td>NaN</td>\n",
              "      <td>NaN</td>\n",
              "      <td>NaN</td>\n",
              "      <td>...</td>\n",
              "      <td>1</td>\n",
              "      <td>0</td>\n",
              "      <td>0</td>\n",
              "      <td>['Unisex/ Genderless Scent', 'Warm &amp;Spicy Scen...</td>\n",
              "      <td>Fragrance</td>\n",
              "      <td>Value &amp; Gift Sets</td>\n",
              "      <td>Perfume Gift Sets</td>\n",
              "      <td>0</td>\n",
              "      <td>NaN</td>\n",
              "      <td>NaN</td>\n",
              "    </tr>\n",
              "    <tr>\n",
              "      <th>1</th>\n",
              "      <td>P473668</td>\n",
              "      <td>La Habana Eau de Parfum</td>\n",
              "      <td>6342</td>\n",
              "      <td>19-69</td>\n",
              "      <td>3827</td>\n",
              "      <td>4.1538</td>\n",
              "      <td>13.0</td>\n",
              "      <td>3.4 oz/ 100 mL</td>\n",
              "      <td>Size + Concentration + Formulation</td>\n",
              "      <td>3.4 oz/ 100 mL</td>\n",
              "      <td>...</td>\n",
              "      <td>1</td>\n",
              "      <td>0</td>\n",
              "      <td>0</td>\n",
              "      <td>['Unisex/ Genderless Scent', 'Layerable Scent'...</td>\n",
              "      <td>Fragrance</td>\n",
              "      <td>Women</td>\n",
              "      <td>Perfume</td>\n",
              "      <td>2</td>\n",
              "      <td>85.0</td>\n",
              "      <td>30.0</td>\n",
              "    </tr>\n",
              "    <tr>\n",
              "      <th>2</th>\n",
              "      <td>P473662</td>\n",
              "      <td>Rainbow Bar Eau de Parfum</td>\n",
              "      <td>6342</td>\n",
              "      <td>19-69</td>\n",
              "      <td>3253</td>\n",
              "      <td>4.2500</td>\n",
              "      <td>16.0</td>\n",
              "      <td>3.4 oz/ 100 mL</td>\n",
              "      <td>Size + Concentration + Formulation</td>\n",
              "      <td>3.4 oz/ 100 mL</td>\n",
              "      <td>...</td>\n",
              "      <td>1</td>\n",
              "      <td>0</td>\n",
              "      <td>0</td>\n",
              "      <td>['Unisex/ Genderless Scent', 'Layerable Scent'...</td>\n",
              "      <td>Fragrance</td>\n",
              "      <td>Women</td>\n",
              "      <td>Perfume</td>\n",
              "      <td>2</td>\n",
              "      <td>75.0</td>\n",
              "      <td>30.0</td>\n",
              "    </tr>\n",
              "    <tr>\n",
              "      <th>3</th>\n",
              "      <td>P473660</td>\n",
              "      <td>Kasbah Eau de Parfum</td>\n",
              "      <td>6342</td>\n",
              "      <td>19-69</td>\n",
              "      <td>3018</td>\n",
              "      <td>4.4762</td>\n",
              "      <td>21.0</td>\n",
              "      <td>3.4 oz/ 100 mL</td>\n",
              "      <td>Size + Concentration + Formulation</td>\n",
              "      <td>3.4 oz/ 100 mL</td>\n",
              "      <td>...</td>\n",
              "      <td>1</td>\n",
              "      <td>0</td>\n",
              "      <td>0</td>\n",
              "      <td>['Unisex/ Genderless Scent', 'Layerable Scent'...</td>\n",
              "      <td>Fragrance</td>\n",
              "      <td>Women</td>\n",
              "      <td>Perfume</td>\n",
              "      <td>2</td>\n",
              "      <td>75.0</td>\n",
              "      <td>30.0</td>\n",
              "    </tr>\n",
              "    <tr>\n",
              "      <th>4</th>\n",
              "      <td>P473658</td>\n",
              "      <td>Purple Haze Eau de Parfum</td>\n",
              "      <td>6342</td>\n",
              "      <td>19-69</td>\n",
              "      <td>2691</td>\n",
              "      <td>3.2308</td>\n",
              "      <td>13.0</td>\n",
              "      <td>3.4 oz/ 100 mL</td>\n",
              "      <td>Size + Concentration + Formulation</td>\n",
              "      <td>3.4 oz/ 100 mL</td>\n",
              "      <td>...</td>\n",
              "      <td>1</td>\n",
              "      <td>0</td>\n",
              "      <td>0</td>\n",
              "      <td>['Unisex/ Genderless Scent', 'Layerable Scent'...</td>\n",
              "      <td>Fragrance</td>\n",
              "      <td>Women</td>\n",
              "      <td>Perfume</td>\n",
              "      <td>2</td>\n",
              "      <td>75.0</td>\n",
              "      <td>30.0</td>\n",
              "    </tr>\n",
              "  </tbody>\n",
              "</table>\n",
              "<p>5 rows × 27 columns</p>\n",
              "</div>\n",
              "    <div class=\"colab-df-buttons\">\n",
              "\n",
              "  <div class=\"colab-df-container\">\n",
              "    <button class=\"colab-df-convert\" onclick=\"convertToInteractive('df-8d165c8a-f1d2-47f2-b596-1455f90735cc')\"\n",
              "            title=\"Convert this dataframe to an interactive table.\"\n",
              "            style=\"display:none;\">\n",
              "\n",
              "  <svg xmlns=\"http://www.w3.org/2000/svg\" height=\"24px\" viewBox=\"0 -960 960 960\">\n",
              "    <path d=\"M120-120v-720h720v720H120Zm60-500h600v-160H180v160Zm220 220h160v-160H400v160Zm0 220h160v-160H400v160ZM180-400h160v-160H180v160Zm440 0h160v-160H620v160ZM180-180h160v-160H180v160Zm440 0h160v-160H620v160Z\"/>\n",
              "  </svg>\n",
              "    </button>\n",
              "\n",
              "  <style>\n",
              "    .colab-df-container {\n",
              "      display:flex;\n",
              "      gap: 12px;\n",
              "    }\n",
              "\n",
              "    .colab-df-convert {\n",
              "      background-color: #E8F0FE;\n",
              "      border: none;\n",
              "      border-radius: 50%;\n",
              "      cursor: pointer;\n",
              "      display: none;\n",
              "      fill: #1967D2;\n",
              "      height: 32px;\n",
              "      padding: 0 0 0 0;\n",
              "      width: 32px;\n",
              "    }\n",
              "\n",
              "    .colab-df-convert:hover {\n",
              "      background-color: #E2EBFA;\n",
              "      box-shadow: 0px 1px 2px rgba(60, 64, 67, 0.3), 0px 1px 3px 1px rgba(60, 64, 67, 0.15);\n",
              "      fill: #174EA6;\n",
              "    }\n",
              "\n",
              "    .colab-df-buttons div {\n",
              "      margin-bottom: 4px;\n",
              "    }\n",
              "\n",
              "    [theme=dark] .colab-df-convert {\n",
              "      background-color: #3B4455;\n",
              "      fill: #D2E3FC;\n",
              "    }\n",
              "\n",
              "    [theme=dark] .colab-df-convert:hover {\n",
              "      background-color: #434B5C;\n",
              "      box-shadow: 0px 1px 3px 1px rgba(0, 0, 0, 0.15);\n",
              "      filter: drop-shadow(0px 1px 2px rgba(0, 0, 0, 0.3));\n",
              "      fill: #FFFFFF;\n",
              "    }\n",
              "  </style>\n",
              "\n",
              "    <script>\n",
              "      const buttonEl =\n",
              "        document.querySelector('#df-8d165c8a-f1d2-47f2-b596-1455f90735cc button.colab-df-convert');\n",
              "      buttonEl.style.display =\n",
              "        google.colab.kernel.accessAllowed ? 'block' : 'none';\n",
              "\n",
              "      async function convertToInteractive(key) {\n",
              "        const element = document.querySelector('#df-8d165c8a-f1d2-47f2-b596-1455f90735cc');\n",
              "        const dataTable =\n",
              "          await google.colab.kernel.invokeFunction('convertToInteractive',\n",
              "                                                    [key], {});\n",
              "        if (!dataTable) return;\n",
              "\n",
              "        const docLinkHtml = 'Like what you see? Visit the ' +\n",
              "          '<a target=\"_blank\" href=https://colab.research.google.com/notebooks/data_table.ipynb>data table notebook</a>'\n",
              "          + ' to learn more about interactive tables.';\n",
              "        element.innerHTML = '';\n",
              "        dataTable['output_type'] = 'display_data';\n",
              "        await google.colab.output.renderOutput(dataTable, element);\n",
              "        const docLink = document.createElement('div');\n",
              "        docLink.innerHTML = docLinkHtml;\n",
              "        element.appendChild(docLink);\n",
              "      }\n",
              "    </script>\n",
              "  </div>\n",
              "\n",
              "\n",
              "<div id=\"df-13d5313c-56bd-43f9-a2ef-e5fa7f4b4d00\">\n",
              "  <button class=\"colab-df-quickchart\" onclick=\"quickchart('df-13d5313c-56bd-43f9-a2ef-e5fa7f4b4d00')\"\n",
              "            title=\"Suggest charts\"\n",
              "            style=\"display:none;\">\n",
              "\n",
              "<svg xmlns=\"http://www.w3.org/2000/svg\" height=\"24px\"viewBox=\"0 0 24 24\"\n",
              "     width=\"24px\">\n",
              "    <g>\n",
              "        <path d=\"M19 3H5c-1.1 0-2 .9-2 2v14c0 1.1.9 2 2 2h14c1.1 0 2-.9 2-2V5c0-1.1-.9-2-2-2zM9 17H7v-7h2v7zm4 0h-2V7h2v10zm4 0h-2v-4h2v4z\"/>\n",
              "    </g>\n",
              "</svg>\n",
              "  </button>\n",
              "\n",
              "<style>\n",
              "  .colab-df-quickchart {\n",
              "      --bg-color: #E8F0FE;\n",
              "      --fill-color: #1967D2;\n",
              "      --hover-bg-color: #E2EBFA;\n",
              "      --hover-fill-color: #174EA6;\n",
              "      --disabled-fill-color: #AAA;\n",
              "      --disabled-bg-color: #DDD;\n",
              "  }\n",
              "\n",
              "  [theme=dark] .colab-df-quickchart {\n",
              "      --bg-color: #3B4455;\n",
              "      --fill-color: #D2E3FC;\n",
              "      --hover-bg-color: #434B5C;\n",
              "      --hover-fill-color: #FFFFFF;\n",
              "      --disabled-bg-color: #3B4455;\n",
              "      --disabled-fill-color: #666;\n",
              "  }\n",
              "\n",
              "  .colab-df-quickchart {\n",
              "    background-color: var(--bg-color);\n",
              "    border: none;\n",
              "    border-radius: 50%;\n",
              "    cursor: pointer;\n",
              "    display: none;\n",
              "    fill: var(--fill-color);\n",
              "    height: 32px;\n",
              "    padding: 0;\n",
              "    width: 32px;\n",
              "  }\n",
              "\n",
              "  .colab-df-quickchart:hover {\n",
              "    background-color: var(--hover-bg-color);\n",
              "    box-shadow: 0 1px 2px rgba(60, 64, 67, 0.3), 0 1px 3px 1px rgba(60, 64, 67, 0.15);\n",
              "    fill: var(--button-hover-fill-color);\n",
              "  }\n",
              "\n",
              "  .colab-df-quickchart-complete:disabled,\n",
              "  .colab-df-quickchart-complete:disabled:hover {\n",
              "    background-color: var(--disabled-bg-color);\n",
              "    fill: var(--disabled-fill-color);\n",
              "    box-shadow: none;\n",
              "  }\n",
              "\n",
              "  .colab-df-spinner {\n",
              "    border: 2px solid var(--fill-color);\n",
              "    border-color: transparent;\n",
              "    border-bottom-color: var(--fill-color);\n",
              "    animation:\n",
              "      spin 1s steps(1) infinite;\n",
              "  }\n",
              "\n",
              "  @keyframes spin {\n",
              "    0% {\n",
              "      border-color: transparent;\n",
              "      border-bottom-color: var(--fill-color);\n",
              "      border-left-color: var(--fill-color);\n",
              "    }\n",
              "    20% {\n",
              "      border-color: transparent;\n",
              "      border-left-color: var(--fill-color);\n",
              "      border-top-color: var(--fill-color);\n",
              "    }\n",
              "    30% {\n",
              "      border-color: transparent;\n",
              "      border-left-color: var(--fill-color);\n",
              "      border-top-color: var(--fill-color);\n",
              "      border-right-color: var(--fill-color);\n",
              "    }\n",
              "    40% {\n",
              "      border-color: transparent;\n",
              "      border-right-color: var(--fill-color);\n",
              "      border-top-color: var(--fill-color);\n",
              "    }\n",
              "    60% {\n",
              "      border-color: transparent;\n",
              "      border-right-color: var(--fill-color);\n",
              "    }\n",
              "    80% {\n",
              "      border-color: transparent;\n",
              "      border-right-color: var(--fill-color);\n",
              "      border-bottom-color: var(--fill-color);\n",
              "    }\n",
              "    90% {\n",
              "      border-color: transparent;\n",
              "      border-bottom-color: var(--fill-color);\n",
              "    }\n",
              "  }\n",
              "</style>\n",
              "\n",
              "  <script>\n",
              "    async function quickchart(key) {\n",
              "      const quickchartButtonEl =\n",
              "        document.querySelector('#' + key + ' button');\n",
              "      quickchartButtonEl.disabled = true;  // To prevent multiple clicks.\n",
              "      quickchartButtonEl.classList.add('colab-df-spinner');\n",
              "      try {\n",
              "        const charts = await google.colab.kernel.invokeFunction(\n",
              "            'suggestCharts', [key], {});\n",
              "      } catch (error) {\n",
              "        console.error('Error during call to suggestCharts:', error);\n",
              "      }\n",
              "      quickchartButtonEl.classList.remove('colab-df-spinner');\n",
              "      quickchartButtonEl.classList.add('colab-df-quickchart-complete');\n",
              "    }\n",
              "    (() => {\n",
              "      let quickchartButtonEl =\n",
              "        document.querySelector('#df-13d5313c-56bd-43f9-a2ef-e5fa7f4b4d00 button');\n",
              "      quickchartButtonEl.style.display =\n",
              "        google.colab.kernel.accessAllowed ? 'block' : 'none';\n",
              "    })();\n",
              "  </script>\n",
              "</div>\n",
              "    </div>\n",
              "  </div>\n"
            ],
            "application/vnd.google.colaboratory.intrinsic+json": {
              "type": "dataframe",
              "variable_name": "products"
            }
          },
          "metadata": {},
          "execution_count": 3
        }
      ]
    },
    {
      "cell_type": "code",
      "source": [
        "reviews = pd.read_csv('reviews_1250-end.csv')\n",
        "reviews.head()"
      ],
      "metadata": {
        "colab": {
          "base_uri": "https://localhost:8080/",
          "height": 627
        },
        "id": "IOE4TVrtMSpy",
        "outputId": "6d8f325d-d8cf-4e63-ddbe-ededb3612ccf"
      },
      "execution_count": 4,
      "outputs": [
        {
          "output_type": "stream",
          "name": "stderr",
          "text": [
            "<ipython-input-4-073cac861190>:1: DtypeWarning: Columns (1) have mixed types. Specify dtype option on import or set low_memory=False.\n",
            "  reviews = pd.read_csv('reviews_1250-end.csv')\n"
          ]
        },
        {
          "output_type": "execute_result",
          "data": {
            "text/plain": [
              "   Unnamed: 0    author_id  rating  is_recommended  helpfulness  \\\n",
              "0           0   1945004256       5             1.0     0.000000   \n",
              "1           1   5478482359       3             1.0     0.333333   \n",
              "2           2  29002209922       5             1.0     1.000000   \n",
              "3           3   7391078463       5             1.0     1.000000   \n",
              "4           4   1766313888       5             1.0     1.000000   \n",
              "\n",
              "   total_feedback_count  total_neg_feedback_count  total_pos_feedback_count  \\\n",
              "0                     2                         2                         0   \n",
              "1                     3                         2                         1   \n",
              "2                     2                         0                         2   \n",
              "3                     2                         0                         2   \n",
              "4                    13                         0                        13   \n",
              "\n",
              "  submission_time                                        review_text  \\\n",
              "0      2022-12-10  I absolutely L-O-V-E this oil. I have acne pro...   \n",
              "1      2021-12-17  I gave this 3 stars because it give me tiny li...   \n",
              "2      2021-06-07  Works well as soon as I wash my face and pat d...   \n",
              "3      2021-05-21  this oil helped with hydration and breakouts, ...   \n",
              "4      2021-03-29  This is my first product review ever so that s...   \n",
              "\n",
              "                       review_title    skin_tone eye_color    skin_type  \\\n",
              "0                      A must have!  lightMedium     green  combination   \n",
              "1  it keeps oily skin under control    mediumTan     brown         oily   \n",
              "2                  Worth the money!  lightMedium     brown          dry   \n",
              "3                     best face oil  lightMedium     brown  combination   \n",
              "4                    Maskne miracle    mediumTan     brown  combination   \n",
              "\n",
              "  hair_color product_id                                       product_name  \\\n",
              "0        NaN    P379064  Lotus Balancing & Hydrating Natural Face Treat...   \n",
              "1      black    P379064  Lotus Balancing & Hydrating Natural Face Treat...   \n",
              "2      black    P379064  Lotus Balancing & Hydrating Natural Face Treat...   \n",
              "3     blonde    P379064  Lotus Balancing & Hydrating Natural Face Treat...   \n",
              "4      black    P379064  Lotus Balancing & Hydrating Natural Face Treat...   \n",
              "\n",
              "  brand_name  price_usd  \n",
              "0    Clarins       65.0  \n",
              "1    Clarins       65.0  \n",
              "2    Clarins       65.0  \n",
              "3    Clarins       65.0  \n",
              "4    Clarins       65.0  "
            ],
            "text/html": [
              "\n",
              "  <div id=\"df-2448587d-0cb5-4202-a52e-afc5bc7d6848\" class=\"colab-df-container\">\n",
              "    <div>\n",
              "<style scoped>\n",
              "    .dataframe tbody tr th:only-of-type {\n",
              "        vertical-align: middle;\n",
              "    }\n",
              "\n",
              "    .dataframe tbody tr th {\n",
              "        vertical-align: top;\n",
              "    }\n",
              "\n",
              "    .dataframe thead th {\n",
              "        text-align: right;\n",
              "    }\n",
              "</style>\n",
              "<table border=\"1\" class=\"dataframe\">\n",
              "  <thead>\n",
              "    <tr style=\"text-align: right;\">\n",
              "      <th></th>\n",
              "      <th>Unnamed: 0</th>\n",
              "      <th>author_id</th>\n",
              "      <th>rating</th>\n",
              "      <th>is_recommended</th>\n",
              "      <th>helpfulness</th>\n",
              "      <th>total_feedback_count</th>\n",
              "      <th>total_neg_feedback_count</th>\n",
              "      <th>total_pos_feedback_count</th>\n",
              "      <th>submission_time</th>\n",
              "      <th>review_text</th>\n",
              "      <th>review_title</th>\n",
              "      <th>skin_tone</th>\n",
              "      <th>eye_color</th>\n",
              "      <th>skin_type</th>\n",
              "      <th>hair_color</th>\n",
              "      <th>product_id</th>\n",
              "      <th>product_name</th>\n",
              "      <th>brand_name</th>\n",
              "      <th>price_usd</th>\n",
              "    </tr>\n",
              "  </thead>\n",
              "  <tbody>\n",
              "    <tr>\n",
              "      <th>0</th>\n",
              "      <td>0</td>\n",
              "      <td>1945004256</td>\n",
              "      <td>5</td>\n",
              "      <td>1.0</td>\n",
              "      <td>0.000000</td>\n",
              "      <td>2</td>\n",
              "      <td>2</td>\n",
              "      <td>0</td>\n",
              "      <td>2022-12-10</td>\n",
              "      <td>I absolutely L-O-V-E this oil. I have acne pro...</td>\n",
              "      <td>A must have!</td>\n",
              "      <td>lightMedium</td>\n",
              "      <td>green</td>\n",
              "      <td>combination</td>\n",
              "      <td>NaN</td>\n",
              "      <td>P379064</td>\n",
              "      <td>Lotus Balancing &amp; Hydrating Natural Face Treat...</td>\n",
              "      <td>Clarins</td>\n",
              "      <td>65.0</td>\n",
              "    </tr>\n",
              "    <tr>\n",
              "      <th>1</th>\n",
              "      <td>1</td>\n",
              "      <td>5478482359</td>\n",
              "      <td>3</td>\n",
              "      <td>1.0</td>\n",
              "      <td>0.333333</td>\n",
              "      <td>3</td>\n",
              "      <td>2</td>\n",
              "      <td>1</td>\n",
              "      <td>2021-12-17</td>\n",
              "      <td>I gave this 3 stars because it give me tiny li...</td>\n",
              "      <td>it keeps oily skin under control</td>\n",
              "      <td>mediumTan</td>\n",
              "      <td>brown</td>\n",
              "      <td>oily</td>\n",
              "      <td>black</td>\n",
              "      <td>P379064</td>\n",
              "      <td>Lotus Balancing &amp; Hydrating Natural Face Treat...</td>\n",
              "      <td>Clarins</td>\n",
              "      <td>65.0</td>\n",
              "    </tr>\n",
              "    <tr>\n",
              "      <th>2</th>\n",
              "      <td>2</td>\n",
              "      <td>29002209922</td>\n",
              "      <td>5</td>\n",
              "      <td>1.0</td>\n",
              "      <td>1.000000</td>\n",
              "      <td>2</td>\n",
              "      <td>0</td>\n",
              "      <td>2</td>\n",
              "      <td>2021-06-07</td>\n",
              "      <td>Works well as soon as I wash my face and pat d...</td>\n",
              "      <td>Worth the money!</td>\n",
              "      <td>lightMedium</td>\n",
              "      <td>brown</td>\n",
              "      <td>dry</td>\n",
              "      <td>black</td>\n",
              "      <td>P379064</td>\n",
              "      <td>Lotus Balancing &amp; Hydrating Natural Face Treat...</td>\n",
              "      <td>Clarins</td>\n",
              "      <td>65.0</td>\n",
              "    </tr>\n",
              "    <tr>\n",
              "      <th>3</th>\n",
              "      <td>3</td>\n",
              "      <td>7391078463</td>\n",
              "      <td>5</td>\n",
              "      <td>1.0</td>\n",
              "      <td>1.000000</td>\n",
              "      <td>2</td>\n",
              "      <td>0</td>\n",
              "      <td>2</td>\n",
              "      <td>2021-05-21</td>\n",
              "      <td>this oil helped with hydration and breakouts, ...</td>\n",
              "      <td>best face oil</td>\n",
              "      <td>lightMedium</td>\n",
              "      <td>brown</td>\n",
              "      <td>combination</td>\n",
              "      <td>blonde</td>\n",
              "      <td>P379064</td>\n",
              "      <td>Lotus Balancing &amp; Hydrating Natural Face Treat...</td>\n",
              "      <td>Clarins</td>\n",
              "      <td>65.0</td>\n",
              "    </tr>\n",
              "    <tr>\n",
              "      <th>4</th>\n",
              "      <td>4</td>\n",
              "      <td>1766313888</td>\n",
              "      <td>5</td>\n",
              "      <td>1.0</td>\n",
              "      <td>1.000000</td>\n",
              "      <td>13</td>\n",
              "      <td>0</td>\n",
              "      <td>13</td>\n",
              "      <td>2021-03-29</td>\n",
              "      <td>This is my first product review ever so that s...</td>\n",
              "      <td>Maskne miracle</td>\n",
              "      <td>mediumTan</td>\n",
              "      <td>brown</td>\n",
              "      <td>combination</td>\n",
              "      <td>black</td>\n",
              "      <td>P379064</td>\n",
              "      <td>Lotus Balancing &amp; Hydrating Natural Face Treat...</td>\n",
              "      <td>Clarins</td>\n",
              "      <td>65.0</td>\n",
              "    </tr>\n",
              "  </tbody>\n",
              "</table>\n",
              "</div>\n",
              "    <div class=\"colab-df-buttons\">\n",
              "\n",
              "  <div class=\"colab-df-container\">\n",
              "    <button class=\"colab-df-convert\" onclick=\"convertToInteractive('df-2448587d-0cb5-4202-a52e-afc5bc7d6848')\"\n",
              "            title=\"Convert this dataframe to an interactive table.\"\n",
              "            style=\"display:none;\">\n",
              "\n",
              "  <svg xmlns=\"http://www.w3.org/2000/svg\" height=\"24px\" viewBox=\"0 -960 960 960\">\n",
              "    <path d=\"M120-120v-720h720v720H120Zm60-500h600v-160H180v160Zm220 220h160v-160H400v160Zm0 220h160v-160H400v160ZM180-400h160v-160H180v160Zm440 0h160v-160H620v160ZM180-180h160v-160H180v160Zm440 0h160v-160H620v160Z\"/>\n",
              "  </svg>\n",
              "    </button>\n",
              "\n",
              "  <style>\n",
              "    .colab-df-container {\n",
              "      display:flex;\n",
              "      gap: 12px;\n",
              "    }\n",
              "\n",
              "    .colab-df-convert {\n",
              "      background-color: #E8F0FE;\n",
              "      border: none;\n",
              "      border-radius: 50%;\n",
              "      cursor: pointer;\n",
              "      display: none;\n",
              "      fill: #1967D2;\n",
              "      height: 32px;\n",
              "      padding: 0 0 0 0;\n",
              "      width: 32px;\n",
              "    }\n",
              "\n",
              "    .colab-df-convert:hover {\n",
              "      background-color: #E2EBFA;\n",
              "      box-shadow: 0px 1px 2px rgba(60, 64, 67, 0.3), 0px 1px 3px 1px rgba(60, 64, 67, 0.15);\n",
              "      fill: #174EA6;\n",
              "    }\n",
              "\n",
              "    .colab-df-buttons div {\n",
              "      margin-bottom: 4px;\n",
              "    }\n",
              "\n",
              "    [theme=dark] .colab-df-convert {\n",
              "      background-color: #3B4455;\n",
              "      fill: #D2E3FC;\n",
              "    }\n",
              "\n",
              "    [theme=dark] .colab-df-convert:hover {\n",
              "      background-color: #434B5C;\n",
              "      box-shadow: 0px 1px 3px 1px rgba(0, 0, 0, 0.15);\n",
              "      filter: drop-shadow(0px 1px 2px rgba(0, 0, 0, 0.3));\n",
              "      fill: #FFFFFF;\n",
              "    }\n",
              "  </style>\n",
              "\n",
              "    <script>\n",
              "      const buttonEl =\n",
              "        document.querySelector('#df-2448587d-0cb5-4202-a52e-afc5bc7d6848 button.colab-df-convert');\n",
              "      buttonEl.style.display =\n",
              "        google.colab.kernel.accessAllowed ? 'block' : 'none';\n",
              "\n",
              "      async function convertToInteractive(key) {\n",
              "        const element = document.querySelector('#df-2448587d-0cb5-4202-a52e-afc5bc7d6848');\n",
              "        const dataTable =\n",
              "          await google.colab.kernel.invokeFunction('convertToInteractive',\n",
              "                                                    [key], {});\n",
              "        if (!dataTable) return;\n",
              "\n",
              "        const docLinkHtml = 'Like what you see? Visit the ' +\n",
              "          '<a target=\"_blank\" href=https://colab.research.google.com/notebooks/data_table.ipynb>data table notebook</a>'\n",
              "          + ' to learn more about interactive tables.';\n",
              "        element.innerHTML = '';\n",
              "        dataTable['output_type'] = 'display_data';\n",
              "        await google.colab.output.renderOutput(dataTable, element);\n",
              "        const docLink = document.createElement('div');\n",
              "        docLink.innerHTML = docLinkHtml;\n",
              "        element.appendChild(docLink);\n",
              "      }\n",
              "    </script>\n",
              "  </div>\n",
              "\n",
              "\n",
              "<div id=\"df-d30a29ae-b023-4626-8b1d-221ca15ff122\">\n",
              "  <button class=\"colab-df-quickchart\" onclick=\"quickchart('df-d30a29ae-b023-4626-8b1d-221ca15ff122')\"\n",
              "            title=\"Suggest charts\"\n",
              "            style=\"display:none;\">\n",
              "\n",
              "<svg xmlns=\"http://www.w3.org/2000/svg\" height=\"24px\"viewBox=\"0 0 24 24\"\n",
              "     width=\"24px\">\n",
              "    <g>\n",
              "        <path d=\"M19 3H5c-1.1 0-2 .9-2 2v14c0 1.1.9 2 2 2h14c1.1 0 2-.9 2-2V5c0-1.1-.9-2-2-2zM9 17H7v-7h2v7zm4 0h-2V7h2v10zm4 0h-2v-4h2v4z\"/>\n",
              "    </g>\n",
              "</svg>\n",
              "  </button>\n",
              "\n",
              "<style>\n",
              "  .colab-df-quickchart {\n",
              "      --bg-color: #E8F0FE;\n",
              "      --fill-color: #1967D2;\n",
              "      --hover-bg-color: #E2EBFA;\n",
              "      --hover-fill-color: #174EA6;\n",
              "      --disabled-fill-color: #AAA;\n",
              "      --disabled-bg-color: #DDD;\n",
              "  }\n",
              "\n",
              "  [theme=dark] .colab-df-quickchart {\n",
              "      --bg-color: #3B4455;\n",
              "      --fill-color: #D2E3FC;\n",
              "      --hover-bg-color: #434B5C;\n",
              "      --hover-fill-color: #FFFFFF;\n",
              "      --disabled-bg-color: #3B4455;\n",
              "      --disabled-fill-color: #666;\n",
              "  }\n",
              "\n",
              "  .colab-df-quickchart {\n",
              "    background-color: var(--bg-color);\n",
              "    border: none;\n",
              "    border-radius: 50%;\n",
              "    cursor: pointer;\n",
              "    display: none;\n",
              "    fill: var(--fill-color);\n",
              "    height: 32px;\n",
              "    padding: 0;\n",
              "    width: 32px;\n",
              "  }\n",
              "\n",
              "  .colab-df-quickchart:hover {\n",
              "    background-color: var(--hover-bg-color);\n",
              "    box-shadow: 0 1px 2px rgba(60, 64, 67, 0.3), 0 1px 3px 1px rgba(60, 64, 67, 0.15);\n",
              "    fill: var(--button-hover-fill-color);\n",
              "  }\n",
              "\n",
              "  .colab-df-quickchart-complete:disabled,\n",
              "  .colab-df-quickchart-complete:disabled:hover {\n",
              "    background-color: var(--disabled-bg-color);\n",
              "    fill: var(--disabled-fill-color);\n",
              "    box-shadow: none;\n",
              "  }\n",
              "\n",
              "  .colab-df-spinner {\n",
              "    border: 2px solid var(--fill-color);\n",
              "    border-color: transparent;\n",
              "    border-bottom-color: var(--fill-color);\n",
              "    animation:\n",
              "      spin 1s steps(1) infinite;\n",
              "  }\n",
              "\n",
              "  @keyframes spin {\n",
              "    0% {\n",
              "      border-color: transparent;\n",
              "      border-bottom-color: var(--fill-color);\n",
              "      border-left-color: var(--fill-color);\n",
              "    }\n",
              "    20% {\n",
              "      border-color: transparent;\n",
              "      border-left-color: var(--fill-color);\n",
              "      border-top-color: var(--fill-color);\n",
              "    }\n",
              "    30% {\n",
              "      border-color: transparent;\n",
              "      border-left-color: var(--fill-color);\n",
              "      border-top-color: var(--fill-color);\n",
              "      border-right-color: var(--fill-color);\n",
              "    }\n",
              "    40% {\n",
              "      border-color: transparent;\n",
              "      border-right-color: var(--fill-color);\n",
              "      border-top-color: var(--fill-color);\n",
              "    }\n",
              "    60% {\n",
              "      border-color: transparent;\n",
              "      border-right-color: var(--fill-color);\n",
              "    }\n",
              "    80% {\n",
              "      border-color: transparent;\n",
              "      border-right-color: var(--fill-color);\n",
              "      border-bottom-color: var(--fill-color);\n",
              "    }\n",
              "    90% {\n",
              "      border-color: transparent;\n",
              "      border-bottom-color: var(--fill-color);\n",
              "    }\n",
              "  }\n",
              "</style>\n",
              "\n",
              "  <script>\n",
              "    async function quickchart(key) {\n",
              "      const quickchartButtonEl =\n",
              "        document.querySelector('#' + key + ' button');\n",
              "      quickchartButtonEl.disabled = true;  // To prevent multiple clicks.\n",
              "      quickchartButtonEl.classList.add('colab-df-spinner');\n",
              "      try {\n",
              "        const charts = await google.colab.kernel.invokeFunction(\n",
              "            'suggestCharts', [key], {});\n",
              "      } catch (error) {\n",
              "        console.error('Error during call to suggestCharts:', error);\n",
              "      }\n",
              "      quickchartButtonEl.classList.remove('colab-df-spinner');\n",
              "      quickchartButtonEl.classList.add('colab-df-quickchart-complete');\n",
              "    }\n",
              "    (() => {\n",
              "      let quickchartButtonEl =\n",
              "        document.querySelector('#df-d30a29ae-b023-4626-8b1d-221ca15ff122 button');\n",
              "      quickchartButtonEl.style.display =\n",
              "        google.colab.kernel.accessAllowed ? 'block' : 'none';\n",
              "    })();\n",
              "  </script>\n",
              "</div>\n",
              "    </div>\n",
              "  </div>\n"
            ],
            "application/vnd.google.colaboratory.intrinsic+json": {
              "type": "dataframe",
              "variable_name": "reviews",
              "summary": "{\n  \"name\": \"reviews\",\n  \"rows\": 49977,\n  \"fields\": [\n    {\n      \"column\": \"Unnamed: 0\",\n      \"properties\": {\n        \"dtype\": \"number\",\n        \"std\": 14427,\n        \"min\": 0,\n        \"max\": 49976,\n        \"num_unique_values\": 49977,\n        \"samples\": [\n          38275,\n          32098,\n          25468\n        ],\n        \"semantic_type\": \"\",\n        \"description\": \"\"\n      }\n    },\n    {\n      \"column\": \"author_id\",\n      \"properties\": {\n        \"dtype\": \"string\",\n        \"num_unique_values\": 41457,\n        \"samples\": [\n          \"8774654721\",\n          \"1366391502\",\n          \"1178517639\"\n        ],\n        \"semantic_type\": \"\",\n        \"description\": \"\"\n      }\n    },\n    {\n      \"column\": \"rating\",\n      \"properties\": {\n        \"dtype\": \"number\",\n        \"std\": 1,\n        \"min\": 1,\n        \"max\": 5,\n        \"num_unique_values\": 5,\n        \"samples\": [\n          3,\n          1,\n          2\n        ],\n        \"semantic_type\": \"\",\n        \"description\": \"\"\n      }\n    },\n    {\n      \"column\": \"is_recommended\",\n      \"properties\": {\n        \"dtype\": \"number\",\n        \"std\": 0.38965606221773585,\n        \"min\": 0.0,\n        \"max\": 1.0,\n        \"num_unique_values\": 2,\n        \"samples\": [\n          0.0,\n          1.0\n        ],\n        \"semantic_type\": \"\",\n        \"description\": \"\"\n      }\n    },\n    {\n      \"column\": \"helpfulness\",\n      \"properties\": {\n        \"dtype\": \"number\",\n        \"std\": 0.2963190703322382,\n        \"min\": 0.0,\n        \"max\": 1.0,\n        \"num_unique_values\": 1209,\n        \"samples\": [\n          0.2666670083999634,\n          0.5416669845581055\n        ],\n        \"semantic_type\": \"\",\n        \"description\": \"\"\n      }\n    },\n    {\n      \"column\": \"total_feedback_count\",\n      \"properties\": {\n        \"dtype\": \"number\",\n        \"std\": 21,\n        \"min\": 0,\n        \"max\": 1222,\n        \"num_unique_values\": 255,\n        \"samples\": [\n          224,\n          4\n        ],\n        \"semantic_type\": \"\",\n        \"description\": \"\"\n      }\n    },\n    {\n      \"column\": \"total_neg_feedback_count\",\n      \"properties\": {\n        \"dtype\": \"number\",\n        \"std\": 8,\n        \"min\": 0,\n        \"max\": 1159,\n        \"num_unique_values\": 124,\n        \"samples\": [\n          21,\n          37\n        ],\n        \"semantic_type\": \"\",\n        \"description\": \"\"\n      }\n    },\n    {\n      \"column\": \"total_pos_feedback_count\",\n      \"properties\": {\n        \"dtype\": \"number\",\n        \"std\": 16,\n        \"min\": 0,\n        \"max\": 776,\n        \"num_unique_values\": 212,\n        \"samples\": [\n          61,\n          190\n        ],\n        \"semantic_type\": \"\",\n        \"description\": \"\"\n      }\n    },\n    {\n      \"column\": \"submission_time\",\n      \"properties\": {\n        \"dtype\": \"object\",\n        \"num_unique_values\": 3490,\n        \"samples\": [\n          \"2022-11-26\",\n          \"2015-10-02\"\n        ],\n        \"semantic_type\": \"\",\n        \"description\": \"\"\n      }\n    },\n    {\n      \"column\": \"review_text\",\n      \"properties\": {\n        \"dtype\": \"string\",\n        \"num_unique_values\": 49395,\n        \"samples\": [\n          \"It\\u2019s good for a mineral sunscreen! Very low cast. I didn\\u2019t really notice an overall difference in the tone of my skin though like in the before & after pics attached to this listing. Maybe I didn\\u2019t apply enough? I\\u2019m going to play around with it more and see. Also you want to wait about 5-10 mins after applying your moisturizer before you apply this. It really balled up on me if I applied it too soon after. So far I still prefer the unseen over this. But still a good product!\",\n          \"While I am sure these vitamins are helping my liver, one thing I can guarantee they are doing is alleviating me of the dark circles under my eyes! I usually just to do my make up to make me not look like a dead person, but taking these have been a miracle. I noticed a difference about 3 days into taking this supplement. I would highly recommend this product if dark circles under your eyes is something you struggle with.\"\n        ],\n        \"semantic_type\": \"\",\n        \"description\": \"\"\n      }\n    },\n    {\n      \"column\": \"review_title\",\n      \"properties\": {\n        \"dtype\": \"string\",\n        \"num_unique_values\": 26029,\n        \"samples\": [\n          \"Glowy, hydrated skin\",\n          \"Just an extra way of pampering myself\"\n        ],\n        \"semantic_type\": \"\",\n        \"description\": \"\"\n      }\n    },\n    {\n      \"column\": \"skin_tone\",\n      \"properties\": {\n        \"dtype\": \"category\",\n        \"num_unique_values\": 14,\n        \"samples\": [\n          \"notSureST\",\n          \"porcelain\"\n        ],\n        \"semantic_type\": \"\",\n        \"description\": \"\"\n      }\n    },\n    {\n      \"column\": \"eye_color\",\n      \"properties\": {\n        \"dtype\": \"category\",\n        \"num_unique_values\": 6,\n        \"samples\": [\n          \"green\",\n          \"brown\"\n        ],\n        \"semantic_type\": \"\",\n        \"description\": \"\"\n      }\n    },\n    {\n      \"column\": \"skin_type\",\n      \"properties\": {\n        \"dtype\": \"category\",\n        \"num_unique_values\": 4,\n        \"samples\": [\n          \"oily\",\n          \"normal\"\n        ],\n        \"semantic_type\": \"\",\n        \"description\": \"\"\n      }\n    },\n    {\n      \"column\": \"hair_color\",\n      \"properties\": {\n        \"dtype\": \"category\",\n        \"num_unique_values\": 7,\n        \"samples\": [\n          \"black\",\n          \"blonde\"\n        ],\n        \"semantic_type\": \"\",\n        \"description\": \"\"\n      }\n    },\n    {\n      \"column\": \"product_id\",\n      \"properties\": {\n        \"dtype\": \"category\",\n        \"num_unique_values\": 1104,\n        \"samples\": [\n          \"P386760\",\n          \"P472058\"\n        ],\n        \"semantic_type\": \"\",\n        \"description\": \"\"\n      }\n    },\n    {\n      \"column\": \"product_name\",\n      \"properties\": {\n        \"dtype\": \"category\",\n        \"num_unique_values\": 1097,\n        \"samples\": [\n          \"Absolue Rich Cream Moisturizer\",\n          \"Clarifying Lotion\"\n        ],\n        \"semantic_type\": \"\",\n        \"description\": \"\"\n      }\n    },\n    {\n      \"column\": \"brand_name\",\n      \"properties\": {\n        \"dtype\": \"category\",\n        \"num_unique_values\": 122,\n        \"samples\": [\n          \"HUM Nutrition\",\n          \"ROSE Ingleton MD\"\n        ],\n        \"semantic_type\": \"\",\n        \"description\": \"\"\n      }\n    },\n    {\n      \"column\": \"price_usd\",\n      \"properties\": {\n        \"dtype\": \"number\",\n        \"std\": 72.21172983589739,\n        \"min\": 3.0,\n        \"max\": 1900.0,\n        \"num_unique_values\": 183,\n        \"samples\": [\n          68.0,\n          12.0\n        ],\n        \"semantic_type\": \"\",\n        \"description\": \"\"\n      }\n    }\n  ]\n}"
            }
          },
          "metadata": {},
          "execution_count": 4
        }
      ]
    },
    {
      "cell_type": "markdown",
      "source": [
        "The product information and reviews are merged based on the product ID. Only the product name and review text are kept, and rows with missing values are dropped"
      ],
      "metadata": {
        "id": "MQxMaovVUMGR"
      }
    },
    {
      "cell_type": "code",
      "source": [
        "text = pd.merge(left = products, right=reviews, on = 'product_id')[['product_name_x','review_text']].dropna()\n",
        "text.info()"
      ],
      "metadata": {
        "colab": {
          "base_uri": "https://localhost:8080/"
        },
        "id": "OKjOnMiO9w_C",
        "outputId": "efe5ae0a-9de5-4590-be06-c360f0cec707"
      },
      "execution_count": 5,
      "outputs": [
        {
          "output_type": "stream",
          "name": "stdout",
          "text": [
            "<class 'pandas.core.frame.DataFrame'>\n",
            "Int64Index: 49918 entries, 0 to 49976\n",
            "Data columns (total 2 columns):\n",
            " #   Column          Non-Null Count  Dtype \n",
            "---  ------          --------------  ----- \n",
            " 0   product_name_x  49918 non-null  object\n",
            " 1   review_text     49918 non-null  object\n",
            "dtypes: object(2)\n",
            "memory usage: 1.1+ MB\n"
          ]
        }
      ]
    },
    {
      "cell_type": "code",
      "source": [
        "text.head()"
      ],
      "metadata": {
        "colab": {
          "base_uri": "https://localhost:8080/",
          "height": 206
        },
        "id": "VgwKQ0SVKRch",
        "outputId": "469f93f3-a556-47bb-9907-162a867b3937"
      },
      "execution_count": 6,
      "outputs": [
        {
          "output_type": "execute_result",
          "data": {
            "text/plain": [
              "                   product_name_x  \\\n",
              "0  GENIUS Collagen Calming Relief   \n",
              "1  GENIUS Collagen Calming Relief   \n",
              "2  GENIUS Collagen Calming Relief   \n",
              "3  GENIUS Collagen Calming Relief   \n",
              "4  GENIUS Collagen Calming Relief   \n",
              "\n",
              "                                         review_text  \n",
              "0  This product is amazing. Makes my skin feel so...  \n",
              "1  I pair this with the algae niacinamide moistur...  \n",
              "2  Definitely my favorite I use it for under eye ...  \n",
              "3  I bought this with the toner as I was looking ...  \n",
              "4  Been using for months now. I went in and asked...  "
            ],
            "text/html": [
              "\n",
              "  <div id=\"df-d42fe90b-3a8e-4f3c-8efe-6caf567a0e9e\" class=\"colab-df-container\">\n",
              "    <div>\n",
              "<style scoped>\n",
              "    .dataframe tbody tr th:only-of-type {\n",
              "        vertical-align: middle;\n",
              "    }\n",
              "\n",
              "    .dataframe tbody tr th {\n",
              "        vertical-align: top;\n",
              "    }\n",
              "\n",
              "    .dataframe thead th {\n",
              "        text-align: right;\n",
              "    }\n",
              "</style>\n",
              "<table border=\"1\" class=\"dataframe\">\n",
              "  <thead>\n",
              "    <tr style=\"text-align: right;\">\n",
              "      <th></th>\n",
              "      <th>product_name_x</th>\n",
              "      <th>review_text</th>\n",
              "    </tr>\n",
              "  </thead>\n",
              "  <tbody>\n",
              "    <tr>\n",
              "      <th>0</th>\n",
              "      <td>GENIUS Collagen Calming Relief</td>\n",
              "      <td>This product is amazing. Makes my skin feel so...</td>\n",
              "    </tr>\n",
              "    <tr>\n",
              "      <th>1</th>\n",
              "      <td>GENIUS Collagen Calming Relief</td>\n",
              "      <td>I pair this with the algae niacinamide moistur...</td>\n",
              "    </tr>\n",
              "    <tr>\n",
              "      <th>2</th>\n",
              "      <td>GENIUS Collagen Calming Relief</td>\n",
              "      <td>Definitely my favorite I use it for under eye ...</td>\n",
              "    </tr>\n",
              "    <tr>\n",
              "      <th>3</th>\n",
              "      <td>GENIUS Collagen Calming Relief</td>\n",
              "      <td>I bought this with the toner as I was looking ...</td>\n",
              "    </tr>\n",
              "    <tr>\n",
              "      <th>4</th>\n",
              "      <td>GENIUS Collagen Calming Relief</td>\n",
              "      <td>Been using for months now. I went in and asked...</td>\n",
              "    </tr>\n",
              "  </tbody>\n",
              "</table>\n",
              "</div>\n",
              "    <div class=\"colab-df-buttons\">\n",
              "\n",
              "  <div class=\"colab-df-container\">\n",
              "    <button class=\"colab-df-convert\" onclick=\"convertToInteractive('df-d42fe90b-3a8e-4f3c-8efe-6caf567a0e9e')\"\n",
              "            title=\"Convert this dataframe to an interactive table.\"\n",
              "            style=\"display:none;\">\n",
              "\n",
              "  <svg xmlns=\"http://www.w3.org/2000/svg\" height=\"24px\" viewBox=\"0 -960 960 960\">\n",
              "    <path d=\"M120-120v-720h720v720H120Zm60-500h600v-160H180v160Zm220 220h160v-160H400v160Zm0 220h160v-160H400v160ZM180-400h160v-160H180v160Zm440 0h160v-160H620v160ZM180-180h160v-160H180v160Zm440 0h160v-160H620v160Z\"/>\n",
              "  </svg>\n",
              "    </button>\n",
              "\n",
              "  <style>\n",
              "    .colab-df-container {\n",
              "      display:flex;\n",
              "      gap: 12px;\n",
              "    }\n",
              "\n",
              "    .colab-df-convert {\n",
              "      background-color: #E8F0FE;\n",
              "      border: none;\n",
              "      border-radius: 50%;\n",
              "      cursor: pointer;\n",
              "      display: none;\n",
              "      fill: #1967D2;\n",
              "      height: 32px;\n",
              "      padding: 0 0 0 0;\n",
              "      width: 32px;\n",
              "    }\n",
              "\n",
              "    .colab-df-convert:hover {\n",
              "      background-color: #E2EBFA;\n",
              "      box-shadow: 0px 1px 2px rgba(60, 64, 67, 0.3), 0px 1px 3px 1px rgba(60, 64, 67, 0.15);\n",
              "      fill: #174EA6;\n",
              "    }\n",
              "\n",
              "    .colab-df-buttons div {\n",
              "      margin-bottom: 4px;\n",
              "    }\n",
              "\n",
              "    [theme=dark] .colab-df-convert {\n",
              "      background-color: #3B4455;\n",
              "      fill: #D2E3FC;\n",
              "    }\n",
              "\n",
              "    [theme=dark] .colab-df-convert:hover {\n",
              "      background-color: #434B5C;\n",
              "      box-shadow: 0px 1px 3px 1px rgba(0, 0, 0, 0.15);\n",
              "      filter: drop-shadow(0px 1px 2px rgba(0, 0, 0, 0.3));\n",
              "      fill: #FFFFFF;\n",
              "    }\n",
              "  </style>\n",
              "\n",
              "    <script>\n",
              "      const buttonEl =\n",
              "        document.querySelector('#df-d42fe90b-3a8e-4f3c-8efe-6caf567a0e9e button.colab-df-convert');\n",
              "      buttonEl.style.display =\n",
              "        google.colab.kernel.accessAllowed ? 'block' : 'none';\n",
              "\n",
              "      async function convertToInteractive(key) {\n",
              "        const element = document.querySelector('#df-d42fe90b-3a8e-4f3c-8efe-6caf567a0e9e');\n",
              "        const dataTable =\n",
              "          await google.colab.kernel.invokeFunction('convertToInteractive',\n",
              "                                                    [key], {});\n",
              "        if (!dataTable) return;\n",
              "\n",
              "        const docLinkHtml = 'Like what you see? Visit the ' +\n",
              "          '<a target=\"_blank\" href=https://colab.research.google.com/notebooks/data_table.ipynb>data table notebook</a>'\n",
              "          + ' to learn more about interactive tables.';\n",
              "        element.innerHTML = '';\n",
              "        dataTable['output_type'] = 'display_data';\n",
              "        await google.colab.output.renderOutput(dataTable, element);\n",
              "        const docLink = document.createElement('div');\n",
              "        docLink.innerHTML = docLinkHtml;\n",
              "        element.appendChild(docLink);\n",
              "      }\n",
              "    </script>\n",
              "  </div>\n",
              "\n",
              "\n",
              "<div id=\"df-85e78104-b5a6-41bc-8899-1c2172753666\">\n",
              "  <button class=\"colab-df-quickchart\" onclick=\"quickchart('df-85e78104-b5a6-41bc-8899-1c2172753666')\"\n",
              "            title=\"Suggest charts\"\n",
              "            style=\"display:none;\">\n",
              "\n",
              "<svg xmlns=\"http://www.w3.org/2000/svg\" height=\"24px\"viewBox=\"0 0 24 24\"\n",
              "     width=\"24px\">\n",
              "    <g>\n",
              "        <path d=\"M19 3H5c-1.1 0-2 .9-2 2v14c0 1.1.9 2 2 2h14c1.1 0 2-.9 2-2V5c0-1.1-.9-2-2-2zM9 17H7v-7h2v7zm4 0h-2V7h2v10zm4 0h-2v-4h2v4z\"/>\n",
              "    </g>\n",
              "</svg>\n",
              "  </button>\n",
              "\n",
              "<style>\n",
              "  .colab-df-quickchart {\n",
              "      --bg-color: #E8F0FE;\n",
              "      --fill-color: #1967D2;\n",
              "      --hover-bg-color: #E2EBFA;\n",
              "      --hover-fill-color: #174EA6;\n",
              "      --disabled-fill-color: #AAA;\n",
              "      --disabled-bg-color: #DDD;\n",
              "  }\n",
              "\n",
              "  [theme=dark] .colab-df-quickchart {\n",
              "      --bg-color: #3B4455;\n",
              "      --fill-color: #D2E3FC;\n",
              "      --hover-bg-color: #434B5C;\n",
              "      --hover-fill-color: #FFFFFF;\n",
              "      --disabled-bg-color: #3B4455;\n",
              "      --disabled-fill-color: #666;\n",
              "  }\n",
              "\n",
              "  .colab-df-quickchart {\n",
              "    background-color: var(--bg-color);\n",
              "    border: none;\n",
              "    border-radius: 50%;\n",
              "    cursor: pointer;\n",
              "    display: none;\n",
              "    fill: var(--fill-color);\n",
              "    height: 32px;\n",
              "    padding: 0;\n",
              "    width: 32px;\n",
              "  }\n",
              "\n",
              "  .colab-df-quickchart:hover {\n",
              "    background-color: var(--hover-bg-color);\n",
              "    box-shadow: 0 1px 2px rgba(60, 64, 67, 0.3), 0 1px 3px 1px rgba(60, 64, 67, 0.15);\n",
              "    fill: var(--button-hover-fill-color);\n",
              "  }\n",
              "\n",
              "  .colab-df-quickchart-complete:disabled,\n",
              "  .colab-df-quickchart-complete:disabled:hover {\n",
              "    background-color: var(--disabled-bg-color);\n",
              "    fill: var(--disabled-fill-color);\n",
              "    box-shadow: none;\n",
              "  }\n",
              "\n",
              "  .colab-df-spinner {\n",
              "    border: 2px solid var(--fill-color);\n",
              "    border-color: transparent;\n",
              "    border-bottom-color: var(--fill-color);\n",
              "    animation:\n",
              "      spin 1s steps(1) infinite;\n",
              "  }\n",
              "\n",
              "  @keyframes spin {\n",
              "    0% {\n",
              "      border-color: transparent;\n",
              "      border-bottom-color: var(--fill-color);\n",
              "      border-left-color: var(--fill-color);\n",
              "    }\n",
              "    20% {\n",
              "      border-color: transparent;\n",
              "      border-left-color: var(--fill-color);\n",
              "      border-top-color: var(--fill-color);\n",
              "    }\n",
              "    30% {\n",
              "      border-color: transparent;\n",
              "      border-left-color: var(--fill-color);\n",
              "      border-top-color: var(--fill-color);\n",
              "      border-right-color: var(--fill-color);\n",
              "    }\n",
              "    40% {\n",
              "      border-color: transparent;\n",
              "      border-right-color: var(--fill-color);\n",
              "      border-top-color: var(--fill-color);\n",
              "    }\n",
              "    60% {\n",
              "      border-color: transparent;\n",
              "      border-right-color: var(--fill-color);\n",
              "    }\n",
              "    80% {\n",
              "      border-color: transparent;\n",
              "      border-right-color: var(--fill-color);\n",
              "      border-bottom-color: var(--fill-color);\n",
              "    }\n",
              "    90% {\n",
              "      border-color: transparent;\n",
              "      border-bottom-color: var(--fill-color);\n",
              "    }\n",
              "  }\n",
              "</style>\n",
              "\n",
              "  <script>\n",
              "    async function quickchart(key) {\n",
              "      const quickchartButtonEl =\n",
              "        document.querySelector('#' + key + ' button');\n",
              "      quickchartButtonEl.disabled = true;  // To prevent multiple clicks.\n",
              "      quickchartButtonEl.classList.add('colab-df-spinner');\n",
              "      try {\n",
              "        const charts = await google.colab.kernel.invokeFunction(\n",
              "            'suggestCharts', [key], {});\n",
              "      } catch (error) {\n",
              "        console.error('Error during call to suggestCharts:', error);\n",
              "      }\n",
              "      quickchartButtonEl.classList.remove('colab-df-spinner');\n",
              "      quickchartButtonEl.classList.add('colab-df-quickchart-complete');\n",
              "    }\n",
              "    (() => {\n",
              "      let quickchartButtonEl =\n",
              "        document.querySelector('#df-85e78104-b5a6-41bc-8899-1c2172753666 button');\n",
              "      quickchartButtonEl.style.display =\n",
              "        google.colab.kernel.accessAllowed ? 'block' : 'none';\n",
              "    })();\n",
              "  </script>\n",
              "</div>\n",
              "    </div>\n",
              "  </div>\n"
            ],
            "application/vnd.google.colaboratory.intrinsic+json": {
              "type": "dataframe",
              "variable_name": "text",
              "summary": "{\n  \"name\": \"text\",\n  \"rows\": 49918,\n  \"fields\": [\n    {\n      \"column\": \"product_name_x\",\n      \"properties\": {\n        \"dtype\": \"category\",\n        \"num_unique_values\": 1097,\n        \"samples\": [\n          \"The Daily Vitamin C Day Serum with Antioxidant Complex\",\n          \"Super Multi-Corrective Cream Sunscreen Broad Spectrum SPF 30\",\n          \"GLOfacial Antimicrobial Treatment Tips + Cleaning Brush Accessories\"\n        ],\n        \"semantic_type\": \"\",\n        \"description\": \"\"\n      }\n    },\n    {\n      \"column\": \"review_text\",\n      \"properties\": {\n        \"dtype\": \"string\",\n        \"num_unique_values\": 49395,\n        \"samples\": [\n          \"This is one of my favourite lip oils yet! The formula is very thin, non-sticky and is hydrating while giving you a sheer colour. It is very light on the lips and doesn\\u2019t travel outside the lip line which some lip oils do.  I purchased the shade Pitaya and it has a soft sweet fragrance which reminds me of those tube glosses. This particular shade looks very bright in the component but actually enhances my natural lip colour. I am already looking to purchase the other shades. I can\\u2019t recommend enough!\",\n          \"In full honesty, I begin to judge products by their packaging and I loved the sleek tropical look of this moisturizer. Overall, it was a good moisturizer. The Yuzu, vitamin C and turmeric advertised on the package made me feel like I was putting a smoothie on my face ;) It did leave my face feeling fine so I\\u2019ll take that.\",\n          \"I\\u2019ve enjoyed using the Kate Somerville Daily Deflector Mineral Sunscreen with SPF 40. It has a 100% Mineral formula. It has a super light feel to it. It is not slimy or greasy, like many sunscreens. It is unscented. It has a fancy tilted triangular pump top. I like that it is broad spectrum (including protection from blue light). It hydrates, protects against free radical damage from the sun and is water resistant for 80 minutes! Wow! It has a ceramide complex which strengthens the skin barrier, Vitamin E which provides antioxidant benefits, 17% Non-Nano Zinc Oxide which acts as a physical sunscreen against sun damage, Tasmannia Lanceolata Leaf Extract which reduces redness by calming the skin and Ectoin which provides protection against pollution induced skin damage. It has a high rating of PA++++ meaning it offers a high amount of UVA and UVB protection. I appreciate that it is paraben-free, sulfate-free and phthalate-free. It is safe for sensitive skin. Would recommend!\"\n        ],\n        \"semantic_type\": \"\",\n        \"description\": \"\"\n      }\n    }\n  ]\n}"
            }
          },
          "metadata": {},
          "execution_count": 6
        }
      ]
    },
    {
      "cell_type": "markdown",
      "source": [
        "The data is converted to JSON format, parsed, and then filtered to keep only the product review and the review text."
      ],
      "metadata": {
        "id": "TkA2uk3DUV0r"
      }
    },
    {
      "cell_type": "code",
      "source": [
        "json_data = text.to_json(orient='records')\n",
        "parsed_data = pd.read_json(json_data)\n",
        "filtered_data = [\n",
        "    'product review:' + row['product_name_x'] + ' | ' + row['review_text']\n",
        "    for index, row in parsed_data.iterrows()\n",
        "]\n"
      ],
      "metadata": {
        "id": "WTmmc2NP90_S"
      },
      "execution_count": 8,
      "outputs": []
    },
    {
      "cell_type": "code",
      "source": [
        "# Example of input data\n",
        "filtered_data[0]"
      ],
      "metadata": {
        "colab": {
          "base_uri": "https://localhost:8080/",
          "height": 36
        },
        "id": "9RWOJoZKFAKy",
        "outputId": "8ac0ecda-6711-43eb-e257-faea17ebe27c"
      },
      "execution_count": 9,
      "outputs": [
        {
          "output_type": "execute_result",
          "data": {
            "text/plain": [
              "'product review:GENIUS Collagen Calming Relief | This product is amazing. Makes my skin feel so soft and hydrated and helps with any irritation I have.'"
            ],
            "application/vnd.google.colaboratory.intrinsic+json": {
              "type": "string"
            }
          },
          "metadata": {},
          "execution_count": 9
        }
      ]
    },
    {
      "cell_type": "markdown",
      "source": [
        "## Next the data is tokenized and vectorized using the TextVectorization layer from TensorFlow. The text is standardized to lowercase, the maximum number of tokens is set to 5000, the output mode is set to “int” to output integer indices, and the output sequence length is set to 201 (200 tokens for the input and 1 token for the output)."
      ],
      "metadata": {
        "id": "ytZ19UMaU5Fa"
      }
    },
    {
      "cell_type": "code",
      "source": [
        "def pad_punctuation(s):\n",
        "    s = re.sub(f\"([{string.punctuation}])\", r' \\1 ', s)\n",
        "    s = re.sub(' +', ' ', s)\n",
        "    return s\n",
        "\n",
        "text_data = [pad_punctuation(x) for x in filtered_data]\n",
        "\n",
        "text_ds = tf.data.Dataset.from_tensor_slices(text_data).batch(32).shuffle(1000)\n",
        "\n",
        "vectorize_layer = layers.TextVectorization(\n",
        "    standardize = 'lower',\n",
        "    max_tokens = 5000,\n",
        "    output_mode = \"int\",\n",
        "    output_sequence_length = 200 + 1,\n",
        ")\n",
        "\n",
        "vectorize_layer.adapt(text_ds)\n",
        "vocab = vectorize_layer.get_vocabulary()"
      ],
      "metadata": {
        "id": "xbDzM6dm_GjK"
      },
      "execution_count": 10,
      "outputs": []
    },
    {
      "cell_type": "markdown",
      "source": [
        "### The inputs are prepared by tokenizing the sentences and creating the input and output sequences. The input sequence consists of all tokens except the last one, and the output sequence consists of all tokens except the first one."
      ],
      "metadata": {
        "id": "cAk6Z90sVOIe"
      }
    },
    {
      "cell_type": "code",
      "source": [
        "def prepare_inputs(text):\n",
        "    text = tf.expand_dims(text, -1)\n",
        "    tokenized_sentences = vectorize_layer(text)\n",
        "    x = tokenized_sentences[:, :-1]\n",
        "    y = tokenized_sentences[:, 1:]\n",
        "    return x, y\n",
        "\n",
        "train_ds = text_ds.map(prepare_inputs)"
      ],
      "metadata": {
        "id": "sRQT6DSQAF1J"
      },
      "execution_count": 11,
      "outputs": []
    },
    {
      "cell_type": "code",
      "source": [
        "example_input_output = train_ds.take(1).get_single_element()\n",
        "# Example Input\n",
        "example_input_output[0][0]\n",
        "# Example Output (shifted by one token)\n",
        "example_input_output[1][0]"
      ],
      "metadata": {
        "colab": {
          "base_uri": "https://localhost:8080/"
        },
        "id": "QFMsNWl4HZfj",
        "outputId": "15e3da0e-1e65-4f52-b599-2fdacecc65f8"
      },
      "execution_count": 12,
      "outputs": [
        {
          "output_type": "execute_result",
          "data": {
            "text/plain": [
              "<tf.Tensor: shape=(200,), dtype=int64, numpy=\n",
              "array([  15,   14, 2872, 1823,   26, 1096,  322,  192,   70,  476, 2346,\n",
              "        411,  453,   16,  757,   18,   42,   38,   11,  453,   19,    5,\n",
              "        483,  641,  178,    8,    7,   13,   76,  144,    4,    3,  290,\n",
              "          6,   17,  137,    2,   31,    5,  476, 2346,  111,    2,    3,\n",
              "         24,   43,  114,    8, 1968,   13,   23,   24,   29,   89,  106,\n",
              "        575,    2,    4,    3,   88, 1173,    5, 1294,   98,  103,  117,\n",
              "          7,   13,  188,   18,    0,    0,    0,    0,    0,    0,    0,\n",
              "          0,    0,    0,    0,    0,    0,    0,    0,    0,    0,    0,\n",
              "          0,    0,    0,    0,    0,    0,    0,    0,    0,    0,    0,\n",
              "          0,    0,    0,    0,    0,    0,    0,    0,    0,    0,    0,\n",
              "          0,    0,    0,    0,    0,    0,    0,    0,    0,    0,    0,\n",
              "          0,    0,    0,    0,    0,    0,    0,    0,    0,    0,    0,\n",
              "          0,    0,    0,    0,    0,    0,    0,    0,    0,    0,    0,\n",
              "          0,    0,    0,    0,    0,    0,    0,    0,    0,    0,    0,\n",
              "          0,    0,    0,    0,    0,    0,    0,    0,    0,    0,    0,\n",
              "          0,    0,    0,    0,    0,    0,    0,    0,    0,    0,    0,\n",
              "          0,    0,    0,    0,    0,    0,    0,    0,    0,    0,    0,\n",
              "          0,    0,    0,    0,    0,    0,    0,    0,    0,    0,    0,\n",
              "          0,    0])>"
            ]
          },
          "metadata": {},
          "execution_count": 12
        }
      ]
    },
    {
      "cell_type": "markdown",
      "source": [
        "## To enhance efficiency during the training process, it would be ideal if the attention layer could process every word in the input simultaneously, making predictions about the next word for each. In simpler terms, we want our GPT model to be capable of managing multiple query vectors concurrently (i.e., in the form of a matrix). One might assume that we could simply group the vectors into a matrix and let linear algebra do the heavy lifting. While this is partially correct, there's an additional step required - we need to apply a mask to the dot product of the query/key to prevent future words from inadvertently revealing information. This process is referred to as causal masking"
      ],
      "metadata": {
        "id": "WCKsNgvWVlhB"
      }
    },
    {
      "cell_type": "code",
      "source": [
        "def causal_attention_mask(batch_size, n_dest, n_src, dtype):\n",
        "    i = tf.range(n_dest)[:, None]\n",
        "    j = tf.range(n_src)\n",
        "    m = i >= j - n_src + n_dest\n",
        "    mask = tf.cast(m, dtype)\n",
        "    mask = tf.reshape(mask, [1, n_dest, n_src])\n",
        "    mult = tf.concat(\n",
        "        [tf.expand_dims(batch_size, -1), tf.constant([1, 1], dtype=tf.int32)], 0\n",
        "    )\n",
        "    return tf.tile(mask, mult)\n",
        "\n",
        "\n",
        "np.transpose(causal_attention_mask(1, 10, 10, dtype=tf.int32)[0])"
      ],
      "metadata": {
        "colab": {
          "base_uri": "https://localhost:8080/"
        },
        "id": "tnFNbYPaAS1j",
        "outputId": "b71d1143-0a47-4e81-83f2-4c4c773672e7"
      },
      "execution_count": 13,
      "outputs": [
        {
          "output_type": "execute_result",
          "data": {
            "text/plain": [
              "array([[1, 1, 1, 1, 1, 1, 1, 1, 1, 1],\n",
              "       [0, 1, 1, 1, 1, 1, 1, 1, 1, 1],\n",
              "       [0, 0, 1, 1, 1, 1, 1, 1, 1, 1],\n",
              "       [0, 0, 0, 1, 1, 1, 1, 1, 1, 1],\n",
              "       [0, 0, 0, 0, 1, 1, 1, 1, 1, 1],\n",
              "       [0, 0, 0, 0, 0, 1, 1, 1, 1, 1],\n",
              "       [0, 0, 0, 0, 0, 0, 1, 1, 1, 1],\n",
              "       [0, 0, 0, 0, 0, 0, 0, 1, 1, 1],\n",
              "       [0, 0, 0, 0, 0, 0, 0, 0, 1, 1],\n",
              "       [0, 0, 0, 0, 0, 0, 0, 0, 0, 1]], dtype=int32)"
            ]
          },
          "metadata": {},
          "execution_count": 13
        }
      ]
    },
    {
      "cell_type": "markdown",
      "source": [
        "## A Transformer block is an integral part of a Transformer model that incorporates skip connections, feed-forward layers, and normalization around the multihead attention layer. The query is circulated around the multihead attention layer and added to the output, forming a skip connection. This is a common feature in contemporary deep learning architectures, allowing the construction of deep neural networks that are less affected by the vanishing gradient problem. The skip connection acts as a gradient-free pathway, facilitating uninterrupted information transfer. Layer normalization is employed in the Transformer block to stabilize the training process. Unlike batch normalization, which normalizes the output from each channel to have a mean of 0 and standard deviation of 1 across the batch and spatial dimensions, layer normalization in a Transformer block normalizes each position of each sequence in the batch by calculating the normalizing statistics across the channels. This is the exact inverse of batch normalization in terms of how the normalization statistics are computed. Finally, the Transformer block includes a set of feed-forward (densely connected) layers. These layers enable the component to extract more complex features as the network delves deeper."
      ],
      "metadata": {
        "id": "aIVSgSXsXOn4"
      }
    },
    {
      "cell_type": "markdown",
      "source": [
        "![image.png](data:image/png;base64,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)"
      ],
      "metadata": {
        "id": "CAxDBIGoXfdp"
      }
    },
    {
      "cell_type": "code",
      "source": [
        "class TransformerBlock(layers.Layer):\n",
        "    def __init__(self, num_heads, key_dim, embed_dim, ff_dim, dropout_rate=0.1):\n",
        "        super(TransformerBlock, self).__init__()\n",
        "        self.num_heads = num_heads\n",
        "        self.key_dim = key_dim\n",
        "        self.embed_dim = embed_dim\n",
        "        self.ff_dim = ff_dim\n",
        "        self.dropout_rate = dropout_rate\n",
        "        self.attn = layers.MultiHeadAttention(\n",
        "            num_heads, key_dim, output_shape=embed_dim\n",
        "        )\n",
        "        self.dropout_1 = layers.Dropout(self.dropout_rate)\n",
        "        self.ln_1 = layers.LayerNormalization(epsilon=1e-6)\n",
        "        self.ffn_1 = layers.Dense(self.ff_dim, activation=\"relu\")\n",
        "        self.ffn_2 = layers.Dense(self.embed_dim)\n",
        "        self.dropout_2 = layers.Dropout(self.dropout_rate)\n",
        "        self.ln_2 = layers.LayerNormalization(epsilon=1e-6)\n",
        "\n",
        "    def call(self, inputs):\n",
        "        input_shape = tf.shape(inputs)\n",
        "        batch_size = input_shape[0]\n",
        "        seq_len = input_shape[1]\n",
        "        causal_mask = causal_attention_mask(\n",
        "            batch_size, seq_len, seq_len, tf.bool\n",
        "        )\n",
        "        attention_output, attention_scores = self.attn(\n",
        "            inputs,\n",
        "            inputs,\n",
        "            attention_mask=causal_mask,\n",
        "            return_attention_scores=True,\n",
        "        )\n",
        "        attention_output = self.dropout_1(attention_output)\n",
        "        out1 = self.ln_1(inputs + attention_output)\n",
        "        ffn_1 = self.ffn_1(out1)\n",
        "        ffn_2 = self.ffn_2(ffn_1)\n",
        "        ffn_output = self.dropout_2(ffn_2)\n",
        "        return (self.ln_2(out1 + ffn_output), attention_scores)\n",
        "\n",
        "    def get_config(self):\n",
        "        config = super().get_config()\n",
        "        config.update(\n",
        "            {\n",
        "                \"key_dim\": self.key_dim,\n",
        "                \"embed_dim\": self.embed_dim,\n",
        "                \"num_heads\": self.num_heads,\n",
        "                \"ff_dim\": self.ff_dim,\n",
        "                \"dropout_rate\": self.dropout_rate,\n",
        "            }\n",
        "        )\n",
        "        return config"
      ],
      "metadata": {
        "id": "7L881bGzHjuR"
      },
      "execution_count": 14,
      "outputs": []
    },
    {
      "cell_type": "markdown",
      "source": [
        "# Positional Encoding in GPT Model\n",
        "\n",
        "Before we can proceed with training our GPT model, there’s a crucial step to address. You might have observed that the multihead attention layer doesn’t consider the sequence of the keys. The dot product between each key and the query is computed simultaneously, not sequentially as in a recurrent neural network. This parallel computation is advantageous due to efficiency gains, but it also presents a challenge. We need the attention layer to predict different outputs for different sentence contexts, such as:\n",
        "\n",
        "The dog looked at the boy and …​ (barked?)\n",
        "\n",
        "The boy looked at the dog and …​ (smiled?)\n",
        "\n",
        "To overcome this issue, we employ a method known as positional encoding when generating the inputs for the initial Transformer block. Instead of merely encoding each token using a token embedding, we also encode the token’s position using a position embedding.\n",
        "\n",
        "The token embedding is formed using a standard Embedding layer that transforms each token into a learned vector. Similarly, we can create the positional embedding using a standard Embedding layer that converts each integer position into a learned vector.\n",
        "\n",
        "The joint token-position encoding is constructed by adding the token embedding to the positional embedding. This approach ensures that each word’s meaning and position in the sequence are encapsulated in a single vector."
      ],
      "metadata": {
        "id": "8QfG0HqBYATJ"
      }
    },
    {
      "cell_type": "code",
      "source": [
        "class TokenAndPositionEmbedding(layers.Layer):\n",
        "    def __init__(self, max_len, vocab_size, embed_dim):\n",
        "        super(TokenAndPositionEmbedding, self).__init__()\n",
        "        self.max_len = max_len\n",
        "        self.vocab_size = vocab_size\n",
        "        self.embed_dim = embed_dim\n",
        "        self.token_emb = layers.Embedding(\n",
        "            input_dim=vocab_size, output_dim=embed_dim\n",
        "        )\n",
        "        self.pos_emb = layers.Embedding(input_dim=max_len, output_dim=embed_dim)\n",
        "\n",
        "    def call(self, x):\n",
        "        maxlen = tf.shape(x)[-1]\n",
        "        positions = tf.range(start=0, limit=maxlen, delta=1)\n",
        "        positions = self.pos_emb(positions)\n",
        "        x = self.token_emb(x)\n",
        "        return x + positions\n",
        "\n",
        "    def get_config(self):\n",
        "        config = super().get_config()\n",
        "        config.update(\n",
        "            {\n",
        "                \"max_len\": self.max_len,\n",
        "                \"vocab_size\": self.vocab_size,\n",
        "                \"embed_dim\": self.embed_dim,\n",
        "            }\n",
        "        )\n",
        "        return config"
      ],
      "metadata": {
        "id": "NANK3QkpHnXK"
      },
      "execution_count": 15,
      "outputs": []
    },
    {
      "cell_type": "code",
      "source": [
        "inputs = layers.Input(shape=(None,), dtype=tf.int32)\n",
        "x = TokenAndPositionEmbedding(MAX_LEN, VOCAB_SIZE, EMBEDDING_DIM)(inputs)\n",
        "x, attention_scores = TransformerBlock(\n",
        "    N_HEADS, KEY_DIM, EMBEDDING_DIM, FEED_FORWARD_DIM\n",
        ")(x)\n",
        "outputs = layers.Dense(VOCAB_SIZE, activation=\"softmax\")(x)\n",
        "gpt = models.Model(inputs=inputs, outputs=[outputs, attention_scores])\n",
        "gpt.compile(\"adam\", loss=[losses.SparseCategoricalCrossentropy(), None])"
      ],
      "metadata": {
        "id": "15X5g4NpHrnp"
      },
      "execution_count": 16,
      "outputs": []
    },
    {
      "cell_type": "markdown",
      "source": [
        "# The TextGenerator class is a callback that generates text at the end of each epoch during model training:\n",
        "\n",
        "\n",
        "*   __init__(self, index_to_word, top_k=10): This method initializes the TextGenerator object. It creates a mapping from words to their corresponding indices (word_to_index) using the provided index_to_word dictionary.\n",
        "*   sample_from(self, probs, temperature): This method takes in a probability distribution (probs) and a temperature parameter. It adjusts the probabilities using the temperature (higher values make the distribution more uniform, lower values make it more peaky) and then samples a token from this adjusted distribution.\n",
        "* generate(self, start_prompt, max_tokens, temperature): This method generates a sequence of tokens. It starts with converting the start_prompt into a list of tokens. Then, in a loop that continues until the generated sequence is max_tokens long or a stop token (0) is produced, it does the following:\n",
        " * Feeds the current sequence of tokens into the model to get the probabilities of each possible next token.\n",
        " * Samples a token from these probabilities using the sample_from method.\n",
        "Appends the sampled token to the sequence.\n",
        " * Adds the sampled token to the start_prompt string for the next iteration.\n",
        "* on_epoch_end(self, epoch, logs=None): This method is automatically called at the end of each epoch during training. It calls the generate method to generate a text sequence starting with “recipe for”, with a maximum length of 100 tokens, and a temperature of 1.0.\n",
        "\n",
        "\n",
        "\n",
        "\n",
        "\n",
        "\n",
        "\n",
        "\n",
        "\n",
        "\n",
        "\n"
      ],
      "metadata": {
        "id": "40JpbbxlY7jp"
      }
    },
    {
      "cell_type": "code",
      "source": [
        "# Create a TextGenerator checkpoint\n",
        "class TextGenerator(callbacks.Callback):\n",
        "    def __init__(self, index_to_word, top_k=10):\n",
        "        self.index_to_word = index_to_word\n",
        "        self.word_to_index = {\n",
        "            word: index for index, word in enumerate(index_to_word)\n",
        "        }\n",
        "\n",
        "    def sample_from(self, probs, temperature):\n",
        "        probs = probs ** (1 / temperature)\n",
        "        probs = probs / np.sum(probs)\n",
        "        return np.random.choice(len(probs), p=probs), probs\n",
        "\n",
        "    def generate(self, start_prompt, max_tokens, temperature):\n",
        "        start_tokens = [\n",
        "            self.word_to_index.get(x, 1) for x in start_prompt.split()\n",
        "        ]\n",
        "        sample_token = None\n",
        "        info = []\n",
        "        while len(start_tokens) < max_tokens and sample_token != 0:\n",
        "            x = np.array([start_tokens])\n",
        "            y, att = self.model.predict(x, verbose=0)\n",
        "            sample_token, probs = self.sample_from(y[0][-1], temperature)\n",
        "            info.append(\n",
        "                {\n",
        "                    \"prompt\": start_prompt,\n",
        "                    \"word_probs\": probs,\n",
        "                    \"atts\": att[0, :, -1, :],\n",
        "                }\n",
        "            )\n",
        "            start_tokens.append(sample_token)\n",
        "            start_prompt = start_prompt + \" \" + self.index_to_word[sample_token]\n",
        "        print(f\"\\ngenerated text:\\n{start_prompt}\\n\")\n",
        "        return info\n",
        "\n",
        "    def on_epoch_end(self, epoch, logs=None):\n",
        "        self.generate(\"product review:\", max_tokens=100, temperature=1)"
      ],
      "metadata": {
        "id": "2r6t9y0aAxGC"
      },
      "execution_count": 29,
      "outputs": []
    },
    {
      "cell_type": "code",
      "source": [
        "#Create a model save checkpoint\n",
        "model_checkpoint_callback = callbacks.ModelCheckpoint(\n",
        "    filepath=\"./checkpoint/checkpoint.ckpt\",\n",
        "    save_weights_only=True,\n",
        "    save_freq=\"epoch\",\n",
        "    verbose=0,\n",
        ")\n",
        "\n",
        "tensorboard_callback = callbacks.TensorBoard(log_dir=\"./logs\")\n",
        "\n",
        "# Tokenize starting prompt\n",
        "text_generator = TextGenerator(vocab)"
      ],
      "metadata": {
        "id": "mhdkr02eBUng"
      },
      "execution_count": 30,
      "outputs": []
    },
    {
      "cell_type": "code",
      "source": [
        "gpt.fit(\n",
        "    train_ds,\n",
        "    epochs=EPOCHS,\n",
        "    callbacks=[model_checkpoint_callback, tensorboard_callback, text_generator],\n",
        ")"
      ],
      "metadata": {
        "colab": {
          "base_uri": "https://localhost:8080/"
        },
        "id": "x897EWtND_xJ",
        "outputId": "148fded2-89ed-4e5c-a29c-d270ebb84e84"
      },
      "execution_count": 31,
      "outputs": [
        {
          "output_type": "stream",
          "name": "stdout",
          "text": [
            "Epoch 1/5\n",
            "   5/1560 [..............................] - ETA: 1:19 - loss: 1.2952 - dense_2_loss: 1.2952"
          ]
        },
        {
          "output_type": "stream",
          "name": "stderr",
          "text": [
            "WARNING:tensorflow:Callback method `on_train_batch_end` is slow compared to the batch time (batch time: 0.0277s vs `on_train_batch_end` time: 0.0278s). Check your callbacks.\n"
          ]
        },
        {
          "output_type": "stream",
          "name": "stdout",
          "text": [
            "1559/1560 [============================>.] - ETA: 0s - loss: 1.1784 - dense_2_loss: 1.1784\n",
            "generated text:\n",
            "product review: un [UNK] dr . brandt [UNK] | this [UNK] cream that left me feel on [UNK] - the lift . the needle se [UNK] moisturizing winter & i had the [UNK] ( goals ) . \n",
            "\n",
            "1560/1560 [==============================] - 72s 46ms/step - loss: 1.1786 - dense_2_loss: 1.1786\n",
            "Epoch 2/5\n",
            "1559/1560 [============================>.] - ETA: 0s - loss: 1.1636 - dense_2_loss: 1.1636\n",
            "generated text:\n",
            "product review: : white moisturizing reset spray peptides + lip plumpfix | fan - to come out other lip balms i’ve tried and have used my lip white blemishes and my lips , maybe i’d give an itch constantly faced lip product that didn’t help with my lips lines . the smell is really good and moisturizing but it is nice as well as despite it is not that the issue ones do the job at home with what it might be . i used it so far and i’ll be using algenist products . it up smoothing and the\n",
            "\n",
            "1560/1560 [==============================] - 77s 49ms/step - loss: 1.1635 - dense_2_loss: 1.1635\n",
            "Epoch 3/5\n",
            "1559/1560 [============================>.] - ETA: 0s - loss: 1.1493 - dense_2_loss: 1.1493\n",
            "generated text:\n",
            "product review: mist the water soothing cream | i decided to try this product from the reviews . i received from the liftwear cleanser i use for 5 days on my face once . i have a week now and i freaking definitely see a difference . if you get a little more then run . i don’t like it either as it’s very soothing . if i will use this long to be bigger just yet it’s a life saver on the skin . smells so delicious , i can get my eyelids and doesn’t feel super hydrated ,\n",
            "\n",
            "1560/1560 [==============================] - 76s 49ms/step - loss: 1.1492 - dense_2_loss: 1.1492\n",
            "Epoch 4/5\n",
            "1560/1560 [==============================] - ETA: 0s - loss: 1.1402 - dense_2_loss: 1.1402\n",
            "generated text:\n",
            "product review: or it’s whole [UNK] sunscreen even better myself [UNK] than can be honest on this . the [UNK] friend or there are better results . price [UNK] up without refills . the [UNK] and wants to clarify both eyes jam and gels are the cake in the morning and the refreshing . \n",
            "\n",
            "1560/1560 [==============================] - 73s 47ms/step - loss: 1.1402 - dense_2_loss: 1.1402\n",
            "Epoch 5/5\n",
            "1560/1560 [==============================] - ETA: 0s - loss: 1.1294 - dense_2_loss: 1.1294\n",
            "generated text:\n",
            "product review: un visage + two [UNK] beaucoup plus avec [UNK] que [UNK] pour [UNK] . their [UNK] ma peau est [UNK] crème avec mes [UNK] [UNK] en [UNK] big stupid piece [UNK] ! . \n",
            "\n",
            "1560/1560 [==============================] - 71s 45ms/step - loss: 1.1294 - dense_2_loss: 1.1294\n"
          ]
        },
        {
          "output_type": "execute_result",
          "data": {
            "text/plain": [
              "<keras.src.callbacks.History at 0x7cb907521600>"
            ]
          },
          "metadata": {},
          "execution_count": 31
        }
      ]
    },
    {
      "cell_type": "code",
      "source": [
        "def print_probs(info, vocab, top_k=5):\n",
        "    for i in info:\n",
        "        highlighted_text = []\n",
        "        for word, att_score in zip(\n",
        "            i[\"prompt\"].split(), np.mean(i[\"atts\"], axis=0)\n",
        "        ):\n",
        "            highlighted_text.append(\n",
        "                '<span style=\"background-color:rgba(135,206,250,'\n",
        "                + str(att_score / max(np.mean(i[\"atts\"], axis=0)))\n",
        "                + ');\">'\n",
        "                + word\n",
        "                + \"</span>\"\n",
        "            )\n",
        "        highlighted_text = \" \".join(highlighted_text)\n",
        "        display(HTML(highlighted_text))\n",
        "\n",
        "        word_probs = i[\"word_probs\"]\n",
        "        p_sorted = np.sort(word_probs)[::-1][:top_k]\n",
        "        i_sorted = np.argsort(word_probs)[::-1][:top_k]\n",
        "        for p, i in zip(p_sorted, i_sorted):\n",
        "            print(f\"{vocab[i]}:   \\t{np.round(100*p,2)}%\")\n",
        "        print(\"--------\\n\")"
      ],
      "metadata": {
        "id": "v4iAc0Y0ClbS"
      },
      "execution_count": 26,
      "outputs": []
    },
    {
      "cell_type": "markdown",
      "source": [
        "# Examples :"
      ],
      "metadata": {
        "id": "Yugj8wxmZwgJ"
      }
    },
    {
      "cell_type": "code",
      "source": [
        "info = text_generator.generate(\n",
        "    \"review for hyaluronic acid booster \", max_tokens=100, temperature=0.05\n",
        ")"
      ],
      "metadata": {
        "colab": {
          "base_uri": "https://localhost:8080/"
        },
        "id": "ESmPLI_gcU-L",
        "outputId": "1db7d557-c80e-48ea-9255-edbc4dffc576"
      },
      "execution_count": 51,
      "outputs": [
        {
          "output_type": "stream",
          "name": "stdout",
          "text": [
            "\n",
            "generated text:\n",
            "review for hyaluronic acid booster  | this is a great moisturizer ! i have combination skin and i love how it feels on my skin . i use it as a primer and it doesn’t make my skin feel dry . i use it as a primer and it works great on my skin . i use it as a primer and it works great ! \n",
            "\n"
          ]
        }
      ]
    },
    {
      "cell_type": "code",
      "source": [
        "info = text_generator.generate(\n",
        "    \"review for hyaluronic acid booster \", max_tokens=100, temperature=0.5\n",
        ")"
      ],
      "metadata": {
        "colab": {
          "base_uri": "https://localhost:8080/"
        },
        "id": "1tfznghtCx2a",
        "outputId": "0546c94d-0b1f-4c10-d6d3-e39797d01178"
      },
      "execution_count": 32,
      "outputs": [
        {
          "output_type": "stream",
          "name": "stdout",
          "text": [
            "\n",
            "generated text:\n",
            "review for hyaluronic acid booster  | this is a great product . i have sensitive skin and this is the perfect size ! i have sensitive skin and this is the perfect amount of hydration and the texture is perfect . it absorbs quickly without leaving a residue . i love that it is vegan and cruelty free . \n",
            "\n"
          ]
        }
      ]
    },
    {
      "cell_type": "code",
      "source": [
        "info = text_generator.generate(\n",
        "    \"review for hyaluronic acid booster \", max_tokens=100, temperature=1\n",
        ")"
      ],
      "metadata": {
        "colab": {
          "base_uri": "https://localhost:8080/"
        },
        "id": "2Iq2ted9baBw",
        "outputId": "fb733716-f867-42be-9bb6-f5aea3f7f6c5"
      },
      "execution_count": 49,
      "outputs": [
        {
          "output_type": "stream",
          "name": "stdout",
          "text": [
            "\n",
            "generated text:\n",
            "review for hyaluronic acid booster  | powerful hydrating facials peel , and peptide skin & hyaluronic acid loves it and honey halo ! ! doesn’t break me out this product so much hydration it made so much easier ! \n",
            "\n"
          ]
        }
      ]
    },
    {
      "cell_type": "markdown",
      "source": [
        "The temperature parameter in the generate method of the TextGenerator class controls the randomness of the text generation process. A lower temperature makes the output more deterministic, while a higher temperature makes it more diverse and random.\n",
        "\n",
        "In the first and second example, with temperature=0.05 and 0.5, the generated text is more coherent and repetitive. The model tends to choose the most likely next word, leading to phrases like “this is the perfect size” and “this is the perfect amount of hydration” being repeated.\n",
        "\n",
        "In the second example, with temperature=1, the generated text is more diverse and less predictable. The model is more likely to choose less probable words as the next word, leading to a more varied and creative output.\n",
        "\n",
        "So, the temperature parameter allows you to control the trade-off between diversity and coherence in the generated text. A lower temperature leads to more predictable and coherent text, while a higher temperature leads to more diverse and creative text. However, too high a temperature might result in nonsensical text, and too low a temperature might result in overly repetitive text."
      ],
      "metadata": {
        "id": "qVe0IIUNb_Yx"
      }
    },
    {
      "cell_type": "code",
      "source": [
        "print_probs(info, vocab)"
      ],
      "metadata": {
        "colab": {
          "base_uri": "https://localhost:8080/",
          "height": 1000
        },
        "id": "TC-XgGNZD2XB",
        "outputId": "226a5aab-285f-4dfb-b07f-4768448fbe19"
      },
      "execution_count": 33,
      "outputs": [
        {
          "output_type": "display_data",
          "data": {
            "text/plain": [
              "<IPython.core.display.HTML object>"
            ],
            "text/html": [
              "<span style=\"background-color:rgba(135,206,250,0.38033);\">review</span> <span style=\"background-color:rgba(135,206,250,1.0);\">for</span> <span style=\"background-color:rgba(135,206,250,0.15506558);\">hyaluronic</span> <span style=\"background-color:rgba(135,206,250,0.52026504);\">acid</span> <span style=\"background-color:rgba(135,206,250,0.119519345);\">booster</span>"
            ]
          },
          "metadata": {}
        },
        {
          "output_type": "stream",
          "name": "stdout",
          "text": [
            "|:   \t89.8%\n",
            "%:   \t3.05%\n",
            "age:   \t1.46%\n",
            "acne:   \t1.39%\n",
            "+:   \t1.15%\n",
            "--------\n",
            "\n"
          ]
        },
        {
          "output_type": "display_data",
          "data": {
            "text/plain": [
              "<IPython.core.display.HTML object>"
            ],
            "text/html": [
              "<span style=\"background-color:rgba(135,206,250,0.8807142);\">review</span> <span style=\"background-color:rgba(135,206,250,1.0);\">for</span> <span style=\"background-color:rgba(135,206,250,0.4647862);\">hyaluronic</span> <span style=\"background-color:rgba(135,206,250,0.75124013);\">acid</span> <span style=\"background-color:rgba(135,206,250,0.36773887);\">booster</span> <span style=\"background-color:rgba(135,206,250,0.2595443);\">|</span>"
            ]
          },
          "metadata": {}
        },
        {
          "output_type": "stream",
          "name": "stdout",
          "text": [
            "this:   \t78.21%\n",
            "i:   \t17.66%\n",
            "love:   \t0.81%\n",
            "the:   \t0.75%\n",
            "[UNK]:   \t0.64%\n",
            "--------\n",
            "\n"
          ]
        },
        {
          "output_type": "display_data",
          "data": {
            "text/plain": [
              "<IPython.core.display.HTML object>"
            ],
            "text/html": [
              "<span style=\"background-color:rgba(135,206,250,0.44651768);\">review</span> <span style=\"background-color:rgba(135,206,250,0.34266594);\">for</span> <span style=\"background-color:rgba(135,206,250,0.3095252);\">hyaluronic</span> <span style=\"background-color:rgba(135,206,250,0.5176271);\">acid</span> <span style=\"background-color:rgba(135,206,250,1.0);\">booster</span> <span style=\"background-color:rgba(135,206,250,0.62279195);\">|</span> <span style=\"background-color:rgba(135,206,250,0.12289308);\">this</span>"
            ]
          },
          "metadata": {}
        },
        {
          "output_type": "stream",
          "name": "stdout",
          "text": [
            "is:   \t73.48%\n",
            "product:   \t9.11%\n",
            "serum:   \t6.58%\n",
            "hyaluronic:   \t5.16%\n",
            "moisturizer:   \t1.19%\n",
            "--------\n",
            "\n"
          ]
        },
        {
          "output_type": "display_data",
          "data": {
            "text/plain": [
              "<IPython.core.display.HTML object>"
            ],
            "text/html": [
              "<span style=\"background-color:rgba(135,206,250,0.79476553);\">review</span> <span style=\"background-color:rgba(135,206,250,1.0);\">for</span> <span style=\"background-color:rgba(135,206,250,0.19991824);\">hyaluronic</span> <span style=\"background-color:rgba(135,206,250,0.25933605);\">acid</span> <span style=\"background-color:rgba(135,206,250,0.12708679);\">booster</span> <span style=\"background-color:rgba(135,206,250,0.35650745);\">|</span> <span style=\"background-color:rgba(135,206,250,0.480268);\">this</span> <span style=\"background-color:rgba(135,206,250,0.14568943);\">is</span>"
            ]
          },
          "metadata": {}
        },
        {
          "output_type": "stream",
          "name": "stdout",
          "text": [
            "a:   \t76.87%\n",
            "an:   \t8.89%\n",
            "the:   \t8.04%\n",
            "one:   \t2.95%\n",
            "my:   \t1.99%\n",
            "--------\n",
            "\n"
          ]
        },
        {
          "output_type": "display_data",
          "data": {
            "text/plain": [
              "<IPython.core.display.HTML object>"
            ],
            "text/html": [
              "<span style=\"background-color:rgba(135,206,250,0.8705591);\">review</span> <span style=\"background-color:rgba(135,206,250,1.0);\">for</span> <span style=\"background-color:rgba(135,206,250,0.2666336);\">hyaluronic</span> <span style=\"background-color:rgba(135,206,250,0.4564137);\">acid</span> <span style=\"background-color:rgba(135,206,250,0.51624334);\">booster</span> <span style=\"background-color:rgba(135,206,250,0.6898668);\">|</span> <span style=\"background-color:rgba(135,206,250,0.5409298);\">this</span> <span style=\"background-color:rgba(135,206,250,0.71512675);\">is</span> <span style=\"background-color:rgba(135,206,250,0.17652701);\">a</span>"
            ]
          },
          "metadata": {}
        },
        {
          "output_type": "stream",
          "name": "stdout",
          "text": [
            "great:   \t53.88%\n",
            "nice:   \t18.37%\n",
            "good:   \t7.84%\n",
            "very:   \t7.41%\n",
            "really:   \t4.18%\n",
            "--------\n",
            "\n"
          ]
        },
        {
          "output_type": "display_data",
          "data": {
            "text/plain": [
              "<IPython.core.display.HTML object>"
            ],
            "text/html": [
              "<span style=\"background-color:rgba(135,206,250,0.6659956);\">review</span> <span style=\"background-color:rgba(135,206,250,0.7865627);\">for</span> <span style=\"background-color:rgba(135,206,250,0.40777564);\">hyaluronic</span> <span style=\"background-color:rgba(135,206,250,0.45083624);\">acid</span> <span style=\"background-color:rgba(135,206,250,0.7191469);\">booster</span> <span style=\"background-color:rgba(135,206,250,0.7467368);\">|</span> <span style=\"background-color:rgba(135,206,250,0.33580345);\">this</span> <span style=\"background-color:rgba(135,206,250,0.5794117);\">is</span> <span style=\"background-color:rgba(135,206,250,1.0);\">a</span> <span style=\"background-color:rgba(135,206,250,0.35966983);\">great</span>"
            ]
          },
          "metadata": {}
        },
        {
          "output_type": "stream",
          "name": "stdout",
          "text": [
            "moisturizer:   \t48.02%\n",
            "product:   \t24.32%\n",
            "hydrating:   \t5.11%\n",
            "serum:   \t5.07%\n",
            "eye:   \t4.26%\n",
            "--------\n",
            "\n"
          ]
        },
        {
          "output_type": "display_data",
          "data": {
            "text/plain": [
              "<IPython.core.display.HTML object>"
            ],
            "text/html": [
              "<span style=\"background-color:rgba(135,206,250,0.5528027);\">review</span> <span style=\"background-color:rgba(135,206,250,0.48146653);\">for</span> <span style=\"background-color:rgba(135,206,250,0.15862192);\">hyaluronic</span> <span style=\"background-color:rgba(135,206,250,0.17173083);\">acid</span> <span style=\"background-color:rgba(135,206,250,0.13912465);\">booster</span> <span style=\"background-color:rgba(135,206,250,0.69146234);\">|</span> <span style=\"background-color:rgba(135,206,250,0.25799802);\">this</span> <span style=\"background-color:rgba(135,206,250,0.45700362);\">is</span> <span style=\"background-color:rgba(135,206,250,0.43400022);\">a</span> <span style=\"background-color:rgba(135,206,250,1.0);\">great</span> <span style=\"background-color:rgba(135,206,250,0.4656404);\">product</span>"
            ]
          },
          "metadata": {}
        },
        {
          "output_type": "stream",
          "name": "stdout",
          "text": [
            ".:   \t39.54%\n",
            "!:   \t36.44%\n",
            ",:   \t7.55%\n",
            "for:   \t5.9%\n",
            "and:   \t3.81%\n",
            "--------\n",
            "\n"
          ]
        },
        {
          "output_type": "display_data",
          "data": {
            "text/plain": [
              "<IPython.core.display.HTML object>"
            ],
            "text/html": [
              "<span style=\"background-color:rgba(135,206,250,0.67599726);\">review</span> <span style=\"background-color:rgba(135,206,250,0.34986728);\">for</span> <span style=\"background-color:rgba(135,206,250,0.3084014);\">hyaluronic</span> <span style=\"background-color:rgba(135,206,250,0.24651724);\">acid</span> <span style=\"background-color:rgba(135,206,250,0.21610878);\">booster</span> <span style=\"background-color:rgba(135,206,250,0.90258956);\">|</span> <span style=\"background-color:rgba(135,206,250,0.6128889);\">this</span> <span style=\"background-color:rgba(135,206,250,0.44558743);\">is</span> <span style=\"background-color:rgba(135,206,250,0.30305237);\">a</span> <span style=\"background-color:rgba(135,206,250,0.7209053);\">great</span> <span style=\"background-color:rgba(135,206,250,1.0);\">product</span> <span style=\"background-color:rgba(135,206,250,0.69463843);\">.</span>"
            ]
          },
          "metadata": {}
        },
        {
          "output_type": "stream",
          "name": "stdout",
          "text": [
            "i:   \t72.15%\n",
            "it:   \t20.67%\n",
            "the:   \t3.98%\n",
            "it’s:   \t1.74%\n",
            "my:   \t0.53%\n",
            "--------\n",
            "\n"
          ]
        },
        {
          "output_type": "display_data",
          "data": {
            "text/plain": [
              "<IPython.core.display.HTML object>"
            ],
            "text/html": [
              "<span style=\"background-color:rgba(135,206,250,0.73451716);\">review</span> <span style=\"background-color:rgba(135,206,250,0.5196065);\">for</span> <span style=\"background-color:rgba(135,206,250,0.18551114);\">hyaluronic</span> <span style=\"background-color:rgba(135,206,250,0.287725);\">acid</span> <span style=\"background-color:rgba(135,206,250,0.1633983);\">booster</span> <span style=\"background-color:rgba(135,206,250,0.3824837);\">|</span> <span style=\"background-color:rgba(135,206,250,0.40422016);\">this</span> <span style=\"background-color:rgba(135,206,250,0.38751724);\">is</span> <span style=\"background-color:rgba(135,206,250,0.25407913);\">a</span> <span style=\"background-color:rgba(135,206,250,0.64238745);\">great</span> <span style=\"background-color:rgba(135,206,250,0.8213825);\">product</span> <span style=\"background-color:rgba(135,206,250,1.0);\">.</span> <span style=\"background-color:rgba(135,206,250,0.29378682);\">i</span>"
            ]
          },
          "metadata": {}
        },
        {
          "output_type": "stream",
          "name": "stdout",
          "text": [
            "have:   \t56.84%\n",
            "use:   \t21.63%\n",
            "love:   \t17.3%\n",
            "like:   \t1.54%\n",
            "really:   \t0.6%\n",
            "--------\n",
            "\n"
          ]
        },
        {
          "output_type": "display_data",
          "data": {
            "text/plain": [
              "<IPython.core.display.HTML object>"
            ],
            "text/html": [
              "<span style=\"background-color:rgba(135,206,250,0.74388075);\">review</span> <span style=\"background-color:rgba(135,206,250,0.37789822);\">for</span> <span style=\"background-color:rgba(135,206,250,0.31903225);\">hyaluronic</span> <span style=\"background-color:rgba(135,206,250,0.28714857);\">acid</span> <span style=\"background-color:rgba(135,206,250,0.24224444);\">booster</span> <span style=\"background-color:rgba(135,206,250,0.50848395);\">|</span> <span style=\"background-color:rgba(135,206,250,0.27216163);\">this</span> <span style=\"background-color:rgba(135,206,250,0.14351796);\">is</span> <span style=\"background-color:rgba(135,206,250,0.22534564);\">a</span> <span style=\"background-color:rgba(135,206,250,0.5332597);\">great</span> <span style=\"background-color:rgba(135,206,250,0.46786284);\">product</span> <span style=\"background-color:rgba(135,206,250,1.0);\">.</span> <span style=\"background-color:rgba(135,206,250,0.6851858);\">i</span> <span style=\"background-color:rgba(135,206,250,0.24832618);\">have</span>"
            ]
          },
          "metadata": {}
        },
        {
          "output_type": "stream",
          "name": "stdout",
          "text": [
            "sensitive:   \t29.07%\n",
            "combination:   \t19.4%\n",
            "very:   \t18.4%\n",
            "dry:   \t12.07%\n",
            "combo:   \t8.61%\n",
            "--------\n",
            "\n"
          ]
        },
        {
          "output_type": "display_data",
          "data": {
            "text/plain": [
              "<IPython.core.display.HTML object>"
            ],
            "text/html": [
              "<span style=\"background-color:rgba(135,206,250,0.687492);\">review</span> <span style=\"background-color:rgba(135,206,250,0.71749735);\">for</span> <span style=\"background-color:rgba(135,206,250,0.5115336);\">hyaluronic</span> <span style=\"background-color:rgba(135,206,250,0.33629707);\">acid</span> <span style=\"background-color:rgba(135,206,250,0.42253783);\">booster</span> <span style=\"background-color:rgba(135,206,250,0.45771283);\">|</span> <span style=\"background-color:rgba(135,206,250,0.48457164);\">this</span> <span style=\"background-color:rgba(135,206,250,0.26000577);\">is</span> <span style=\"background-color:rgba(135,206,250,0.29996344);\">a</span> <span style=\"background-color:rgba(135,206,250,0.3286827);\">great</span> <span style=\"background-color:rgba(135,206,250,0.60236824);\">product</span> <span style=\"background-color:rgba(135,206,250,1.0);\">.</span> <span style=\"background-color:rgba(135,206,250,0.50916636);\">i</span> <span style=\"background-color:rgba(135,206,250,0.9385539);\">have</span> <span style=\"background-color:rgba(135,206,250,0.34505817);\">sensitive</span>"
            ]
          },
          "metadata": {}
        },
        {
          "output_type": "stream",
          "name": "stdout",
          "text": [
            "skin:   \t99.21%\n",
            ",:   \t0.61%\n",
            "and:   \t0.08%\n",
            "dry:   \t0.04%\n",
            "/:   \t0.02%\n",
            "--------\n",
            "\n"
          ]
        },
        {
          "output_type": "display_data",
          "data": {
            "text/plain": [
              "<IPython.core.display.HTML object>"
            ],
            "text/html": [
              "<span style=\"background-color:rgba(135,206,250,0.54983866);\">review</span> <span style=\"background-color:rgba(135,206,250,0.5699774);\">for</span> <span style=\"background-color:rgba(135,206,250,0.21644859);\">hyaluronic</span> <span style=\"background-color:rgba(135,206,250,0.23757902);\">acid</span> <span style=\"background-color:rgba(135,206,250,0.1908527);\">booster</span> <span style=\"background-color:rgba(135,206,250,0.702295);\">|</span> <span style=\"background-color:rgba(135,206,250,0.1809926);\">this</span> <span style=\"background-color:rgba(135,206,250,0.22253866);\">is</span> <span style=\"background-color:rgba(135,206,250,0.26058736);\">a</span> <span style=\"background-color:rgba(135,206,250,0.36069235);\">great</span> <span style=\"background-color:rgba(135,206,250,0.2884512);\">product</span> <span style=\"background-color:rgba(135,206,250,0.71431494);\">.</span> <span style=\"background-color:rgba(135,206,250,0.6166899);\">i</span> <span style=\"background-color:rgba(135,206,250,0.79850554);\">have</span> <span style=\"background-color:rgba(135,206,250,1.0);\">sensitive</span> <span style=\"background-color:rgba(135,206,250,0.25845173);\">skin</span>"
            ]
          },
          "metadata": {}
        },
        {
          "output_type": "stream",
          "name": "stdout",
          "text": [
            "and:   \t80.31%\n",
            ",:   \t9.91%\n",
            ".:   \t4.11%\n",
            "that:   \t2.13%\n",
            "so:   \t1.66%\n",
            "--------\n",
            "\n"
          ]
        },
        {
          "output_type": "display_data",
          "data": {
            "text/plain": [
              "<IPython.core.display.HTML object>"
            ],
            "text/html": [
              "<span style=\"background-color:rgba(135,206,250,0.47586435);\">review</span> <span style=\"background-color:rgba(135,206,250,0.33388764);\">for</span> <span style=\"background-color:rgba(135,206,250,0.25434995);\">hyaluronic</span> <span style=\"background-color:rgba(135,206,250,0.2809093);\">acid</span> <span style=\"background-color:rgba(135,206,250,0.13985987);\">booster</span> <span style=\"background-color:rgba(135,206,250,0.3210108);\">|</span> <span style=\"background-color:rgba(135,206,250,0.2954473);\">this</span> <span style=\"background-color:rgba(135,206,250,0.20992216);\">is</span> <span style=\"background-color:rgba(135,206,250,0.13521385);\">a</span> <span style=\"background-color:rgba(135,206,250,0.25490326);\">great</span> <span style=\"background-color:rgba(135,206,250,0.25861582);\">product</span> <span style=\"background-color:rgba(135,206,250,0.3094445);\">.</span> <span style=\"background-color:rgba(135,206,250,0.5396283);\">i</span> <span style=\"background-color:rgba(135,206,250,0.4505936);\">have</span> <span style=\"background-color:rgba(135,206,250,1.0);\">sensitive</span> <span style=\"background-color:rgba(135,206,250,0.59867346);\">skin</span> <span style=\"background-color:rgba(135,206,250,0.2715657);\">and</span>"
            ]
          },
          "metadata": {}
        },
        {
          "output_type": "stream",
          "name": "stdout",
          "text": [
            "this:   \t57.94%\n",
            "i:   \t29.71%\n",
            "it:   \t4.93%\n",
            "have:   \t4.29%\n",
            "i’ve:   \t0.53%\n",
            "--------\n",
            "\n"
          ]
        },
        {
          "output_type": "display_data",
          "data": {
            "text/plain": [
              "<IPython.core.display.HTML object>"
            ],
            "text/html": [
              "<span style=\"background-color:rgba(135,206,250,0.1720063);\">review</span> <span style=\"background-color:rgba(135,206,250,0.38068);\">for</span> <span style=\"background-color:rgba(135,206,250,0.13203643);\">hyaluronic</span> <span style=\"background-color:rgba(135,206,250,0.352689);\">acid</span> <span style=\"background-color:rgba(135,206,250,0.44112846);\">booster</span> <span style=\"background-color:rgba(135,206,250,0.23487578);\">|</span> <span style=\"background-color:rgba(135,206,250,0.13182971);\">this</span> <span style=\"background-color:rgba(135,206,250,0.22203165);\">is</span> <span style=\"background-color:rgba(135,206,250,0.11642591);\">a</span> <span style=\"background-color:rgba(135,206,250,0.20219131);\">great</span> <span style=\"background-color:rgba(135,206,250,0.38058287);\">product</span> <span style=\"background-color:rgba(135,206,250,0.24261858);\">.</span> <span style=\"background-color:rgba(135,206,250,0.18912792);\">i</span> <span style=\"background-color:rgba(135,206,250,0.25178283);\">have</span> <span style=\"background-color:rgba(135,206,250,0.4952303);\">sensitive</span> <span style=\"background-color:rgba(135,206,250,0.43303454);\">skin</span> <span style=\"background-color:rgba(135,206,250,1.0);\">and</span> <span style=\"background-color:rgba(135,206,250,0.22795367);\">this</span>"
            ]
          },
          "metadata": {}
        },
        {
          "output_type": "stream",
          "name": "stdout",
          "text": [
            "is:   \t69.63%\n",
            "product:   \t22.94%\n",
            "has:   \t5.11%\n",
            "doesn’t:   \t0.32%\n",
            "works:   \t0.3%\n",
            "--------\n",
            "\n"
          ]
        },
        {
          "output_type": "display_data",
          "data": {
            "text/plain": [
              "<IPython.core.display.HTML object>"
            ],
            "text/html": [
              "<span style=\"background-color:rgba(135,206,250,0.5565387);\">review</span> <span style=\"background-color:rgba(135,206,250,0.45011646);\">for</span> <span style=\"background-color:rgba(135,206,250,0.20823452);\">hyaluronic</span> <span style=\"background-color:rgba(135,206,250,0.16705321);\">acid</span> <span style=\"background-color:rgba(135,206,250,0.14063485);\">booster</span> <span style=\"background-color:rgba(135,206,250,0.226028);\">|</span> <span style=\"background-color:rgba(135,206,250,0.1860478);\">this</span> <span style=\"background-color:rgba(135,206,250,0.09087329);\">is</span> <span style=\"background-color:rgba(135,206,250,0.11881914);\">a</span> <span style=\"background-color:rgba(135,206,250,0.38912252);\">great</span> <span style=\"background-color:rgba(135,206,250,0.2388972);\">product</span> <span style=\"background-color:rgba(135,206,250,0.34166217);\">.</span> <span style=\"background-color:rgba(135,206,250,0.22482134);\">i</span> <span style=\"background-color:rgba(135,206,250,0.250042);\">have</span> <span style=\"background-color:rgba(135,206,250,0.66824305);\">sensitive</span> <span style=\"background-color:rgba(135,206,250,0.5121557);\">skin</span> <span style=\"background-color:rgba(135,206,250,1.0);\">and</span> <span style=\"background-color:rgba(135,206,250,0.9210859);\">this</span> <span style=\"background-color:rgba(135,206,250,0.22364569);\">is</span>"
            ]
          },
          "metadata": {}
        },
        {
          "output_type": "stream",
          "name": "stdout",
          "text": [
            "the:   \t49.14%\n",
            "a:   \t26.02%\n",
            "my:   \t10.07%\n",
            "perfect:   \t4.58%\n",
            "so:   \t3.69%\n",
            "--------\n",
            "\n"
          ]
        },
        {
          "output_type": "display_data",
          "data": {
            "text/plain": [
              "<IPython.core.display.HTML object>"
            ],
            "text/html": [
              "<span style=\"background-color:rgba(135,206,250,0.38120228);\">review</span> <span style=\"background-color:rgba(135,206,250,0.4377391);\">for</span> <span style=\"background-color:rgba(135,206,250,0.17565861);\">hyaluronic</span> <span style=\"background-color:rgba(135,206,250,0.4310853);\">acid</span> <span style=\"background-color:rgba(135,206,250,0.47927547);\">booster</span> <span style=\"background-color:rgba(135,206,250,0.43155083);\">|</span> <span style=\"background-color:rgba(135,206,250,0.29424807);\">this</span> <span style=\"background-color:rgba(135,206,250,0.15246297);\">is</span> <span style=\"background-color:rgba(135,206,250,0.11823027);\">a</span> <span style=\"background-color:rgba(135,206,250,0.22734581);\">great</span> <span style=\"background-color:rgba(135,206,250,0.26179823);\">product</span> <span style=\"background-color:rgba(135,206,250,0.2552736);\">.</span> <span style=\"background-color:rgba(135,206,250,0.20904262);\">i</span> <span style=\"background-color:rgba(135,206,250,0.21640265);\">have</span> <span style=\"background-color:rgba(135,206,250,0.43159637);\">sensitive</span> <span style=\"background-color:rgba(135,206,250,0.44462875);\">skin</span> <span style=\"background-color:rgba(135,206,250,0.579435);\">and</span> <span style=\"background-color:rgba(135,206,250,0.6173445);\">this</span> <span style=\"background-color:rgba(135,206,250,1.0);\">is</span> <span style=\"background-color:rgba(135,206,250,0.26423228);\">the</span>"
            ]
          },
          "metadata": {}
        },
        {
          "output_type": "stream",
          "name": "stdout",
          "text": [
            "best:   \t34.93%\n",
            "perfect:   \t27.86%\n",
            "first:   \t19.71%\n",
            "most:   \t8.7%\n",
            "only:   \t8.43%\n",
            "--------\n",
            "\n"
          ]
        },
        {
          "output_type": "display_data",
          "data": {
            "text/plain": [
              "<IPython.core.display.HTML object>"
            ],
            "text/html": [
              "<span style=\"background-color:rgba(135,206,250,0.31151354);\">review</span> <span style=\"background-color:rgba(135,206,250,0.49076656);\">for</span> <span style=\"background-color:rgba(135,206,250,0.25015324);\">hyaluronic</span> <span style=\"background-color:rgba(135,206,250,0.30339918);\">acid</span> <span style=\"background-color:rgba(135,206,250,0.43485472);\">booster</span> <span style=\"background-color:rgba(135,206,250,0.23754007);\">|</span> <span style=\"background-color:rgba(135,206,250,0.16330403);\">this</span> <span style=\"background-color:rgba(135,206,250,0.16651988);\">is</span> <span style=\"background-color:rgba(135,206,250,0.1001136);\">a</span> <span style=\"background-color:rgba(135,206,250,0.17778999);\">great</span> <span style=\"background-color:rgba(135,206,250,0.32881895);\">product</span> <span style=\"background-color:rgba(135,206,250,0.3401032);\">.</span> <span style=\"background-color:rgba(135,206,250,0.17046842);\">i</span> <span style=\"background-color:rgba(135,206,250,0.17032422);\">have</span> <span style=\"background-color:rgba(135,206,250,0.2246562);\">sensitive</span> <span style=\"background-color:rgba(135,206,250,0.44114506);\">skin</span> <span style=\"background-color:rgba(135,206,250,0.5478162);\">and</span> <span style=\"background-color:rgba(135,206,250,0.40994886);\">this</span> <span style=\"background-color:rgba(135,206,250,0.49764907);\">is</span> <span style=\"background-color:rgba(135,206,250,1.0);\">the</span> <span style=\"background-color:rgba(135,206,250,0.55274224);\">perfect</span>"
            ]
          },
          "metadata": {}
        },
        {
          "output_type": "stream",
          "name": "stdout",
          "text": [
            "amount:   \t42.6%\n",
            "size:   \t40.67%\n",
            "product:   \t4.37%\n",
            "moisturizer:   \t2.14%\n",
            "texture:   \t1.41%\n",
            "--------\n",
            "\n"
          ]
        },
        {
          "output_type": "display_data",
          "data": {
            "text/plain": [
              "<IPython.core.display.HTML object>"
            ],
            "text/html": [
              "<span style=\"background-color:rgba(135,206,250,0.25775686);\">review</span> <span style=\"background-color:rgba(135,206,250,0.3199953);\">for</span> <span style=\"background-color:rgba(135,206,250,0.07335147);\">hyaluronic</span> <span style=\"background-color:rgba(135,206,250,0.12903105);\">acid</span> <span style=\"background-color:rgba(135,206,250,0.12632361);\">booster</span> <span style=\"background-color:rgba(135,206,250,0.18180431);\">|</span> <span style=\"background-color:rgba(135,206,250,0.14624667);\">this</span> <span style=\"background-color:rgba(135,206,250,0.14188392);\">is</span> <span style=\"background-color:rgba(135,206,250,0.06836317);\">a</span> <span style=\"background-color:rgba(135,206,250,0.15580952);\">great</span> <span style=\"background-color:rgba(135,206,250,0.14448331);\">product</span> <span style=\"background-color:rgba(135,206,250,0.20889926);\">.</span> <span style=\"background-color:rgba(135,206,250,0.113625154);\">i</span> <span style=\"background-color:rgba(135,206,250,0.14217603);\">have</span> <span style=\"background-color:rgba(135,206,250,0.09523813);\">sensitive</span> <span style=\"background-color:rgba(135,206,250,0.07662898);\">skin</span> <span style=\"background-color:rgba(135,206,250,0.1993869);\">and</span> <span style=\"background-color:rgba(135,206,250,0.19438952);\">this</span> <span style=\"background-color:rgba(135,206,250,0.30063087);\">is</span> <span style=\"background-color:rgba(135,206,250,0.298912);\">the</span> <span style=\"background-color:rgba(135,206,250,1.0);\">perfect</span> <span style=\"background-color:rgba(135,206,250,0.19911793);\">size</span>"
            ]
          },
          "metadata": {}
        },
        {
          "output_type": "stream",
          "name": "stdout",
          "text": [
            ".:   \t51.12%\n",
            "for:   \t17.3%\n",
            "to:   \t16.24%\n",
            "!:   \t8.53%\n",
            "of:   \t3.5%\n",
            "--------\n",
            "\n"
          ]
        },
        {
          "output_type": "display_data",
          "data": {
            "text/plain": [
              "<IPython.core.display.HTML object>"
            ],
            "text/html": [
              "<span style=\"background-color:rgba(135,206,250,0.9092412);\">review</span> <span style=\"background-color:rgba(135,206,250,0.407511);\">for</span> <span style=\"background-color:rgba(135,206,250,0.48594677);\">hyaluronic</span> <span style=\"background-color:rgba(135,206,250,0.26782563);\">acid</span> <span style=\"background-color:rgba(135,206,250,0.13984768);\">booster</span> <span style=\"background-color:rgba(135,206,250,0.62189263);\">|</span> <span style=\"background-color:rgba(135,206,250,0.5425337);\">this</span> <span style=\"background-color:rgba(135,206,250,0.2520126);\">is</span> <span style=\"background-color:rgba(135,206,250,0.14674403);\">a</span> <span style=\"background-color:rgba(135,206,250,0.44725958);\">great</span> <span style=\"background-color:rgba(135,206,250,0.3023961);\">product</span> <span style=\"background-color:rgba(135,206,250,0.43783528);\">.</span> <span style=\"background-color:rgba(135,206,250,0.3396667);\">i</span> <span style=\"background-color:rgba(135,206,250,0.23392989);\">have</span> <span style=\"background-color:rgba(135,206,250,0.35796753);\">sensitive</span> <span style=\"background-color:rgba(135,206,250,0.24117376);\">skin</span> <span style=\"background-color:rgba(135,206,250,0.5336197);\">and</span> <span style=\"background-color:rgba(135,206,250,0.66957384);\">this</span> <span style=\"background-color:rgba(135,206,250,0.41934815);\">is</span> <span style=\"background-color:rgba(135,206,250,0.46403107);\">the</span> <span style=\"background-color:rgba(135,206,250,0.98618287);\">perfect</span> <span style=\"background-color:rgba(135,206,250,0.8916897);\">size</span> <span style=\"background-color:rgba(135,206,250,1.0);\">!</span>"
            ]
          },
          "metadata": {}
        },
        {
          "output_type": "stream",
          "name": "stdout",
          "text": [
            "i:   \t52.57%\n",
            "it:   \t35.69%\n",
            ":   \t3.03%\n",
            "the:   \t2.76%\n",
            "it’s:   \t2.64%\n",
            "--------\n",
            "\n"
          ]
        },
        {
          "output_type": "display_data",
          "data": {
            "text/plain": [
              "<IPython.core.display.HTML object>"
            ],
            "text/html": [
              "<span style=\"background-color:rgba(135,206,250,0.3026449);\">review</span> <span style=\"background-color:rgba(135,206,250,0.33737254);\">for</span> <span style=\"background-color:rgba(135,206,250,0.06424272);\">hyaluronic</span> <span style=\"background-color:rgba(135,206,250,0.12044225);\">acid</span> <span style=\"background-color:rgba(135,206,250,0.05184682);\">booster</span> <span style=\"background-color:rgba(135,206,250,0.08131778);\">|</span> <span style=\"background-color:rgba(135,206,250,0.14772618);\">this</span> <span style=\"background-color:rgba(135,206,250,0.12811543);\">is</span> <span style=\"background-color:rgba(135,206,250,0.048818856);\">a</span> <span style=\"background-color:rgba(135,206,250,0.24475695);\">great</span> <span style=\"background-color:rgba(135,206,250,0.08958301);\">product</span> <span style=\"background-color:rgba(135,206,250,0.09157886);\">.</span> <span style=\"background-color:rgba(135,206,250,0.03667359);\">i</span> <span style=\"background-color:rgba(135,206,250,0.16846108);\">have</span> <span style=\"background-color:rgba(135,206,250,0.1645409);\">sensitive</span> <span style=\"background-color:rgba(135,206,250,0.07116006);\">skin</span> <span style=\"background-color:rgba(135,206,250,0.103199065);\">and</span> <span style=\"background-color:rgba(135,206,250,0.15383856);\">this</span> <span style=\"background-color:rgba(135,206,250,0.18433072);\">is</span> <span style=\"background-color:rgba(135,206,250,0.15957901);\">the</span> <span style=\"background-color:rgba(135,206,250,0.40084493);\">perfect</span> <span style=\"background-color:rgba(135,206,250,0.40548384);\">size</span> <span style=\"background-color:rgba(135,206,250,1.0);\">!</span> <span style=\"background-color:rgba(135,206,250,0.20850025);\">i</span>"
            ]
          },
          "metadata": {}
        },
        {
          "output_type": "stream",
          "name": "stdout",
          "text": [
            "use:   \t43.57%\n",
            "love:   \t25.21%\n",
            "have:   \t24.27%\n",
            "would:   \t1.42%\n",
            "highly:   \t1.15%\n",
            "--------\n",
            "\n"
          ]
        },
        {
          "output_type": "display_data",
          "data": {
            "text/plain": [
              "<IPython.core.display.HTML object>"
            ],
            "text/html": [
              "<span style=\"background-color:rgba(135,206,250,0.37899357);\">review</span> <span style=\"background-color:rgba(135,206,250,0.19158277);\">for</span> <span style=\"background-color:rgba(135,206,250,0.15174402);\">hyaluronic</span> <span style=\"background-color:rgba(135,206,250,0.15657078);\">acid</span> <span style=\"background-color:rgba(135,206,250,0.12749475);\">booster</span> <span style=\"background-color:rgba(135,206,250,0.13115342);\">|</span> <span style=\"background-color:rgba(135,206,250,0.103044376);\">this</span> <span style=\"background-color:rgba(135,206,250,0.04542008);\">is</span> <span style=\"background-color:rgba(135,206,250,0.049995586);\">a</span> <span style=\"background-color:rgba(135,206,250,0.13109213);\">great</span> <span style=\"background-color:rgba(135,206,250,0.07925437);\">product</span> <span style=\"background-color:rgba(135,206,250,0.12525195);\">.</span> <span style=\"background-color:rgba(135,206,250,0.057120096);\">i</span> <span style=\"background-color:rgba(135,206,250,0.04517593);\">have</span> <span style=\"background-color:rgba(135,206,250,0.29103357);\">sensitive</span> <span style=\"background-color:rgba(135,206,250,0.09031483);\">skin</span> <span style=\"background-color:rgba(135,206,250,0.12442301);\">and</span> <span style=\"background-color:rgba(135,206,250,0.09801693);\">this</span> <span style=\"background-color:rgba(135,206,250,0.069246456);\">is</span> <span style=\"background-color:rgba(135,206,250,0.18700446);\">the</span> <span style=\"background-color:rgba(135,206,250,0.29559577);\">perfect</span> <span style=\"background-color:rgba(135,206,250,0.33860168);\">size</span> <span style=\"background-color:rgba(135,206,250,1.0);\">!</span> <span style=\"background-color:rgba(135,206,250,0.6049973);\">i</span> <span style=\"background-color:rgba(135,206,250,0.15490659);\">have</span>"
            ]
          },
          "metadata": {}
        },
        {
          "output_type": "stream",
          "name": "stdout",
          "text": [
            "very:   \t33.94%\n",
            "sensitive:   \t20.39%\n",
            "been:   \t12.19%\n",
            "dry:   \t9.44%\n",
            "combination:   \t5.52%\n",
            "--------\n",
            "\n"
          ]
        },
        {
          "output_type": "display_data",
          "data": {
            "text/plain": [
              "<IPython.core.display.HTML object>"
            ],
            "text/html": [
              "<span style=\"background-color:rgba(135,206,250,0.36756617);\">review</span> <span style=\"background-color:rgba(135,206,250,0.53888893);\">for</span> <span style=\"background-color:rgba(135,206,250,0.26099735);\">hyaluronic</span> <span style=\"background-color:rgba(135,206,250,0.18871573);\">acid</span> <span style=\"background-color:rgba(135,206,250,0.1944211);\">booster</span> <span style=\"background-color:rgba(135,206,250,0.15689376);\">|</span> <span style=\"background-color:rgba(135,206,250,0.20965321);\">this</span> <span style=\"background-color:rgba(135,206,250,0.10699894);\">is</span> <span style=\"background-color:rgba(135,206,250,0.0701503);\">a</span> <span style=\"background-color:rgba(135,206,250,0.14799829);\">great</span> <span style=\"background-color:rgba(135,206,250,0.15132904);\">product</span> <span style=\"background-color:rgba(135,206,250,0.23494658);\">.</span> <span style=\"background-color:rgba(135,206,250,0.13942212);\">i</span> <span style=\"background-color:rgba(135,206,250,0.06141555);\">have</span> <span style=\"background-color:rgba(135,206,250,0.1345505);\">sensitive</span> <span style=\"background-color:rgba(135,206,250,0.16437519);\">skin</span> <span style=\"background-color:rgba(135,206,250,0.17306282);\">and</span> <span style=\"background-color:rgba(135,206,250,0.20054904);\">this</span> <span style=\"background-color:rgba(135,206,250,0.13825662);\">is</span> <span style=\"background-color:rgba(135,206,250,0.2592468);\">the</span> <span style=\"background-color:rgba(135,206,250,0.22382478);\">perfect</span> <span style=\"background-color:rgba(135,206,250,0.22686088);\">size</span> <span style=\"background-color:rgba(135,206,250,1.0);\">!</span> <span style=\"background-color:rgba(135,206,250,0.5305093);\">i</span> <span style=\"background-color:rgba(135,206,250,0.8376574);\">have</span> <span style=\"background-color:rgba(135,206,250,0.35018638);\">sensitive</span>"
            ]
          },
          "metadata": {}
        },
        {
          "output_type": "stream",
          "name": "stdout",
          "text": [
            "skin:   \t99.25%\n",
            ",:   \t0.46%\n",
            "acne:   \t0.12%\n",
            "and:   \t0.08%\n",
            "dry:   \t0.05%\n",
            "--------\n",
            "\n"
          ]
        },
        {
          "output_type": "display_data",
          "data": {
            "text/plain": [
              "<IPython.core.display.HTML object>"
            ],
            "text/html": [
              "<span style=\"background-color:rgba(135,206,250,0.4107541);\">review</span> <span style=\"background-color:rgba(135,206,250,0.757379);\">for</span> <span style=\"background-color:rgba(135,206,250,0.16883376);\">hyaluronic</span> <span style=\"background-color:rgba(135,206,250,0.20434976);\">acid</span> <span style=\"background-color:rgba(135,206,250,0.14348091);\">booster</span> <span style=\"background-color:rgba(135,206,250,0.31074816);\">|</span> <span style=\"background-color:rgba(135,206,250,0.11358689);\">this</span> <span style=\"background-color:rgba(135,206,250,0.15389912);\">is</span> <span style=\"background-color:rgba(135,206,250,0.1280592);\">a</span> <span style=\"background-color:rgba(135,206,250,0.18836957);\">great</span> <span style=\"background-color:rgba(135,206,250,0.13537852);\">product</span> <span style=\"background-color:rgba(135,206,250,0.22445272);\">.</span> <span style=\"background-color:rgba(135,206,250,0.16951387);\">i</span> <span style=\"background-color:rgba(135,206,250,0.22975044);\">have</span> <span style=\"background-color:rgba(135,206,250,0.20121069);\">sensitive</span> <span style=\"background-color:rgba(135,206,250,0.07932902);\">skin</span> <span style=\"background-color:rgba(135,206,250,0.26411143);\">and</span> <span style=\"background-color:rgba(135,206,250,0.120967895);\">this</span> <span style=\"background-color:rgba(135,206,250,0.17932409);\">is</span> <span style=\"background-color:rgba(135,206,250,0.1222471);\">the</span> <span style=\"background-color:rgba(135,206,250,0.33199984);\">perfect</span> <span style=\"background-color:rgba(135,206,250,0.29492325);\">size</span> <span style=\"background-color:rgba(135,206,250,1.0);\">!</span> <span style=\"background-color:rgba(135,206,250,0.83131844);\">i</span> <span style=\"background-color:rgba(135,206,250,0.9556392);\">have</span> <span style=\"background-color:rgba(135,206,250,0.96653605);\">sensitive</span> <span style=\"background-color:rgba(135,206,250,0.2775298);\">skin</span>"
            ]
          },
          "metadata": {}
        },
        {
          "output_type": "stream",
          "name": "stdout",
          "text": [
            "and:   \t82.15%\n",
            ",:   \t5.05%\n",
            ".:   \t4.56%\n",
            "so:   \t3.64%\n",
            "that:   \t2.54%\n",
            "--------\n",
            "\n"
          ]
        },
        {
          "output_type": "display_data",
          "data": {
            "text/plain": [
              "<IPython.core.display.HTML object>"
            ],
            "text/html": [
              "<span style=\"background-color:rgba(135,206,250,0.34384245);\">review</span> <span style=\"background-color:rgba(135,206,250,0.3816135);\">for</span> <span style=\"background-color:rgba(135,206,250,0.18662491);\">hyaluronic</span> <span style=\"background-color:rgba(135,206,250,0.25661162);\">acid</span> <span style=\"background-color:rgba(135,206,250,0.1128587);\">booster</span> <span style=\"background-color:rgba(135,206,250,0.14882594);\">|</span> <span style=\"background-color:rgba(135,206,250,0.1736962);\">this</span> <span style=\"background-color:rgba(135,206,250,0.1273795);\">is</span> <span style=\"background-color:rgba(135,206,250,0.071578145);\">a</span> <span style=\"background-color:rgba(135,206,250,0.14575793);\">great</span> <span style=\"background-color:rgba(135,206,250,0.13577366);\">product</span> <span style=\"background-color:rgba(135,206,250,0.116242565);\">.</span> <span style=\"background-color:rgba(135,206,250,0.166796);\">i</span> <span style=\"background-color:rgba(135,206,250,0.14637293);\">have</span> <span style=\"background-color:rgba(135,206,250,0.21987434);\">sensitive</span> <span style=\"background-color:rgba(135,206,250,0.10387862);\">skin</span> <span style=\"background-color:rgba(135,206,250,0.07235174);\">and</span> <span style=\"background-color:rgba(135,206,250,0.1352651);\">this</span> <span style=\"background-color:rgba(135,206,250,0.14827687);\">is</span> <span style=\"background-color:rgba(135,206,250,0.111476906);\">the</span> <span style=\"background-color:rgba(135,206,250,0.22279985);\">perfect</span> <span style=\"background-color:rgba(135,206,250,0.20095581);\">size</span> <span style=\"background-color:rgba(135,206,250,0.36382696);\">!</span> <span style=\"background-color:rgba(135,206,250,0.71143764);\">i</span> <span style=\"background-color:rgba(135,206,250,0.4890434);\">have</span> <span style=\"background-color:rgba(135,206,250,1.0);\">sensitive</span> <span style=\"background-color:rgba(135,206,250,0.67239106);\">skin</span> <span style=\"background-color:rgba(135,206,250,0.3153839);\">and</span>"
            ]
          },
          "metadata": {}
        },
        {
          "output_type": "stream",
          "name": "stdout",
          "text": [
            "this:   \t62.82%\n",
            "i:   \t15.33%\n",
            "it:   \t9.36%\n",
            "have:   \t8.76%\n",
            "my:   \t0.9%\n",
            "--------\n",
            "\n"
          ]
        },
        {
          "output_type": "display_data",
          "data": {
            "text/plain": [
              "<IPython.core.display.HTML object>"
            ],
            "text/html": [
              "<span style=\"background-color:rgba(135,206,250,0.13319542);\">review</span> <span style=\"background-color:rgba(135,206,250,0.3927973);\">for</span> <span style=\"background-color:rgba(135,206,250,0.10838462);\">hyaluronic</span> <span style=\"background-color:rgba(135,206,250,0.33352092);\">acid</span> <span style=\"background-color:rgba(135,206,250,0.39175016);\">booster</span> <span style=\"background-color:rgba(135,206,250,0.1655124);\">|</span> <span style=\"background-color:rgba(135,206,250,0.088964924);\">this</span> <span style=\"background-color:rgba(135,206,250,0.17567024);\">is</span> <span style=\"background-color:rgba(135,206,250,0.08400395);\">a</span> <span style=\"background-color:rgba(135,206,250,0.14174767);\">great</span> <span style=\"background-color:rgba(135,206,250,0.28131264);\">product</span> <span style=\"background-color:rgba(135,206,250,0.12339504);\">.</span> <span style=\"background-color:rgba(135,206,250,0.07289833);\">i</span> <span style=\"background-color:rgba(135,206,250,0.09845225);\">have</span> <span style=\"background-color:rgba(135,206,250,0.09639859);\">sensitive</span> <span style=\"background-color:rgba(135,206,250,0.099215545);\">skin</span> <span style=\"background-color:rgba(135,206,250,0.07782519);\">and</span> <span style=\"background-color:rgba(135,206,250,0.050635915);\">this</span> <span style=\"background-color:rgba(135,206,250,0.11093106);\">is</span> <span style=\"background-color:rgba(135,206,250,0.05693371);\">the</span> <span style=\"background-color:rgba(135,206,250,0.09728419);\">perfect</span> <span style=\"background-color:rgba(135,206,250,0.2514139);\">size</span> <span style=\"background-color:rgba(135,206,250,0.26925558);\">!</span> <span style=\"background-color:rgba(135,206,250,0.21325019);\">i</span> <span style=\"background-color:rgba(135,206,250,0.23476316);\">have</span> <span style=\"background-color:rgba(135,206,250,0.48399296);\">sensitive</span> <span style=\"background-color:rgba(135,206,250,0.45198858);\">skin</span> <span style=\"background-color:rgba(135,206,250,1.0);\">and</span> <span style=\"background-color:rgba(135,206,250,0.2484443);\">this</span>"
            ]
          },
          "metadata": {}
        },
        {
          "output_type": "stream",
          "name": "stdout",
          "text": [
            "is:   \t67.92%\n",
            "product:   \t22.43%\n",
            "has:   \t6.52%\n",
            "one:   \t0.8%\n",
            "doesn’t:   \t0.51%\n",
            "--------\n",
            "\n"
          ]
        },
        {
          "output_type": "display_data",
          "data": {
            "text/plain": [
              "<IPython.core.display.HTML object>"
            ],
            "text/html": [
              "<span style=\"background-color:rgba(135,206,250,0.33921084);\">review</span> <span style=\"background-color:rgba(135,206,250,0.3456711);\">for</span> <span style=\"background-color:rgba(135,206,250,0.09995828);\">hyaluronic</span> <span style=\"background-color:rgba(135,206,250,0.13795292);\">acid</span> <span style=\"background-color:rgba(135,206,250,0.10747339);\">booster</span> <span style=\"background-color:rgba(135,206,250,0.111974776);\">|</span> <span style=\"background-color:rgba(135,206,250,0.10537802);\">this</span> <span style=\"background-color:rgba(135,206,250,0.064277075);\">is</span> <span style=\"background-color:rgba(135,206,250,0.07032443);\">a</span> <span style=\"background-color:rgba(135,206,250,0.2412341);\">great</span> <span style=\"background-color:rgba(135,206,250,0.11017927);\">product</span> <span style=\"background-color:rgba(135,206,250,0.1435436);\">.</span> <span style=\"background-color:rgba(135,206,250,0.09534279);\">i</span> <span style=\"background-color:rgba(135,206,250,0.11532448);\">have</span> <span style=\"background-color:rgba(135,206,250,0.28431502);\">sensitive</span> <span style=\"background-color:rgba(135,206,250,0.08417882);\">skin</span> <span style=\"background-color:rgba(135,206,250,0.11267472);\">and</span> <span style=\"background-color:rgba(135,206,250,0.09666733);\">this</span> <span style=\"background-color:rgba(135,206,250,0.0691306);\">is</span> <span style=\"background-color:rgba(135,206,250,0.08790135);\">the</span> <span style=\"background-color:rgba(135,206,250,0.3483445);\">perfect</span> <span style=\"background-color:rgba(135,206,250,0.21153146);\">size</span> <span style=\"background-color:rgba(135,206,250,0.35763428);\">!</span> <span style=\"background-color:rgba(135,206,250,0.19505882);\">i</span> <span style=\"background-color:rgba(135,206,250,0.20262533);\">have</span> <span style=\"background-color:rgba(135,206,250,0.6265533);\">sensitive</span> <span style=\"background-color:rgba(135,206,250,0.49601558);\">skin</span> <span style=\"background-color:rgba(135,206,250,1.0);\">and</span> <span style=\"background-color:rgba(135,206,250,0.9515939);\">this</span> <span style=\"background-color:rgba(135,206,250,0.21204497);\">is</span>"
            ]
          },
          "metadata": {}
        },
        {
          "output_type": "stream",
          "name": "stdout",
          "text": [
            "the:   \t53.93%\n",
            "a:   \t17.11%\n",
            "perfect:   \t13.76%\n",
            "my:   \t9.53%\n",
            "so:   \t1.57%\n",
            "--------\n",
            "\n"
          ]
        },
        {
          "output_type": "display_data",
          "data": {
            "text/plain": [
              "<IPython.core.display.HTML object>"
            ],
            "text/html": [
              "<span style=\"background-color:rgba(135,206,250,0.23706323);\">review</span> <span style=\"background-color:rgba(135,206,250,0.4360785);\">for</span> <span style=\"background-color:rgba(135,206,250,0.10633044);\">hyaluronic</span> <span style=\"background-color:rgba(135,206,250,0.38316354);\">acid</span> <span style=\"background-color:rgba(135,206,250,0.41094664);\">booster</span> <span style=\"background-color:rgba(135,206,250,0.21067452);\">|</span> <span style=\"background-color:rgba(135,206,250,0.1770488);\">this</span> <span style=\"background-color:rgba(135,206,250,0.099086955);\">is</span> <span style=\"background-color:rgba(135,206,250,0.072766304);\">a</span> <span style=\"background-color:rgba(135,206,250,0.13348298);\">great</span> <span style=\"background-color:rgba(135,206,250,0.15954146);\">product</span> <span style=\"background-color:rgba(135,206,250,0.12487915);\">.</span> <span style=\"background-color:rgba(135,206,250,0.079123795);\">i</span> <span style=\"background-color:rgba(135,206,250,0.074962355);\">have</span> <span style=\"background-color:rgba(135,206,250,0.19578062);\">sensitive</span> <span style=\"background-color:rgba(135,206,250,0.11309087);\">skin</span> <span style=\"background-color:rgba(135,206,250,0.07446229);\">and</span> <span style=\"background-color:rgba(135,206,250,0.09026574);\">this</span> <span style=\"background-color:rgba(135,206,250,0.06784822);\">is</span> <span style=\"background-color:rgba(135,206,250,0.042876218);\">the</span> <span style=\"background-color:rgba(135,206,250,0.17535314);\">perfect</span> <span style=\"background-color:rgba(135,206,250,0.28208256);\">size</span> <span style=\"background-color:rgba(135,206,250,0.18933417);\">!</span> <span style=\"background-color:rgba(135,206,250,0.173857);\">i</span> <span style=\"background-color:rgba(135,206,250,0.16952536);\">have</span> <span style=\"background-color:rgba(135,206,250,0.38462728);\">sensitive</span> <span style=\"background-color:rgba(135,206,250,0.46669608);\">skin</span> <span style=\"background-color:rgba(135,206,250,0.6122049);\">and</span> <span style=\"background-color:rgba(135,206,250,0.62249035);\">this</span> <span style=\"background-color:rgba(135,206,250,1.0);\">is</span> <span style=\"background-color:rgba(135,206,250,0.28867835);\">the</span>"
            ]
          },
          "metadata": {}
        },
        {
          "output_type": "stream",
          "name": "stdout",
          "text": [
            "perfect:   \t56.86%\n",
            "best:   \t25.92%\n",
            "first:   \t9.44%\n",
            "most:   \t6.5%\n",
            "only:   \t1.07%\n",
            "--------\n",
            "\n"
          ]
        },
        {
          "output_type": "display_data",
          "data": {
            "text/plain": [
              "<IPython.core.display.HTML object>"
            ],
            "text/html": [
              "<span style=\"background-color:rgba(135,206,250,0.17813319);\">review</span> <span style=\"background-color:rgba(135,206,250,0.39071625);\">for</span> <span style=\"background-color:rgba(135,206,250,0.1496753);\">hyaluronic</span> <span style=\"background-color:rgba(135,206,250,0.25845876);\">acid</span> <span style=\"background-color:rgba(135,206,250,0.3250415);\">booster</span> <span style=\"background-color:rgba(135,206,250,0.12479866);\">|</span> <span style=\"background-color:rgba(135,206,250,0.09052606);\">this</span> <span style=\"background-color:rgba(135,206,250,0.100237004);\">is</span> <span style=\"background-color:rgba(135,206,250,0.054549176);\">a</span> <span style=\"background-color:rgba(135,206,250,0.09130374);\">great</span> <span style=\"background-color:rgba(135,206,250,0.17187314);\">product</span> <span style=\"background-color:rgba(135,206,250,0.16684704);\">.</span> <span style=\"background-color:rgba(135,206,250,0.07344942);\">i</span> <span style=\"background-color:rgba(135,206,250,0.058438964);\">have</span> <span style=\"background-color:rgba(135,206,250,0.13118853);\">sensitive</span> <span style=\"background-color:rgba(135,206,250,0.1518175);\">skin</span> <span style=\"background-color:rgba(135,206,250,0.105124);\">and</span> <span style=\"background-color:rgba(135,206,250,0.04943588);\">this</span> <span style=\"background-color:rgba(135,206,250,0.07641002);\">is</span> <span style=\"background-color:rgba(135,206,250,0.057455603);\">the</span> <span style=\"background-color:rgba(135,206,250,0.08667107);\">perfect</span> <span style=\"background-color:rgba(135,206,250,0.16102654);\">size</span> <span style=\"background-color:rgba(135,206,250,0.22508298);\">!</span> <span style=\"background-color:rgba(135,206,250,0.1218317);\">i</span> <span style=\"background-color:rgba(135,206,250,0.11952005);\">have</span> <span style=\"background-color:rgba(135,206,250,0.19085564);\">sensitive</span> <span style=\"background-color:rgba(135,206,250,0.37182587);\">skin</span> <span style=\"background-color:rgba(135,206,250,0.4162734);\">and</span> <span style=\"background-color:rgba(135,206,250,0.37594634);\">this</span> <span style=\"background-color:rgba(135,206,250,0.46045998);\">is</span> <span style=\"background-color:rgba(135,206,250,1.0);\">the</span> <span style=\"background-color:rgba(135,206,250,0.3654716);\">perfect</span>"
            ]
          },
          "metadata": {}
        },
        {
          "output_type": "stream",
          "name": "stdout",
          "text": [
            "size:   \t69.98%\n",
            "amount:   \t24.08%\n",
            "product:   \t1.59%\n",
            "base:   \t0.67%\n",
            "combination:   \t0.64%\n",
            "--------\n",
            "\n"
          ]
        },
        {
          "output_type": "display_data",
          "data": {
            "text/plain": [
              "<IPython.core.display.HTML object>"
            ],
            "text/html": [
              "<span style=\"background-color:rgba(135,206,250,0.21802446);\">review</span> <span style=\"background-color:rgba(135,206,250,0.47930574);\">for</span> <span style=\"background-color:rgba(135,206,250,0.07320196);\">hyaluronic</span> <span style=\"background-color:rgba(135,206,250,0.079639204);\">acid</span> <span style=\"background-color:rgba(135,206,250,0.046507493);\">booster</span> <span style=\"background-color:rgba(135,206,250,0.100405894);\">|</span> <span style=\"background-color:rgba(135,206,250,0.08020901);\">this</span> <span style=\"background-color:rgba(135,206,250,0.06952922);\">is</span> <span style=\"background-color:rgba(135,206,250,0.049345527);\">a</span> <span style=\"background-color:rgba(135,206,250,0.076169305);\">great</span> <span style=\"background-color:rgba(135,206,250,0.07810301);\">product</span> <span style=\"background-color:rgba(135,206,250,0.11779487);\">.</span> <span style=\"background-color:rgba(135,206,250,0.083864346);\">i</span> <span style=\"background-color:rgba(135,206,250,0.08713797);\">have</span> <span style=\"background-color:rgba(135,206,250,0.06163857);\">sensitive</span> <span style=\"background-color:rgba(135,206,250,0.026645713);\">skin</span> <span style=\"background-color:rgba(135,206,250,0.09416251);\">and</span> <span style=\"background-color:rgba(135,206,250,0.061609454);\">this</span> <span style=\"background-color:rgba(135,206,250,0.060100712);\">is</span> <span style=\"background-color:rgba(135,206,250,0.036750466);\">the</span> <span style=\"background-color:rgba(135,206,250,0.09488359);\">perfect</span> <span style=\"background-color:rgba(135,206,250,0.040974528);\">size</span> <span style=\"background-color:rgba(135,206,250,0.15087399);\">!</span> <span style=\"background-color:rgba(135,206,250,0.1338772);\">i</span> <span style=\"background-color:rgba(135,206,250,0.16226132);\">have</span> <span style=\"background-color:rgba(135,206,250,0.11485705);\">sensitive</span> <span style=\"background-color:rgba(135,206,250,0.07038156);\">skin</span> <span style=\"background-color:rgba(135,206,250,0.25260213);\">and</span> <span style=\"background-color:rgba(135,206,250,0.22615723);\">this</span> <span style=\"background-color:rgba(135,206,250,0.38515204);\">is</span> <span style=\"background-color:rgba(135,206,250,0.2516992);\">the</span> <span style=\"background-color:rgba(135,206,250,1.0);\">perfect</span> <span style=\"background-color:rgba(135,206,250,0.22097859);\">amount</span>"
            ]
          },
          "metadata": {}
        },
        {
          "output_type": "stream",
          "name": "stdout",
          "text": [
            "of:   \t98.07%\n",
            ".:   \t1.55%\n",
            "for:   \t0.12%\n",
            "!:   \t0.07%\n",
            "to:   \t0.06%\n",
            "--------\n",
            "\n"
          ]
        },
        {
          "output_type": "display_data",
          "data": {
            "text/plain": [
              "<IPython.core.display.HTML object>"
            ],
            "text/html": [
              "<span style=\"background-color:rgba(135,206,250,0.19913588);\">review</span> <span style=\"background-color:rgba(135,206,250,0.3065449);\">for</span> <span style=\"background-color:rgba(135,206,250,0.12951913);\">hyaluronic</span> <span style=\"background-color:rgba(135,206,250,0.33021775);\">acid</span> <span style=\"background-color:rgba(135,206,250,0.26624623);\">booster</span> <span style=\"background-color:rgba(135,206,250,0.14512527);\">|</span> <span style=\"background-color:rgba(135,206,250,0.1277668);\">this</span> <span style=\"background-color:rgba(135,206,250,0.077097446);\">is</span> <span style=\"background-color:rgba(135,206,250,0.06045693);\">a</span> <span style=\"background-color:rgba(135,206,250,0.07092516);\">great</span> <span style=\"background-color:rgba(135,206,250,0.11567298);\">product</span> <span style=\"background-color:rgba(135,206,250,0.09411481);\">.</span> <span style=\"background-color:rgba(135,206,250,0.074124806);\">i</span> <span style=\"background-color:rgba(135,206,250,0.04422868);\">have</span> <span style=\"background-color:rgba(135,206,250,0.13155875);\">sensitive</span> <span style=\"background-color:rgba(135,206,250,0.08208991);\">skin</span> <span style=\"background-color:rgba(135,206,250,0.057525173);\">and</span> <span style=\"background-color:rgba(135,206,250,0.058425955);\">this</span> <span style=\"background-color:rgba(135,206,250,0.046523105);\">is</span> <span style=\"background-color:rgba(135,206,250,0.047617406);\">the</span> <span style=\"background-color:rgba(135,206,250,0.070262976);\">perfect</span> <span style=\"background-color:rgba(135,206,250,0.10961306);\">size</span> <span style=\"background-color:rgba(135,206,250,0.086417384);\">!</span> <span style=\"background-color:rgba(135,206,250,0.09108992);\">i</span> <span style=\"background-color:rgba(135,206,250,0.07568975);\">have</span> <span style=\"background-color:rgba(135,206,250,0.2384606);\">sensitive</span> <span style=\"background-color:rgba(135,206,250,0.17277022);\">skin</span> <span style=\"background-color:rgba(135,206,250,0.16256098);\">and</span> <span style=\"background-color:rgba(135,206,250,0.22761771);\">this</span> <span style=\"background-color:rgba(135,206,250,0.2687529);\">is</span> <span style=\"background-color:rgba(135,206,250,0.24037);\">the</span> <span style=\"background-color:rgba(135,206,250,0.53393203);\">perfect</span> <span style=\"background-color:rgba(135,206,250,1.0);\">amount</span> <span style=\"background-color:rgba(135,206,250,0.1729807);\">of</span>"
            ]
          },
          "metadata": {}
        },
        {
          "output_type": "stream",
          "name": "stdout",
          "text": [
            "hydration:   \t93.09%\n",
            "moisture:   \t5.24%\n",
            "product:   \t1.47%\n",
            "essence:   \t0.03%\n",
            "time:   \t0.03%\n",
            "--------\n",
            "\n"
          ]
        },
        {
          "output_type": "display_data",
          "data": {
            "text/plain": [
              "<IPython.core.display.HTML object>"
            ],
            "text/html": [
              "<span style=\"background-color:rgba(135,206,250,0.30940852);\">review</span> <span style=\"background-color:rgba(135,206,250,0.4412341);\">for</span> <span style=\"background-color:rgba(135,206,250,0.14432621);\">hyaluronic</span> <span style=\"background-color:rgba(135,206,250,0.1930231);\">acid</span> <span style=\"background-color:rgba(135,206,250,0.2743247);\">booster</span> <span style=\"background-color:rgba(135,206,250,0.32828474);\">|</span> <span style=\"background-color:rgba(135,206,250,0.14756373);\">this</span> <span style=\"background-color:rgba(135,206,250,0.13469689);\">is</span> <span style=\"background-color:rgba(135,206,250,0.09037773);\">a</span> <span style=\"background-color:rgba(135,206,250,0.13191637);\">great</span> <span style=\"background-color:rgba(135,206,250,0.1607945);\">product</span> <span style=\"background-color:rgba(135,206,250,0.21323004);\">.</span> <span style=\"background-color:rgba(135,206,250,0.12711912);\">i</span> <span style=\"background-color:rgba(135,206,250,0.076368965);\">have</span> <span style=\"background-color:rgba(135,206,250,0.08961128);\">sensitive</span> <span style=\"background-color:rgba(135,206,250,0.07288169);\">skin</span> <span style=\"background-color:rgba(135,206,250,0.11532868);\">and</span> <span style=\"background-color:rgba(135,206,250,0.05853927);\">this</span> <span style=\"background-color:rgba(135,206,250,0.07857899);\">is</span> <span style=\"background-color:rgba(135,206,250,0.054859355);\">the</span> <span style=\"background-color:rgba(135,206,250,0.11134679);\">perfect</span> <span style=\"background-color:rgba(135,206,250,0.06857832);\">size</span> <span style=\"background-color:rgba(135,206,250,0.20317537);\">!</span> <span style=\"background-color:rgba(135,206,250,0.13900578);\">i</span> <span style=\"background-color:rgba(135,206,250,0.10115895);\">have</span> <span style=\"background-color:rgba(135,206,250,0.12607457);\">sensitive</span> <span style=\"background-color:rgba(135,206,250,0.117425375);\">skin</span> <span style=\"background-color:rgba(135,206,250,0.22093189);\">and</span> <span style=\"background-color:rgba(135,206,250,0.15177874);\">this</span> <span style=\"background-color:rgba(135,206,250,0.19452734);\">is</span> <span style=\"background-color:rgba(135,206,250,0.29138756);\">the</span> <span style=\"background-color:rgba(135,206,250,0.55215216);\">perfect</span> <span style=\"background-color:rgba(135,206,250,0.48285365);\">amount</span> <span style=\"background-color:rgba(135,206,250,0.71442616);\">of</span> <span style=\"background-color:rgba(135,206,250,1.0);\">hydration</span>"
            ]
          },
          "metadata": {}
        },
        {
          "output_type": "stream",
          "name": "stdout",
          "text": [
            ".:   \t78.72%\n",
            "and:   \t12.3%\n",
            "without:   \t2.8%\n",
            ",:   \t1.61%\n",
            "!:   \t1.22%\n",
            "--------\n",
            "\n"
          ]
        },
        {
          "output_type": "display_data",
          "data": {
            "text/plain": [
              "<IPython.core.display.HTML object>"
            ],
            "text/html": [
              "<span style=\"background-color:rgba(135,206,250,0.15268376);\">review</span> <span style=\"background-color:rgba(135,206,250,0.14817865);\">for</span> <span style=\"background-color:rgba(135,206,250,0.07374791);\">hyaluronic</span> <span style=\"background-color:rgba(135,206,250,0.14835434);\">acid</span> <span style=\"background-color:rgba(135,206,250,0.07003037);\">booster</span> <span style=\"background-color:rgba(135,206,250,0.08378045);\">|</span> <span style=\"background-color:rgba(135,206,250,0.08713159);\">this</span> <span style=\"background-color:rgba(135,206,250,0.06949975);\">is</span> <span style=\"background-color:rgba(135,206,250,0.03826794);\">a</span> <span style=\"background-color:rgba(135,206,250,0.07025262);\">great</span> <span style=\"background-color:rgba(135,206,250,0.070494466);\">product</span> <span style=\"background-color:rgba(135,206,250,0.06193832);\">.</span> <span style=\"background-color:rgba(135,206,250,0.07655896);\">i</span> <span style=\"background-color:rgba(135,206,250,0.05740946);\">have</span> <span style=\"background-color:rgba(135,206,250,0.087729104);\">sensitive</span> <span style=\"background-color:rgba(135,206,250,0.046834715);\">skin</span> <span style=\"background-color:rgba(135,206,250,0.03088001);\">and</span> <span style=\"background-color:rgba(135,206,250,0.048863716);\">this</span> <span style=\"background-color:rgba(135,206,250,0.04906636);\">is</span> <span style=\"background-color:rgba(135,206,250,0.030953093);\">the</span> <span style=\"background-color:rgba(135,206,250,0.07889356);\">perfect</span> <span style=\"background-color:rgba(135,206,250,0.04806983);\">size</span> <span style=\"background-color:rgba(135,206,250,0.05507196);\">!</span> <span style=\"background-color:rgba(135,206,250,0.089691386);\">i</span> <span style=\"background-color:rgba(135,206,250,0.076021306);\">have</span> <span style=\"background-color:rgba(135,206,250,0.12914279);\">sensitive</span> <span style=\"background-color:rgba(135,206,250,0.073734134);\">skin</span> <span style=\"background-color:rgba(135,206,250,0.051456146);\">and</span> <span style=\"background-color:rgba(135,206,250,0.10020979);\">this</span> <span style=\"background-color:rgba(135,206,250,0.15549605);\">is</span> <span style=\"background-color:rgba(135,206,250,0.13676);\">the</span> <span style=\"background-color:rgba(135,206,250,0.2199883);\">perfect</span> <span style=\"background-color:rgba(135,206,250,0.16850671);\">amount</span> <span style=\"background-color:rgba(135,206,250,0.25255746);\">of</span> <span style=\"background-color:rgba(135,206,250,1.0);\">hydration</span> <span style=\"background-color:rgba(135,206,250,0.201904);\">and</span>"
            ]
          },
          "metadata": {}
        },
        {
          "output_type": "stream",
          "name": "stdout",
          "text": [
            "my:   \t29.71%\n",
            "it:   \t22.65%\n",
            "the:   \t16.79%\n",
            "i:   \t9.46%\n",
            "a:   \t4.41%\n",
            "--------\n",
            "\n"
          ]
        },
        {
          "output_type": "display_data",
          "data": {
            "text/plain": [
              "<IPython.core.display.HTML object>"
            ],
            "text/html": [
              "<span style=\"background-color:rgba(135,206,250,0.12888636);\">review</span> <span style=\"background-color:rgba(135,206,250,0.1627964);\">for</span> <span style=\"background-color:rgba(135,206,250,0.06822267);\">hyaluronic</span> <span style=\"background-color:rgba(135,206,250,0.28328753);\">acid</span> <span style=\"background-color:rgba(135,206,250,0.35078606);\">booster</span> <span style=\"background-color:rgba(135,206,250,0.15160242);\">|</span> <span style=\"background-color:rgba(135,206,250,0.10936277);\">this</span> <span style=\"background-color:rgba(135,206,250,0.06841352);\">is</span> <span style=\"background-color:rgba(135,206,250,0.05287128);\">a</span> <span style=\"background-color:rgba(135,206,250,0.08917102);\">great</span> <span style=\"background-color:rgba(135,206,250,0.11020609);\">product</span> <span style=\"background-color:rgba(135,206,250,0.08229044);\">.</span> <span style=\"background-color:rgba(135,206,250,0.04960434);\">i</span> <span style=\"background-color:rgba(135,206,250,0.04614537);\">have</span> <span style=\"background-color:rgba(135,206,250,0.1245157);\">sensitive</span> <span style=\"background-color:rgba(135,206,250,0.07347798);\">skin</span> <span style=\"background-color:rgba(135,206,250,0.042041004);\">and</span> <span style=\"background-color:rgba(135,206,250,0.046334174);\">this</span> <span style=\"background-color:rgba(135,206,250,0.035716623);\">is</span> <span style=\"background-color:rgba(135,206,250,0.02684653);\">the</span> <span style=\"background-color:rgba(135,206,250,0.1049801);\">perfect</span> <span style=\"background-color:rgba(135,206,250,0.14273618);\">size</span> <span style=\"background-color:rgba(135,206,250,0.063444264);\">!</span> <span style=\"background-color:rgba(135,206,250,0.045583647);\">i</span> <span style=\"background-color:rgba(135,206,250,0.047724);\">have</span> <span style=\"background-color:rgba(135,206,250,0.14392343);\">sensitive</span> <span style=\"background-color:rgba(135,206,250,0.100243986);\">skin</span> <span style=\"background-color:rgba(135,206,250,0.07985909);\">and</span> <span style=\"background-color:rgba(135,206,250,0.087639056);\">this</span> <span style=\"background-color:rgba(135,206,250,0.11549213);\">is</span> <span style=\"background-color:rgba(135,206,250,0.04908086);\">the</span> <span style=\"background-color:rgba(135,206,250,0.30004674);\">perfect</span> <span style=\"background-color:rgba(135,206,250,0.22625244);\">amount</span> <span style=\"background-color:rgba(135,206,250,0.20900492);\">of</span> <span style=\"background-color:rgba(135,206,250,1.0);\">hydration</span> <span style=\"background-color:rgba(135,206,250,0.8113875);\">and</span> <span style=\"background-color:rgba(135,206,250,0.22945154);\">the</span>"
            ]
          },
          "metadata": {}
        },
        {
          "output_type": "stream",
          "name": "stdout",
          "text": [
            "texture:   \t46.5%\n",
            "skin:   \t17.53%\n",
            "redness:   \t5.75%\n",
            "price:   \t4.13%\n",
            "hydration:   \t3.53%\n",
            "--------\n",
            "\n"
          ]
        },
        {
          "output_type": "display_data",
          "data": {
            "text/plain": [
              "<IPython.core.display.HTML object>"
            ],
            "text/html": [
              "<span style=\"background-color:rgba(135,206,250,0.18248533);\">review</span> <span style=\"background-color:rgba(135,206,250,0.33117807);\">for</span> <span style=\"background-color:rgba(135,206,250,0.062695056);\">hyaluronic</span> <span style=\"background-color:rgba(135,206,250,0.105350204);\">acid</span> <span style=\"background-color:rgba(135,206,250,0.060479995);\">booster</span> <span style=\"background-color:rgba(135,206,250,0.1449238);\">|</span> <span style=\"background-color:rgba(135,206,250,0.11600337);\">this</span> <span style=\"background-color:rgba(135,206,250,0.12215903);\">is</span> <span style=\"background-color:rgba(135,206,250,0.056619607);\">a</span> <span style=\"background-color:rgba(135,206,250,0.10775806);\">great</span> <span style=\"background-color:rgba(135,206,250,0.10931626);\">product</span> <span style=\"background-color:rgba(135,206,250,0.1392771);\">.</span> <span style=\"background-color:rgba(135,206,250,0.07153015);\">i</span> <span style=\"background-color:rgba(135,206,250,0.08862407);\">have</span> <span style=\"background-color:rgba(135,206,250,0.048438035);\">sensitive</span> <span style=\"background-color:rgba(135,206,250,0.04105112);\">skin</span> <span style=\"background-color:rgba(135,206,250,0.09335487);\">and</span> <span style=\"background-color:rgba(135,206,250,0.06741514);\">this</span> <span style=\"background-color:rgba(135,206,250,0.09476795);\">is</span> <span style=\"background-color:rgba(135,206,250,0.04054003);\">the</span> <span style=\"background-color:rgba(135,206,250,0.08066767);\">perfect</span> <span style=\"background-color:rgba(135,206,250,0.045190632);\">size</span> <span style=\"background-color:rgba(135,206,250,0.14416689);\">!</span> <span style=\"background-color:rgba(135,206,250,0.08127968);\">i</span> <span style=\"background-color:rgba(135,206,250,0.12369215);\">have</span> <span style=\"background-color:rgba(135,206,250,0.070093006);\">sensitive</span> <span style=\"background-color:rgba(135,206,250,0.0604168);\">skin</span> <span style=\"background-color:rgba(135,206,250,0.17065175);\">and</span> <span style=\"background-color:rgba(135,206,250,0.15746172);\">this</span> <span style=\"background-color:rgba(135,206,250,0.1921179);\">is</span> <span style=\"background-color:rgba(135,206,250,0.16888236);\">the</span> <span style=\"background-color:rgba(135,206,250,0.3610119);\">perfect</span> <span style=\"background-color:rgba(135,206,250,0.21308556);\">amount</span> <span style=\"background-color:rgba(135,206,250,0.2930432);\">of</span> <span style=\"background-color:rgba(135,206,250,0.3815774);\">hydration</span> <span style=\"background-color:rgba(135,206,250,0.7807005);\">and</span> <span style=\"background-color:rgba(135,206,250,1.0);\">the</span> <span style=\"background-color:rgba(135,206,250,0.40610537);\">texture</span>"
            ]
          },
          "metadata": {}
        },
        {
          "output_type": "stream",
          "name": "stdout",
          "text": [
            "is:   \t84.76%\n",
            "of:   \t10.44%\n",
            ".:   \t2.79%\n",
            "and:   \t0.95%\n",
            "on:   \t0.57%\n",
            "--------\n",
            "\n"
          ]
        },
        {
          "output_type": "display_data",
          "data": {
            "text/plain": [
              "<IPython.core.display.HTML object>"
            ],
            "text/html": [
              "<span style=\"background-color:rgba(135,206,250,0.10687615);\">review</span> <span style=\"background-color:rgba(135,206,250,0.07145382);\">for</span> <span style=\"background-color:rgba(135,206,250,0.02948402);\">hyaluronic</span> <span style=\"background-color:rgba(135,206,250,0.060710803);\">acid</span> <span style=\"background-color:rgba(135,206,250,0.055341944);\">booster</span> <span style=\"background-color:rgba(135,206,250,0.04317382);\">|</span> <span style=\"background-color:rgba(135,206,250,0.03743286);\">this</span> <span style=\"background-color:rgba(135,206,250,0.024389844);\">is</span> <span style=\"background-color:rgba(135,206,250,0.026422126);\">a</span> <span style=\"background-color:rgba(135,206,250,0.086592846);\">great</span> <span style=\"background-color:rgba(135,206,250,0.04472771);\">product</span> <span style=\"background-color:rgba(135,206,250,0.054441832);\">.</span> <span style=\"background-color:rgba(135,206,250,0.030348945);\">i</span> <span style=\"background-color:rgba(135,206,250,0.031728204);\">have</span> <span style=\"background-color:rgba(135,206,250,0.086746246);\">sensitive</span> <span style=\"background-color:rgba(135,206,250,0.027593661);\">skin</span> <span style=\"background-color:rgba(135,206,250,0.03532426);\">and</span> <span style=\"background-color:rgba(135,206,250,0.02696259);\">this</span> <span style=\"background-color:rgba(135,206,250,0.020380927);\">is</span> <span style=\"background-color:rgba(135,206,250,0.020549284);\">the</span> <span style=\"background-color:rgba(135,206,250,0.10983089);\">perfect</span> <span style=\"background-color:rgba(135,206,250,0.048946895);\">size</span> <span style=\"background-color:rgba(135,206,250,0.06182907);\">!</span> <span style=\"background-color:rgba(135,206,250,0.029955948);\">i</span> <span style=\"background-color:rgba(135,206,250,0.032612614);\">have</span> <span style=\"background-color:rgba(135,206,250,0.102492474);\">sensitive</span> <span style=\"background-color:rgba(135,206,250,0.037230864);\">skin</span> <span style=\"background-color:rgba(135,206,250,0.05211185);\">and</span> <span style=\"background-color:rgba(135,206,250,0.04267713);\">this</span> <span style=\"background-color:rgba(135,206,250,0.023444332);\">is</span> <span style=\"background-color:rgba(135,206,250,0.040265944);\">the</span> <span style=\"background-color:rgba(135,206,250,0.13895144);\">perfect</span> <span style=\"background-color:rgba(135,206,250,0.14257604);\">amount</span> <span style=\"background-color:rgba(135,206,250,0.034807865);\">of</span> <span style=\"background-color:rgba(135,206,250,0.2365766);\">hydration</span> <span style=\"background-color:rgba(135,206,250,0.18287551);\">and</span> <span style=\"background-color:rgba(135,206,250,0.20251128);\">the</span> <span style=\"background-color:rgba(135,206,250,1.0);\">texture</span> <span style=\"background-color:rgba(135,206,250,0.065091036);\">is</span>"
            ]
          },
          "metadata": {}
        },
        {
          "output_type": "stream",
          "name": "stdout",
          "text": [
            "perfect:   \t46.22%\n",
            "great:   \t9.17%\n",
            ".:   \t8.54%\n",
            "not:   \t5.43%\n",
            "so:   \t5.26%\n",
            "--------\n",
            "\n"
          ]
        },
        {
          "output_type": "display_data",
          "data": {
            "text/plain": [
              "<IPython.core.display.HTML object>"
            ],
            "text/html": [
              "<span style=\"background-color:rgba(135,206,250,0.09033955);\">review</span> <span style=\"background-color:rgba(135,206,250,0.15165919);\">for</span> <span style=\"background-color:rgba(135,206,250,0.097490974);\">hyaluronic</span> <span style=\"background-color:rgba(135,206,250,0.17687619);\">acid</span> <span style=\"background-color:rgba(135,206,250,0.26943356);\">booster</span> <span style=\"background-color:rgba(135,206,250,0.082899295);\">|</span> <span style=\"background-color:rgba(135,206,250,0.057142705);\">this</span> <span style=\"background-color:rgba(135,206,250,0.06668166);\">is</span> <span style=\"background-color:rgba(135,206,250,0.031047147);\">a</span> <span style=\"background-color:rgba(135,206,250,0.06432181);\">great</span> <span style=\"background-color:rgba(135,206,250,0.12644307);\">product</span> <span style=\"background-color:rgba(135,206,250,0.12059861);\">.</span> <span style=\"background-color:rgba(135,206,250,0.043550473);\">i</span> <span style=\"background-color:rgba(135,206,250,0.028297892);\">have</span> <span style=\"background-color:rgba(135,206,250,0.06767385);\">sensitive</span> <span style=\"background-color:rgba(135,206,250,0.087437175);\">skin</span> <span style=\"background-color:rgba(135,206,250,0.060968045);\">and</span> <span style=\"background-color:rgba(135,206,250,0.027442258);\">this</span> <span style=\"background-color:rgba(135,206,250,0.038597744);\">is</span> <span style=\"background-color:rgba(135,206,250,0.029310023);\">the</span> <span style=\"background-color:rgba(135,206,250,0.047928903);\">perfect</span> <span style=\"background-color:rgba(135,206,250,0.088492595);\">size</span> <span style=\"background-color:rgba(135,206,250,0.12358765);\">!</span> <span style=\"background-color:rgba(135,206,250,0.04326618);\">i</span> <span style=\"background-color:rgba(135,206,250,0.033751458);\">have</span> <span style=\"background-color:rgba(135,206,250,0.077702165);\">sensitive</span> <span style=\"background-color:rgba(135,206,250,0.11729246);\">skin</span> <span style=\"background-color:rgba(135,206,250,0.09189472);\">and</span> <span style=\"background-color:rgba(135,206,250,0.052293636);\">this</span> <span style=\"background-color:rgba(135,206,250,0.06984779);\">is</span> <span style=\"background-color:rgba(135,206,250,0.06535388);\">the</span> <span style=\"background-color:rgba(135,206,250,0.07499079);\">perfect</span> <span style=\"background-color:rgba(135,206,250,0.120110996);\">amount</span> <span style=\"background-color:rgba(135,206,250,0.110919535);\">of</span> <span style=\"background-color:rgba(135,206,250,0.27534682);\">hydration</span> <span style=\"background-color:rgba(135,206,250,0.27778062);\">and</span> <span style=\"background-color:rgba(135,206,250,0.34096828);\">the</span> <span style=\"background-color:rgba(135,206,250,1.0);\">texture</span> <span style=\"background-color:rgba(135,206,250,0.4283264);\">is</span> <span style=\"background-color:rgba(135,206,250,0.27943408);\">perfect</span>"
            ]
          },
          "metadata": {}
        },
        {
          "output_type": "stream",
          "name": "stdout",
          "text": [
            ".:   \t82.98%\n",
            "for:   \t5.17%\n",
            "!:   \t4.87%\n",
            ",:   \t2.92%\n",
            "to:   \t1.33%\n",
            "--------\n",
            "\n"
          ]
        },
        {
          "output_type": "display_data",
          "data": {
            "text/plain": [
              "<IPython.core.display.HTML object>"
            ],
            "text/html": [
              "<span style=\"background-color:rgba(135,206,250,0.30082622);\">review</span> <span style=\"background-color:rgba(135,206,250,0.23353238);\">for</span> <span style=\"background-color:rgba(135,206,250,0.13479166);\">hyaluronic</span> <span style=\"background-color:rgba(135,206,250,0.19191618);\">acid</span> <span style=\"background-color:rgba(135,206,250,0.07218121);\">booster</span> <span style=\"background-color:rgba(135,206,250,0.24575609);\">|</span> <span style=\"background-color:rgba(135,206,250,0.27147442);\">this</span> <span style=\"background-color:rgba(135,206,250,0.15968572);\">is</span> <span style=\"background-color:rgba(135,206,250,0.09689745);\">a</span> <span style=\"background-color:rgba(135,206,250,0.23575495);\">great</span> <span style=\"background-color:rgba(135,206,250,0.20421632);\">product</span> <span style=\"background-color:rgba(135,206,250,0.2168997);\">.</span> <span style=\"background-color:rgba(135,206,250,0.18492368);\">i</span> <span style=\"background-color:rgba(135,206,250,0.121222846);\">have</span> <span style=\"background-color:rgba(135,206,250,0.112199284);\">sensitive</span> <span style=\"background-color:rgba(135,206,250,0.072477385);\">skin</span> <span style=\"background-color:rgba(135,206,250,0.08403567);\">and</span> <span style=\"background-color:rgba(135,206,250,0.14079267);\">this</span> <span style=\"background-color:rgba(135,206,250,0.09472247);\">is</span> <span style=\"background-color:rgba(135,206,250,0.055135928);\">the</span> <span style=\"background-color:rgba(135,206,250,0.16719972);\">perfect</span> <span style=\"background-color:rgba(135,206,250,0.088099115);\">size</span> <span style=\"background-color:rgba(135,206,250,0.10905304);\">!</span> <span style=\"background-color:rgba(135,206,250,0.11183187);\">i</span> <span style=\"background-color:rgba(135,206,250,0.095865116);\">have</span> <span style=\"background-color:rgba(135,206,250,0.10294543);\">sensitive</span> <span style=\"background-color:rgba(135,206,250,0.06614277);\">skin</span> <span style=\"background-color:rgba(135,206,250,0.08514669);\">and</span> <span style=\"background-color:rgba(135,206,250,0.17423597);\">this</span> <span style=\"background-color:rgba(135,206,250,0.1381817);\">is</span> <span style=\"background-color:rgba(135,206,250,0.08130637);\">the</span> <span style=\"background-color:rgba(135,206,250,0.2379409);\">perfect</span> <span style=\"background-color:rgba(135,206,250,0.15149498);\">amount</span> <span style=\"background-color:rgba(135,206,250,0.0943508);\">of</span> <span style=\"background-color:rgba(135,206,250,0.25648436);\">hydration</span> <span style=\"background-color:rgba(135,206,250,0.26900116);\">and</span> <span style=\"background-color:rgba(135,206,250,0.22939163);\">the</span> <span style=\"background-color:rgba(135,206,250,0.31918627);\">texture</span> <span style=\"background-color:rgba(135,206,250,0.3422114);\">is</span> <span style=\"background-color:rgba(135,206,250,0.6506582);\">perfect</span> <span style=\"background-color:rgba(135,206,250,1.0);\">.</span>"
            ]
          },
          "metadata": {}
        },
        {
          "output_type": "stream",
          "name": "stdout",
          "text": [
            "i:   \t46.74%\n",
            "it:   \t37.26%\n",
            ":   \t5.29%\n",
            "the:   \t4.48%\n",
            "my:   \t3.81%\n",
            "--------\n",
            "\n"
          ]
        },
        {
          "output_type": "display_data",
          "data": {
            "text/plain": [
              "<IPython.core.display.HTML object>"
            ],
            "text/html": [
              "<span style=\"background-color:rgba(135,206,250,0.07911546);\">review</span> <span style=\"background-color:rgba(135,206,250,0.0643454);\">for</span> <span style=\"background-color:rgba(135,206,250,0.039982125);\">hyaluronic</span> <span style=\"background-color:rgba(135,206,250,0.08109224);\">acid</span> <span style=\"background-color:rgba(135,206,250,0.049693856);\">booster</span> <span style=\"background-color:rgba(135,206,250,0.05157084);\">|</span> <span style=\"background-color:rgba(135,206,250,0.03997425);\">this</span> <span style=\"background-color:rgba(135,206,250,0.069261886);\">is</span> <span style=\"background-color:rgba(135,206,250,0.022257248);\">a</span> <span style=\"background-color:rgba(135,206,250,0.079629846);\">great</span> <span style=\"background-color:rgba(135,206,250,0.05618075);\">product</span> <span style=\"background-color:rgba(135,206,250,0.04394848);\">.</span> <span style=\"background-color:rgba(135,206,250,0.026345508);\">i</span> <span style=\"background-color:rgba(135,206,250,0.046280645);\">have</span> <span style=\"background-color:rgba(135,206,250,0.05584145);\">sensitive</span> <span style=\"background-color:rgba(135,206,250,0.02671437);\">skin</span> <span style=\"background-color:rgba(135,206,250,0.023451783);\">and</span> <span style=\"background-color:rgba(135,206,250,0.023138352);\">this</span> <span style=\"background-color:rgba(135,206,250,0.046951868);\">is</span> <span style=\"background-color:rgba(135,206,250,0.014905418);\">the</span> <span style=\"background-color:rgba(135,206,250,0.053568915);\">perfect</span> <span style=\"background-color:rgba(135,206,250,0.03252489);\">size</span> <span style=\"background-color:rgba(135,206,250,0.05832794);\">!</span> <span style=\"background-color:rgba(135,206,250,0.025869055);\">i</span> <span style=\"background-color:rgba(135,206,250,0.047863476);\">have</span> <span style=\"background-color:rgba(135,206,250,0.06250307);\">sensitive</span> <span style=\"background-color:rgba(135,206,250,0.03191514);\">skin</span> <span style=\"background-color:rgba(135,206,250,0.032196324);\">and</span> <span style=\"background-color:rgba(135,206,250,0.03282705);\">this</span> <span style=\"background-color:rgba(135,206,250,0.07078014);\">is</span> <span style=\"background-color:rgba(135,206,250,0.028091257);\">the</span> <span style=\"background-color:rgba(135,206,250,0.083190575);\">perfect</span> <span style=\"background-color:rgba(135,206,250,0.070995785);\">amount</span> <span style=\"background-color:rgba(135,206,250,0.04361078);\">of</span> <span style=\"background-color:rgba(135,206,250,0.15002482);\">hydration</span> <span style=\"background-color:rgba(135,206,250,0.1085214);\">and</span> <span style=\"background-color:rgba(135,206,250,0.098258466);\">the</span> <span style=\"background-color:rgba(135,206,250,0.24972324);\">texture</span> <span style=\"background-color:rgba(135,206,250,0.2344923);\">is</span> <span style=\"background-color:rgba(135,206,250,0.2938156);\">perfect</span> <span style=\"background-color:rgba(135,206,250,1.0);\">.</span> <span style=\"background-color:rgba(135,206,250,0.2434956);\">it</span>"
            ]
          },
          "metadata": {}
        },
        {
          "output_type": "stream",
          "name": "stdout",
          "text": [
            "is:   \t36.57%\n",
            "has:   \t14.31%\n",
            "feels:   \t9.98%\n",
            "absorbs:   \t6.23%\n",
            "doesn’t:   \t5.05%\n",
            "--------\n",
            "\n"
          ]
        },
        {
          "output_type": "display_data",
          "data": {
            "text/plain": [
              "<IPython.core.display.HTML object>"
            ],
            "text/html": [
              "<span style=\"background-color:rgba(135,206,250,0.12888327);\">review</span> <span style=\"background-color:rgba(135,206,250,0.10498279);\">for</span> <span style=\"background-color:rgba(135,206,250,0.04868666);\">hyaluronic</span> <span style=\"background-color:rgba(135,206,250,0.09439555);\">acid</span> <span style=\"background-color:rgba(135,206,250,0.057208423);\">booster</span> <span style=\"background-color:rgba(135,206,250,0.06557128);\">|</span> <span style=\"background-color:rgba(135,206,250,0.10070049);\">this</span> <span style=\"background-color:rgba(135,206,250,0.056022193);\">is</span> <span style=\"background-color:rgba(135,206,250,0.039520815);\">a</span> <span style=\"background-color:rgba(135,206,250,0.08636775);\">great</span> <span style=\"background-color:rgba(135,206,250,0.06382149);\">product</span> <span style=\"background-color:rgba(135,206,250,0.085765906);\">.</span> <span style=\"background-color:rgba(135,206,250,0.05015854);\">i</span> <span style=\"background-color:rgba(135,206,250,0.038540874);\">have</span> <span style=\"background-color:rgba(135,206,250,0.07157852);\">sensitive</span> <span style=\"background-color:rgba(135,206,250,0.052484088);\">skin</span> <span style=\"background-color:rgba(135,206,250,0.063482784);\">and</span> <span style=\"background-color:rgba(135,206,250,0.06216789);\">this</span> <span style=\"background-color:rgba(135,206,250,0.05136787);\">is</span> <span style=\"background-color:rgba(135,206,250,0.028305987);\">the</span> <span style=\"background-color:rgba(135,206,250,0.07812326);\">perfect</span> <span style=\"background-color:rgba(135,206,250,0.05490399);\">size</span> <span style=\"background-color:rgba(135,206,250,0.08636273);\">!</span> <span style=\"background-color:rgba(135,206,250,0.051470812);\">i</span> <span style=\"background-color:rgba(135,206,250,0.048246022);\">have</span> <span style=\"background-color:rgba(135,206,250,0.08999511);\">sensitive</span> <span style=\"background-color:rgba(135,206,250,0.06839891);\">skin</span> <span style=\"background-color:rgba(135,206,250,0.093177035);\">and</span> <span style=\"background-color:rgba(135,206,250,0.091216415);\">this</span> <span style=\"background-color:rgba(135,206,250,0.07162614);\">is</span> <span style=\"background-color:rgba(135,206,250,0.050853);\">the</span> <span style=\"background-color:rgba(135,206,250,0.13053451);\">perfect</span> <span style=\"background-color:rgba(135,206,250,0.12910862);\">amount</span> <span style=\"background-color:rgba(135,206,250,0.053692542);\">of</span> <span style=\"background-color:rgba(135,206,250,0.19020517);\">hydration</span> <span style=\"background-color:rgba(135,206,250,0.23335357);\">and</span> <span style=\"background-color:rgba(135,206,250,0.16840135);\">the</span> <span style=\"background-color:rgba(135,206,250,0.305105);\">texture</span> <span style=\"background-color:rgba(135,206,250,0.1636709);\">is</span> <span style=\"background-color:rgba(135,206,250,0.3974655);\">perfect</span> <span style=\"background-color:rgba(135,206,250,1.0);\">.</span> <span style=\"background-color:rgba(135,206,250,0.6667333);\">it</span> <span style=\"background-color:rgba(135,206,250,0.40136716);\">absorbs</span>"
            ]
          },
          "metadata": {}
        },
        {
          "output_type": "stream",
          "name": "stdout",
          "text": [
            "quickly:   \t87.98%\n",
            "easily:   \t4.57%\n",
            "into:   \t4.29%\n",
            "very:   \t1.16%\n",
            "well:   \t0.85%\n",
            "--------\n",
            "\n"
          ]
        },
        {
          "output_type": "display_data",
          "data": {
            "text/plain": [
              "<IPython.core.display.HTML object>"
            ],
            "text/html": [
              "<span style=\"background-color:rgba(135,206,250,0.13314684);\">review</span> <span style=\"background-color:rgba(135,206,250,0.09595909);\">for</span> <span style=\"background-color:rgba(135,206,250,0.056413326);\">hyaluronic</span> <span style=\"background-color:rgba(135,206,250,0.05907281);\">acid</span> <span style=\"background-color:rgba(135,206,250,0.058734145);\">booster</span> <span style=\"background-color:rgba(135,206,250,0.053188182);\">|</span> <span style=\"background-color:rgba(135,206,250,0.037771683);\">this</span> <span style=\"background-color:rgba(135,206,250,0.045634918);\">is</span> <span style=\"background-color:rgba(135,206,250,0.032239452);\">a</span> <span style=\"background-color:rgba(135,206,250,0.06452991);\">great</span> <span style=\"background-color:rgba(135,206,250,0.06033312);\">product</span> <span style=\"background-color:rgba(135,206,250,0.11142326);\">.</span> <span style=\"background-color:rgba(135,206,250,0.03987703);\">i</span> <span style=\"background-color:rgba(135,206,250,0.043467116);\">have</span> <span style=\"background-color:rgba(135,206,250,0.05097912);\">sensitive</span> <span style=\"background-color:rgba(135,206,250,0.025562229);\">skin</span> <span style=\"background-color:rgba(135,206,250,0.08613492);\">and</span> <span style=\"background-color:rgba(135,206,250,0.02565742);\">this</span> <span style=\"background-color:rgba(135,206,250,0.036730032);\">is</span> <span style=\"background-color:rgba(135,206,250,0.023552828);\">the</span> <span style=\"background-color:rgba(135,206,250,0.05984564);\">perfect</span> <span style=\"background-color:rgba(135,206,250,0.022830807);\">size</span> <span style=\"background-color:rgba(135,206,250,0.121498905);\">!</span> <span style=\"background-color:rgba(135,206,250,0.043481022);\">i</span> <span style=\"background-color:rgba(135,206,250,0.051059037);\">have</span> <span style=\"background-color:rgba(135,206,250,0.064096026);\">sensitive</span> <span style=\"background-color:rgba(135,206,250,0.034501504);\">skin</span> <span style=\"background-color:rgba(135,206,250,0.11961303);\">and</span> <span style=\"background-color:rgba(135,206,250,0.04328092);\">this</span> <span style=\"background-color:rgba(135,206,250,0.055273805);\">is</span> <span style=\"background-color:rgba(135,206,250,0.037338264);\">the</span> <span style=\"background-color:rgba(135,206,250,0.1009593);\">perfect</span> <span style=\"background-color:rgba(135,206,250,0.069247104);\">amount</span> <span style=\"background-color:rgba(135,206,250,0.05869732);\">of</span> <span style=\"background-color:rgba(135,206,250,0.13773271);\">hydration</span> <span style=\"background-color:rgba(135,206,250,0.24886656);\">and</span> <span style=\"background-color:rgba(135,206,250,0.10080423);\">the</span> <span style=\"background-color:rgba(135,206,250,0.19559568);\">texture</span> <span style=\"background-color:rgba(135,206,250,0.14656942);\">is</span> <span style=\"background-color:rgba(135,206,250,0.3162594);\">perfect</span> <span style=\"background-color:rgba(135,206,250,0.8702129);\">.</span> <span style=\"background-color:rgba(135,206,250,0.44760928);\">it</span> <span style=\"background-color:rgba(135,206,250,1.0);\">absorbs</span> <span style=\"background-color:rgba(135,206,250,0.17002748);\">quickly</span>"
            ]
          },
          "metadata": {}
        },
        {
          "output_type": "stream",
          "name": "stdout",
          "text": [
            "and:   \t80.64%\n",
            "into:   \t9.42%\n",
            "without:   \t5.08%\n",
            ",:   \t2.36%\n",
            ".:   \t1.81%\n",
            "--------\n",
            "\n"
          ]
        },
        {
          "output_type": "display_data",
          "data": {
            "text/plain": [
              "<IPython.core.display.HTML object>"
            ],
            "text/html": [
              "<span style=\"background-color:rgba(135,206,250,0.15126292);\">review</span> <span style=\"background-color:rgba(135,206,250,0.06178399);\">for</span> <span style=\"background-color:rgba(135,206,250,0.109332256);\">hyaluronic</span> <span style=\"background-color:rgba(135,206,250,0.17409354);\">acid</span> <span style=\"background-color:rgba(135,206,250,0.10692287);\">booster</span> <span style=\"background-color:rgba(135,206,250,0.0647468);\">|</span> <span style=\"background-color:rgba(135,206,250,0.10648003);\">this</span> <span style=\"background-color:rgba(135,206,250,0.045242123);\">is</span> <span style=\"background-color:rgba(135,206,250,0.033517107);\">a</span> <span style=\"background-color:rgba(135,206,250,0.08685572);\">great</span> <span style=\"background-color:rgba(135,206,250,0.08549803);\">product</span> <span style=\"background-color:rgba(135,206,250,0.09277688);\">.</span> <span style=\"background-color:rgba(135,206,250,0.06598971);\">i</span> <span style=\"background-color:rgba(135,206,250,0.0287872);\">have</span> <span style=\"background-color:rgba(135,206,250,0.13091697);\">sensitive</span> <span style=\"background-color:rgba(135,206,250,0.06702763);\">skin</span> <span style=\"background-color:rgba(135,206,250,0.060739417);\">and</span> <span style=\"background-color:rgba(135,206,250,0.058028646);\">this</span> <span style=\"background-color:rgba(135,206,250,0.037268955);\">is</span> <span style=\"background-color:rgba(135,206,250,0.043461867);\">the</span> <span style=\"background-color:rgba(135,206,250,0.07742426);\">perfect</span> <span style=\"background-color:rgba(135,206,250,0.08380079);\">size</span> <span style=\"background-color:rgba(135,206,250,0.09572207);\">!</span> <span style=\"background-color:rgba(135,206,250,0.077743165);\">i</span> <span style=\"background-color:rgba(135,206,250,0.03858688);\">have</span> <span style=\"background-color:rgba(135,206,250,0.16197065);\">sensitive</span> <span style=\"background-color:rgba(135,206,250,0.09282769);\">skin</span> <span style=\"background-color:rgba(135,206,250,0.10835623);\">and</span> <span style=\"background-color:rgba(135,206,250,0.10281355);\">this</span> <span style=\"background-color:rgba(135,206,250,0.07589855);\">is</span> <span style=\"background-color:rgba(135,206,250,0.07288871);\">the</span> <span style=\"background-color:rgba(135,206,250,0.14261708);\">perfect</span> <span style=\"background-color:rgba(135,206,250,0.09911245);\">amount</span> <span style=\"background-color:rgba(135,206,250,0.03868246);\">of</span> <span style=\"background-color:rgba(135,206,250,0.19677965);\">hydration</span> <span style=\"background-color:rgba(135,206,250,0.17663099);\">and</span> <span style=\"background-color:rgba(135,206,250,0.14057739);\">the</span> <span style=\"background-color:rgba(135,206,250,0.3199717);\">texture</span> <span style=\"background-color:rgba(135,206,250,0.16286524);\">is</span> <span style=\"background-color:rgba(135,206,250,0.33903724);\">perfect</span> <span style=\"background-color:rgba(135,206,250,0.8999865);\">.</span> <span style=\"background-color:rgba(135,206,250,0.3795047);\">it</span> <span style=\"background-color:rgba(135,206,250,1.0);\">absorbs</span> <span style=\"background-color:rgba(135,206,250,0.8263621);\">quickly</span> <span style=\"background-color:rgba(135,206,250,0.5436599);\">without</span>"
            ]
          },
          "metadata": {}
        },
        {
          "output_type": "stream",
          "name": "stdout",
          "text": [
            "leaving:   \t97.29%\n",
            "making:   \t0.91%\n",
            "feeling:   \t0.56%\n",
            "any:   \t0.51%\n",
            "being:   \t0.46%\n",
            "--------\n",
            "\n"
          ]
        },
        {
          "output_type": "display_data",
          "data": {
            "text/plain": [
              "<IPython.core.display.HTML object>"
            ],
            "text/html": [
              "<span style=\"background-color:rgba(135,206,250,0.1266974);\">review</span> <span style=\"background-color:rgba(135,206,250,0.044510823);\">for</span> <span style=\"background-color:rgba(135,206,250,0.15077543);\">hyaluronic</span> <span style=\"background-color:rgba(135,206,250,0.21011524);\">acid</span> <span style=\"background-color:rgba(135,206,250,0.16744678);\">booster</span> <span style=\"background-color:rgba(135,206,250,0.120868124);\">|</span> <span style=\"background-color:rgba(135,206,250,0.08685376);\">this</span> <span style=\"background-color:rgba(135,206,250,0.057267934);\">is</span> <span style=\"background-color:rgba(135,206,250,0.04860149);\">a</span> <span style=\"background-color:rgba(135,206,250,0.08087245);\">great</span> <span style=\"background-color:rgba(135,206,250,0.08768725);\">product</span> <span style=\"background-color:rgba(135,206,250,0.069813125);\">.</span> <span style=\"background-color:rgba(135,206,250,0.09314255);\">i</span> <span style=\"background-color:rgba(135,206,250,0.02739754);\">have</span> <span style=\"background-color:rgba(135,206,250,0.121236764);\">sensitive</span> <span style=\"background-color:rgba(135,206,250,0.06616478);\">skin</span> <span style=\"background-color:rgba(135,206,250,0.046816785);\">and</span> <span style=\"background-color:rgba(135,206,250,0.047761403);\">this</span> <span style=\"background-color:rgba(135,206,250,0.033380944);\">is</span> <span style=\"background-color:rgba(135,206,250,0.03466051);\">the</span> <span style=\"background-color:rgba(135,206,250,0.064825356);\">perfect</span> <span style=\"background-color:rgba(135,206,250,0.08335981);\">size</span> <span style=\"background-color:rgba(135,206,250,0.09471103);\">!</span> <span style=\"background-color:rgba(135,206,250,0.09654196);\">i</span> <span style=\"background-color:rgba(135,206,250,0.034611885);\">have</span> <span style=\"background-color:rgba(135,206,250,0.16593954);\">sensitive</span> <span style=\"background-color:rgba(135,206,250,0.15794493);\">skin</span> <span style=\"background-color:rgba(135,206,250,0.098300636);\">and</span> <span style=\"background-color:rgba(135,206,250,0.087562926);\">this</span> <span style=\"background-color:rgba(135,206,250,0.07103685);\">is</span> <span style=\"background-color:rgba(135,206,250,0.07818122);\">the</span> <span style=\"background-color:rgba(135,206,250,0.14153257);\">perfect</span> <span style=\"background-color:rgba(135,206,250,0.07568478);\">amount</span> <span style=\"background-color:rgba(135,206,250,0.044043552);\">of</span> <span style=\"background-color:rgba(135,206,250,0.195052);\">hydration</span> <span style=\"background-color:rgba(135,206,250,0.15140797);\">and</span> <span style=\"background-color:rgba(135,206,250,0.14767435);\">the</span> <span style=\"background-color:rgba(135,206,250,0.27392325);\">texture</span> <span style=\"background-color:rgba(135,206,250,0.1495808);\">is</span> <span style=\"background-color:rgba(135,206,250,0.36743584);\">perfect</span> <span style=\"background-color:rgba(135,206,250,0.52810764);\">.</span> <span style=\"background-color:rgba(135,206,250,0.362244);\">it</span> <span style=\"background-color:rgba(135,206,250,0.53326666);\">absorbs</span> <span style=\"background-color:rgba(135,206,250,0.6927258);\">quickly</span> <span style=\"background-color:rgba(135,206,250,1.0);\">without</span> <span style=\"background-color:rgba(135,206,250,0.27574494);\">leaving</span>"
            ]
          },
          "metadata": {}
        },
        {
          "output_type": "stream",
          "name": "stdout",
          "text": [
            "any:   \t65.79%\n",
            "a:   \t18.88%\n",
            "my:   \t14.59%\n",
            "the:   \t0.29%\n",
            "an:   \t0.16%\n",
            "--------\n",
            "\n"
          ]
        },
        {
          "output_type": "display_data",
          "data": {
            "text/plain": [
              "<IPython.core.display.HTML object>"
            ],
            "text/html": [
              "<span style=\"background-color:rgba(135,206,250,0.08406552);\">review</span> <span style=\"background-color:rgba(135,206,250,0.03936831);\">for</span> <span style=\"background-color:rgba(135,206,250,0.049349617);\">hyaluronic</span> <span style=\"background-color:rgba(135,206,250,0.115618676);\">acid</span> <span style=\"background-color:rgba(135,206,250,0.14834401);\">booster</span> <span style=\"background-color:rgba(135,206,250,0.088477746);\">|</span> <span style=\"background-color:rgba(135,206,250,0.051074646);\">this</span> <span style=\"background-color:rgba(135,206,250,0.04196953);\">is</span> <span style=\"background-color:rgba(135,206,250,0.030039903);\">a</span> <span style=\"background-color:rgba(135,206,250,0.05936023);\">great</span> <span style=\"background-color:rgba(135,206,250,0.062219255);\">product</span> <span style=\"background-color:rgba(135,206,250,0.05397078);\">.</span> <span style=\"background-color:rgba(135,206,250,0.030512912);\">i</span> <span style=\"background-color:rgba(135,206,250,0.024186479);\">have</span> <span style=\"background-color:rgba(135,206,250,0.07492084);\">sensitive</span> <span style=\"background-color:rgba(135,206,250,0.03810799);\">skin</span> <span style=\"background-color:rgba(135,206,250,0.029856825);\">and</span> <span style=\"background-color:rgba(135,206,250,0.021857092);\">this</span> <span style=\"background-color:rgba(135,206,250,0.020553444);\">is</span> <span style=\"background-color:rgba(135,206,250,0.015840461);\">the</span> <span style=\"background-color:rgba(135,206,250,0.0652565);\">perfect</span> <span style=\"background-color:rgba(135,206,250,0.06283035);\">size</span> <span style=\"background-color:rgba(135,206,250,0.042071473);\">!</span> <span style=\"background-color:rgba(135,206,250,0.029871533);\">i</span> <span style=\"background-color:rgba(135,206,250,0.028000189);\">have</span> <span style=\"background-color:rgba(135,206,250,0.088895194);\">sensitive</span> <span style=\"background-color:rgba(135,206,250,0.050570045);\">skin</span> <span style=\"background-color:rgba(135,206,250,0.045375634);\">and</span> <span style=\"background-color:rgba(135,206,250,0.034111924);\">this</span> <span style=\"background-color:rgba(135,206,250,0.034609027);\">is</span> <span style=\"background-color:rgba(135,206,250,0.021243898);\">the</span> <span style=\"background-color:rgba(135,206,250,0.085837714);\">perfect</span> <span style=\"background-color:rgba(135,206,250,0.03381063);\">amount</span> <span style=\"background-color:rgba(135,206,250,0.027800413);\">of</span> <span style=\"background-color:rgba(135,206,250,0.0839515);\">hydration</span> <span style=\"background-color:rgba(135,206,250,0.057531044);\">and</span> <span style=\"background-color:rgba(135,206,250,0.030884732);\">the</span> <span style=\"background-color:rgba(135,206,250,0.13014235);\">texture</span> <span style=\"background-color:rgba(135,206,250,0.061502043);\">is</span> <span style=\"background-color:rgba(135,206,250,0.16986892);\">perfect</span> <span style=\"background-color:rgba(135,206,250,0.22613972);\">.</span> <span style=\"background-color:rgba(135,206,250,0.14199792);\">it</span> <span style=\"background-color:rgba(135,206,250,0.3765524);\">absorbs</span> <span style=\"background-color:rgba(135,206,250,0.26931936);\">quickly</span> <span style=\"background-color:rgba(135,206,250,0.61305493);\">without</span> <span style=\"background-color:rgba(135,206,250,1.0);\">leaving</span> <span style=\"background-color:rgba(135,206,250,0.111255325);\">a</span>"
            ]
          },
          "metadata": {}
        },
        {
          "output_type": "stream",
          "name": "stdout",
          "text": [
            "sticky:   \t88.51%\n",
            "residue:   \t9.98%\n",
            "greasy:   \t0.44%\n",
            "tacky:   \t0.36%\n",
            "film:   \t0.19%\n",
            "--------\n",
            "\n"
          ]
        },
        {
          "output_type": "display_data",
          "data": {
            "text/plain": [
              "<IPython.core.display.HTML object>"
            ],
            "text/html": [
              "<span style=\"background-color:rgba(135,206,250,0.14358068);\">review</span> <span style=\"background-color:rgba(135,206,250,0.12258339);\">for</span> <span style=\"background-color:rgba(135,206,250,0.05907087);\">hyaluronic</span> <span style=\"background-color:rgba(135,206,250,0.07559029);\">acid</span> <span style=\"background-color:rgba(135,206,250,0.079546764);\">booster</span> <span style=\"background-color:rgba(135,206,250,0.15560491);\">|</span> <span style=\"background-color:rgba(135,206,250,0.07725164);\">this</span> <span style=\"background-color:rgba(135,206,250,0.09450796);\">is</span> <span style=\"background-color:rgba(135,206,250,0.039366238);\">a</span> <span style=\"background-color:rgba(135,206,250,0.074706905);\">great</span> <span style=\"background-color:rgba(135,206,250,0.093158394);\">product</span> <span style=\"background-color:rgba(135,206,250,0.12062683);\">.</span> <span style=\"background-color:rgba(135,206,250,0.053411987);\">i</span> <span style=\"background-color:rgba(135,206,250,0.05728075);\">have</span> <span style=\"background-color:rgba(135,206,250,0.029038763);\">sensitive</span> <span style=\"background-color:rgba(135,206,250,0.02439643);\">skin</span> <span style=\"background-color:rgba(135,206,250,0.079528555);\">and</span> <span style=\"background-color:rgba(135,206,250,0.04309219);\">this</span> <span style=\"background-color:rgba(135,206,250,0.05997177);\">is</span> <span style=\"background-color:rgba(135,206,250,0.038208526);\">the</span> <span style=\"background-color:rgba(135,206,250,0.07296256);\">perfect</span> <span style=\"background-color:rgba(135,206,250,0.042263366);\">size</span> <span style=\"background-color:rgba(135,206,250,0.1804671);\">!</span> <span style=\"background-color:rgba(135,206,250,0.073533244);\">i</span> <span style=\"background-color:rgba(135,206,250,0.09078992);\">have</span> <span style=\"background-color:rgba(135,206,250,0.05931916);\">sensitive</span> <span style=\"background-color:rgba(135,206,250,0.054830823);\">skin</span> <span style=\"background-color:rgba(135,206,250,0.14822975);\">and</span> <span style=\"background-color:rgba(135,206,250,0.081346914);\">this</span> <span style=\"background-color:rgba(135,206,250,0.110089414);\">is</span> <span style=\"background-color:rgba(135,206,250,0.056315523);\">the</span> <span style=\"background-color:rgba(135,206,250,0.0979719);\">perfect</span> <span style=\"background-color:rgba(135,206,250,0.0797204);\">amount</span> <span style=\"background-color:rgba(135,206,250,0.07488664);\">of</span> <span style=\"background-color:rgba(135,206,250,0.07263721);\">hydration</span> <span style=\"background-color:rgba(135,206,250,0.18061236);\">and</span> <span style=\"background-color:rgba(135,206,250,0.07513008);\">the</span> <span style=\"background-color:rgba(135,206,250,0.08915843);\">texture</span> <span style=\"background-color:rgba(135,206,250,0.15421374);\">is</span> <span style=\"background-color:rgba(135,206,250,0.19762297);\">perfect</span> <span style=\"background-color:rgba(135,206,250,0.4876443);\">.</span> <span style=\"background-color:rgba(135,206,250,0.17812105);\">it</span> <span style=\"background-color:rgba(135,206,250,0.3059415);\">absorbs</span> <span style=\"background-color:rgba(135,206,250,0.19918543);\">quickly</span> <span style=\"background-color:rgba(135,206,250,0.8967495);\">without</span> <span style=\"background-color:rgba(135,206,250,1.0);\">leaving</span> <span style=\"background-color:rgba(135,206,250,0.56897295);\">a</span> <span style=\"background-color:rgba(135,206,250,0.57228273);\">residue</span>"
            ]
          },
          "metadata": {}
        },
        {
          "output_type": "stream",
          "name": "stdout",
          "text": [
            ".:   \t82.84%\n",
            "on:   \t7.91%\n",
            "that:   \t2.85%\n",
            "or:   \t2.71%\n",
            "behind:   \t1.47%\n",
            "--------\n",
            "\n"
          ]
        },
        {
          "output_type": "display_data",
          "data": {
            "text/plain": [
              "<IPython.core.display.HTML object>"
            ],
            "text/html": [
              "<span style=\"background-color:rgba(135,206,250,0.20965965);\">review</span> <span style=\"background-color:rgba(135,206,250,0.116414614);\">for</span> <span style=\"background-color:rgba(135,206,250,0.11439716);\">hyaluronic</span> <span style=\"background-color:rgba(135,206,250,0.14468507);\">acid</span> <span style=\"background-color:rgba(135,206,250,0.06182484);\">booster</span> <span style=\"background-color:rgba(135,206,250,0.19327068);\">|</span> <span style=\"background-color:rgba(135,206,250,0.19764125);\">this</span> <span style=\"background-color:rgba(135,206,250,0.13741615);\">is</span> <span style=\"background-color:rgba(135,206,250,0.060582682);\">a</span> <span style=\"background-color:rgba(135,206,250,0.20724538);\">great</span> <span style=\"background-color:rgba(135,206,250,0.13862793);\">product</span> <span style=\"background-color:rgba(135,206,250,0.16667914);\">.</span> <span style=\"background-color:rgba(135,206,250,0.14287908);\">i</span> <span style=\"background-color:rgba(135,206,250,0.100847654);\">have</span> <span style=\"background-color:rgba(135,206,250,0.11218529);\">sensitive</span> <span style=\"background-color:rgba(135,206,250,0.08291316);\">skin</span> <span style=\"background-color:rgba(135,206,250,0.1176175);\">and</span> <span style=\"background-color:rgba(135,206,250,0.14505342);\">this</span> <span style=\"background-color:rgba(135,206,250,0.100453794);\">is</span> <span style=\"background-color:rgba(135,206,250,0.07908732);\">the</span> <span style=\"background-color:rgba(135,206,250,0.2141073);\">perfect</span> <span style=\"background-color:rgba(135,206,250,0.17596933);\">size</span> <span style=\"background-color:rgba(135,206,250,0.16018088);\">!</span> <span style=\"background-color:rgba(135,206,250,0.12605354);\">i</span> <span style=\"background-color:rgba(135,206,250,0.11220817);\">have</span> <span style=\"background-color:rgba(135,206,250,0.15250279);\">sensitive</span> <span style=\"background-color:rgba(135,206,250,0.11452643);\">skin</span> <span style=\"background-color:rgba(135,206,250,0.1272557);\">and</span> <span style=\"background-color:rgba(135,206,250,0.16032153);\">this</span> <span style=\"background-color:rgba(135,206,250,0.120627016);\">is</span> <span style=\"background-color:rgba(135,206,250,0.061638556);\">the</span> <span style=\"background-color:rgba(135,206,250,0.18621773);\">perfect</span> <span style=\"background-color:rgba(135,206,250,0.096669696);\">amount</span> <span style=\"background-color:rgba(135,206,250,0.03743312);\">of</span> <span style=\"background-color:rgba(135,206,250,0.088282585);\">hydration</span> <span style=\"background-color:rgba(135,206,250,0.09907362);\">and</span> <span style=\"background-color:rgba(135,206,250,0.08030146);\">the</span> <span style=\"background-color:rgba(135,206,250,0.11299673);\">texture</span> <span style=\"background-color:rgba(135,206,250,0.15372995);\">is</span> <span style=\"background-color:rgba(135,206,250,0.311805);\">perfect</span> <span style=\"background-color:rgba(135,206,250,0.30942988);\">.</span> <span style=\"background-color:rgba(135,206,250,0.23800498);\">it</span> <span style=\"background-color:rgba(135,206,250,0.2897802);\">absorbs</span> <span style=\"background-color:rgba(135,206,250,0.30305606);\">quickly</span> <span style=\"background-color:rgba(135,206,250,0.2792988);\">without</span> <span style=\"background-color:rgba(135,206,250,0.2768105);\">leaving</span> <span style=\"background-color:rgba(135,206,250,0.2939803);\">a</span> <span style=\"background-color:rgba(135,206,250,0.59483814);\">residue</span> <span style=\"background-color:rgba(135,206,250,1.0);\">.</span>"
            ]
          },
          "metadata": {}
        },
        {
          "output_type": "stream",
          "name": "stdout",
          "text": [
            "i:   \t40.87%\n",
            ":   \t25.83%\n",
            "it:   \t23.72%\n",
            "my:   \t3.86%\n",
            "the:   \t2.89%\n",
            "--------\n",
            "\n"
          ]
        },
        {
          "output_type": "display_data",
          "data": {
            "text/plain": [
              "<IPython.core.display.HTML object>"
            ],
            "text/html": [
              "<span style=\"background-color:rgba(135,206,250,0.088785514);\">review</span> <span style=\"background-color:rgba(135,206,250,0.030511804);\">for</span> <span style=\"background-color:rgba(135,206,250,0.019673893);\">hyaluronic</span> <span style=\"background-color:rgba(135,206,250,0.062102456);\">acid</span> <span style=\"background-color:rgba(135,206,250,0.037164405);\">booster</span> <span style=\"background-color:rgba(135,206,250,0.035214603);\">|</span> <span style=\"background-color:rgba(135,206,250,0.057620063);\">this</span> <span style=\"background-color:rgba(135,206,250,0.0648874);\">is</span> <span style=\"background-color:rgba(135,206,250,0.021977015);\">a</span> <span style=\"background-color:rgba(135,206,250,0.11126583);\">great</span> <span style=\"background-color:rgba(135,206,250,0.042022612);\">product</span> <span style=\"background-color:rgba(135,206,250,0.037307557);\">.</span> <span style=\"background-color:rgba(135,206,250,0.012522433);\">i</span> <span style=\"background-color:rgba(135,206,250,0.049039077);\">have</span> <span style=\"background-color:rgba(135,206,250,0.05358227);\">sensitive</span> <span style=\"background-color:rgba(135,206,250,0.021805724);\">skin</span> <span style=\"background-color:rgba(135,206,250,0.015587641);\">and</span> <span style=\"background-color:rgba(135,206,250,0.031121844);\">this</span> <span style=\"background-color:rgba(135,206,250,0.039855342);\">is</span> <span style=\"background-color:rgba(135,206,250,0.016636727);\">the</span> <span style=\"background-color:rgba(135,206,250,0.10472903);\">perfect</span> <span style=\"background-color:rgba(135,206,250,0.037838582);\">size</span> <span style=\"background-color:rgba(135,206,250,0.048159424);\">!</span> <span style=\"background-color:rgba(135,206,250,0.012495726);\">i</span> <span style=\"background-color:rgba(135,206,250,0.048519887);\">have</span> <span style=\"background-color:rgba(135,206,250,0.06756975);\">sensitive</span> <span style=\"background-color:rgba(135,206,250,0.024514675);\">skin</span> <span style=\"background-color:rgba(135,206,250,0.021669406);\">and</span> <span style=\"background-color:rgba(135,206,250,0.038948253);\">this</span> <span style=\"background-color:rgba(135,206,250,0.048754033);\">is</span> <span style=\"background-color:rgba(135,206,250,0.019142594);\">the</span> <span style=\"background-color:rgba(135,206,250,0.10921172);\">perfect</span> <span style=\"background-color:rgba(135,206,250,0.04521842);\">amount</span> <span style=\"background-color:rgba(135,206,250,0.014833998);\">of</span> <span style=\"background-color:rgba(135,206,250,0.054948665);\">hydration</span> <span style=\"background-color:rgba(135,206,250,0.024829896);\">and</span> <span style=\"background-color:rgba(135,206,250,0.030212205);\">the</span> <span style=\"background-color:rgba(135,206,250,0.06332931);\">texture</span> <span style=\"background-color:rgba(135,206,250,0.06900135);\">is</span> <span style=\"background-color:rgba(135,206,250,0.18815726);\">perfect</span> <span style=\"background-color:rgba(135,206,250,0.1441676);\">.</span> <span style=\"background-color:rgba(135,206,250,0.07442715);\">it</span> <span style=\"background-color:rgba(135,206,250,0.2010432);\">absorbs</span> <span style=\"background-color:rgba(135,206,250,0.15549025);\">quickly</span> <span style=\"background-color:rgba(135,206,250,0.2128663);\">without</span> <span style=\"background-color:rgba(135,206,250,0.31438413);\">leaving</span> <span style=\"background-color:rgba(135,206,250,0.13900074);\">a</span> <span style=\"background-color:rgba(135,206,250,0.41261825);\">residue</span> <span style=\"background-color:rgba(135,206,250,1.0);\">.</span> <span style=\"background-color:rgba(135,206,250,0.21377084);\">i</span>"
            ]
          },
          "metadata": {}
        },
        {
          "output_type": "stream",
          "name": "stdout",
          "text": [
            "highly:   \t32.28%\n",
            "love:   \t31.0%\n",
            "use:   \t12.98%\n",
            "like:   \t6.69%\n",
            "would:   \t5.29%\n",
            "--------\n",
            "\n"
          ]
        },
        {
          "output_type": "display_data",
          "data": {
            "text/plain": [
              "<IPython.core.display.HTML object>"
            ],
            "text/html": [
              "<span style=\"background-color:rgba(135,206,250,0.092869304);\">review</span> <span style=\"background-color:rgba(135,206,250,0.031678546);\">for</span> <span style=\"background-color:rgba(135,206,250,0.0801218);\">hyaluronic</span> <span style=\"background-color:rgba(135,206,250,0.139234);\">acid</span> <span style=\"background-color:rgba(135,206,250,0.15054381);\">booster</span> <span style=\"background-color:rgba(135,206,250,0.054753352);\">|</span> <span style=\"background-color:rgba(135,206,250,0.08634978);\">this</span> <span style=\"background-color:rgba(135,206,250,0.05781956);\">is</span> <span style=\"background-color:rgba(135,206,250,0.028369628);\">a</span> <span style=\"background-color:rgba(135,206,250,0.10851239);\">great</span> <span style=\"background-color:rgba(135,206,250,0.07212934);\">product</span> <span style=\"background-color:rgba(135,206,250,0.080422364);\">.</span> <span style=\"background-color:rgba(135,206,250,0.030152097);\">i</span> <span style=\"background-color:rgba(135,206,250,0.033959396);\">have</span> <span style=\"background-color:rgba(135,206,250,0.06260073);\">sensitive</span> <span style=\"background-color:rgba(135,206,250,0.03272119);\">skin</span> <span style=\"background-color:rgba(135,206,250,0.03184672);\">and</span> <span style=\"background-color:rgba(135,206,250,0.047400482);\">this</span> <span style=\"background-color:rgba(135,206,250,0.026761321);\">is</span> <span style=\"background-color:rgba(135,206,250,0.04244687);\">the</span> <span style=\"background-color:rgba(135,206,250,0.08298856);\">perfect</span> <span style=\"background-color:rgba(135,206,250,0.06262839);\">size</span> <span style=\"background-color:rgba(135,206,250,0.07003677);\">!</span> <span style=\"background-color:rgba(135,206,250,0.025717415);\">i</span> <span style=\"background-color:rgba(135,206,250,0.029793017);\">have</span> <span style=\"background-color:rgba(135,206,250,0.061790634);\">sensitive</span> <span style=\"background-color:rgba(135,206,250,0.036298748);\">skin</span> <span style=\"background-color:rgba(135,206,250,0.03553978);\">and</span> <span style=\"background-color:rgba(135,206,250,0.051896255);\">this</span> <span style=\"background-color:rgba(135,206,250,0.031666044);\">is</span> <span style=\"background-color:rgba(135,206,250,0.038976982);\">the</span> <span style=\"background-color:rgba(135,206,250,0.08070208);\">perfect</span> <span style=\"background-color:rgba(135,206,250,0.050357323);\">amount</span> <span style=\"background-color:rgba(135,206,250,0.024798723);\">of</span> <span style=\"background-color:rgba(135,206,250,0.047984835);\">hydration</span> <span style=\"background-color:rgba(135,206,250,0.040483475);\">and</span> <span style=\"background-color:rgba(135,206,250,0.052793194);\">the</span> <span style=\"background-color:rgba(135,206,250,0.051199723);\">texture</span> <span style=\"background-color:rgba(135,206,250,0.04560983);\">is</span> <span style=\"background-color:rgba(135,206,250,0.11392208);\">perfect</span> <span style=\"background-color:rgba(135,206,250,0.16992493);\">.</span> <span style=\"background-color:rgba(135,206,250,0.102657415);\">it</span> <span style=\"background-color:rgba(135,206,250,0.14223811);\">absorbs</span> <span style=\"background-color:rgba(135,206,250,0.12157154);\">quickly</span> <span style=\"background-color:rgba(135,206,250,0.1114237);\">without</span> <span style=\"background-color:rgba(135,206,250,0.1629919);\">leaving</span> <span style=\"background-color:rgba(135,206,250,0.25106594);\">a</span> <span style=\"background-color:rgba(135,206,250,0.23759489);\">residue</span> <span style=\"background-color:rgba(135,206,250,1.0);\">.</span> <span style=\"background-color:rgba(135,206,250,0.58882844);\">i</span> <span style=\"background-color:rgba(135,206,250,0.48412254);\">love</span>"
            ]
          },
          "metadata": {}
        },
        {
          "output_type": "stream",
          "name": "stdout",
          "text": [
            "that:   \t63.65%\n",
            "the:   \t15.25%\n",
            "how:   \t13.38%\n",
            "this:   \t4.13%\n",
            "it:   \t2.33%\n",
            "--------\n",
            "\n"
          ]
        },
        {
          "output_type": "display_data",
          "data": {
            "text/plain": [
              "<IPython.core.display.HTML object>"
            ],
            "text/html": [
              "<span style=\"background-color:rgba(135,206,250,0.07967613);\">review</span> <span style=\"background-color:rgba(135,206,250,0.0357159);\">for</span> <span style=\"background-color:rgba(135,206,250,0.0809877);\">hyaluronic</span> <span style=\"background-color:rgba(135,206,250,0.17084363);\">acid</span> <span style=\"background-color:rgba(135,206,250,0.095226444);\">booster</span> <span style=\"background-color:rgba(135,206,250,0.06463726);\">|</span> <span style=\"background-color:rgba(135,206,250,0.08221649);\">this</span> <span style=\"background-color:rgba(135,206,250,0.07717893);\">is</span> <span style=\"background-color:rgba(135,206,250,0.03082882);\">a</span> <span style=\"background-color:rgba(135,206,250,0.05037257);\">great</span> <span style=\"background-color:rgba(135,206,250,0.064548254);\">product</span> <span style=\"background-color:rgba(135,206,250,0.049100563);\">.</span> <span style=\"background-color:rgba(135,206,250,0.042912815);\">i</span> <span style=\"background-color:rgba(135,206,250,0.043965843);\">have</span> <span style=\"background-color:rgba(135,206,250,0.06808955);\">sensitive</span> <span style=\"background-color:rgba(135,206,250,0.030245697);\">skin</span> <span style=\"background-color:rgba(135,206,250,0.026013589);\">and</span> <span style=\"background-color:rgba(135,206,250,0.040928278);\">this</span> <span style=\"background-color:rgba(135,206,250,0.038861718);\">is</span> <span style=\"background-color:rgba(135,206,250,0.020174172);\">the</span> <span style=\"background-color:rgba(135,206,250,0.041671276);\">perfect</span> <span style=\"background-color:rgba(135,206,250,0.036058698);\">size</span> <span style=\"background-color:rgba(135,206,250,0.040273413);\">!</span> <span style=\"background-color:rgba(135,206,250,0.037591476);\">i</span> <span style=\"background-color:rgba(135,206,250,0.043025617);\">have</span> <span style=\"background-color:rgba(135,206,250,0.0735107);\">sensitive</span> <span style=\"background-color:rgba(135,206,250,0.039445817);\">skin</span> <span style=\"background-color:rgba(135,206,250,0.032291837);\">and</span> <span style=\"background-color:rgba(135,206,250,0.051387653);\">this</span> <span style=\"background-color:rgba(135,206,250,0.056419034);\">is</span> <span style=\"background-color:rgba(135,206,250,0.02858652);\">the</span> <span style=\"background-color:rgba(135,206,250,0.05655393);\">perfect</span> <span style=\"background-color:rgba(135,206,250,0.03861953);\">amount</span> <span style=\"background-color:rgba(135,206,250,0.022699868);\">of</span> <span style=\"background-color:rgba(135,206,250,0.06735181);\">hydration</span> <span style=\"background-color:rgba(135,206,250,0.049855273);\">and</span> <span style=\"background-color:rgba(135,206,250,0.038450707);\">the</span> <span style=\"background-color:rgba(135,206,250,0.0660659);\">texture</span> <span style=\"background-color:rgba(135,206,250,0.0846551);\">is</span> <span style=\"background-color:rgba(135,206,250,0.09090369);\">perfect</span> <span style=\"background-color:rgba(135,206,250,0.12925322);\">.</span> <span style=\"background-color:rgba(135,206,250,0.11313894);\">it</span> <span style=\"background-color:rgba(135,206,250,0.27192774);\">absorbs</span> <span style=\"background-color:rgba(135,206,250,0.103979655);\">quickly</span> <span style=\"background-color:rgba(135,206,250,0.13981143);\">without</span> <span style=\"background-color:rgba(135,206,250,0.22020787);\">leaving</span> <span style=\"background-color:rgba(135,206,250,0.20970692);\">a</span> <span style=\"background-color:rgba(135,206,250,0.36213827);\">residue</span> <span style=\"background-color:rgba(135,206,250,0.6231156);\">.</span> <span style=\"background-color:rgba(135,206,250,0.5898537);\">i</span> <span style=\"background-color:rgba(135,206,250,1.0);\">love</span> <span style=\"background-color:rgba(135,206,250,0.23159367);\">that</span>"
            ]
          },
          "metadata": {}
        },
        {
          "output_type": "stream",
          "name": "stdout",
          "text": [
            "it:   \t75.3%\n",
            "this:   \t17.9%\n",
            "the:   \t4.04%\n",
            "it’s:   \t1.57%\n",
            "my:   \t0.58%\n",
            "--------\n",
            "\n"
          ]
        },
        {
          "output_type": "display_data",
          "data": {
            "text/plain": [
              "<IPython.core.display.HTML object>"
            ],
            "text/html": [
              "<span style=\"background-color:rgba(135,206,250,0.08422277);\">review</span> <span style=\"background-color:rgba(135,206,250,0.031802464);\">for</span> <span style=\"background-color:rgba(135,206,250,0.05040353);\">hyaluronic</span> <span style=\"background-color:rgba(135,206,250,0.09418588);\">acid</span> <span style=\"background-color:rgba(135,206,250,0.06501828);\">booster</span> <span style=\"background-color:rgba(135,206,250,0.058458593);\">|</span> <span style=\"background-color:rgba(135,206,250,0.04121766);\">this</span> <span style=\"background-color:rgba(135,206,250,0.086830445);\">is</span> <span style=\"background-color:rgba(135,206,250,0.02996093);\">a</span> <span style=\"background-color:rgba(135,206,250,0.087913476);\">great</span> <span style=\"background-color:rgba(135,206,250,0.06826949);\">product</span> <span style=\"background-color:rgba(135,206,250,0.05452385);\">.</span> <span style=\"background-color:rgba(135,206,250,0.03006607);\">i</span> <span style=\"background-color:rgba(135,206,250,0.056311753);\">have</span> <span style=\"background-color:rgba(135,206,250,0.064494096);\">sensitive</span> <span style=\"background-color:rgba(135,206,250,0.029899249);\">skin</span> <span style=\"background-color:rgba(135,206,250,0.026030058);\">and</span> <span style=\"background-color:rgba(135,206,250,0.022310346);\">this</span> <span style=\"background-color:rgba(135,206,250,0.05275105);\">is</span> <span style=\"background-color:rgba(135,206,250,0.016291846);\">the</span> <span style=\"background-color:rgba(135,206,250,0.056149065);\">perfect</span> <span style=\"background-color:rgba(135,206,250,0.031357415);\">size</span> <span style=\"background-color:rgba(135,206,250,0.065986924);\">!</span> <span style=\"background-color:rgba(135,206,250,0.024870899);\">i</span> <span style=\"background-color:rgba(135,206,250,0.047614668);\">have</span> <span style=\"background-color:rgba(135,206,250,0.063001774);\">sensitive</span> <span style=\"background-color:rgba(135,206,250,0.030409371);\">skin</span> <span style=\"background-color:rgba(135,206,250,0.027923351);\">and</span> <span style=\"background-color:rgba(135,206,250,0.026535312);\">this</span> <span style=\"background-color:rgba(135,206,250,0.06532915);\">is</span> <span style=\"background-color:rgba(135,206,250,0.021462666);\">the</span> <span style=\"background-color:rgba(135,206,250,0.06737463);\">perfect</span> <span style=\"background-color:rgba(135,206,250,0.047667943);\">amount</span> <span style=\"background-color:rgba(135,206,250,0.018865714);\">of</span> <span style=\"background-color:rgba(135,206,250,0.07320752);\">hydration</span> <span style=\"background-color:rgba(135,206,250,0.044585288);\">and</span> <span style=\"background-color:rgba(135,206,250,0.031362366);\">the</span> <span style=\"background-color:rgba(135,206,250,0.08635725);\">texture</span> <span style=\"background-color:rgba(135,206,250,0.09478497);\">is</span> <span style=\"background-color:rgba(135,206,250,0.10965008);\">perfect</span> <span style=\"background-color:rgba(135,206,250,0.13195518);\">.</span> <span style=\"background-color:rgba(135,206,250,0.0516227);\">it</span> <span style=\"background-color:rgba(135,206,250,0.28237718);\">absorbs</span> <span style=\"background-color:rgba(135,206,250,0.14899443);\">quickly</span> <span style=\"background-color:rgba(135,206,250,0.18355818);\">without</span> <span style=\"background-color:rgba(135,206,250,0.25738057);\">leaving</span> <span style=\"background-color:rgba(135,206,250,0.118436575);\">a</span> <span style=\"background-color:rgba(135,206,250,0.25815913);\">residue</span> <span style=\"background-color:rgba(135,206,250,0.50595194);\">.</span> <span style=\"background-color:rgba(135,206,250,0.37502137);\">i</span> <span style=\"background-color:rgba(135,206,250,0.8743784);\">love</span> <span style=\"background-color:rgba(135,206,250,1.0);\">that</span> <span style=\"background-color:rgba(135,206,250,0.27044585);\">it</span>"
            ]
          },
          "metadata": {}
        },
        {
          "output_type": "stream",
          "name": "stdout",
          "text": [
            "is:   \t30.44%\n",
            "has:   \t29.92%\n",
            "doesn’t:   \t25.9%\n",
            "helps:   \t3.15%\n",
            "absorbs:   \t2.36%\n",
            "--------\n",
            "\n"
          ]
        },
        {
          "output_type": "display_data",
          "data": {
            "text/plain": [
              "<IPython.core.display.HTML object>"
            ],
            "text/html": [
              "<span style=\"background-color:rgba(135,206,250,0.110249884);\">review</span> <span style=\"background-color:rgba(135,206,250,0.038061872);\">for</span> <span style=\"background-color:rgba(135,206,250,0.037395656);\">hyaluronic</span> <span style=\"background-color:rgba(135,206,250,0.08298901);\">acid</span> <span style=\"background-color:rgba(135,206,250,0.08172818);\">booster</span> <span style=\"background-color:rgba(135,206,250,0.046745203);\">|</span> <span style=\"background-color:rgba(135,206,250,0.041369393);\">this</span> <span style=\"background-color:rgba(135,206,250,0.0354737);\">is</span> <span style=\"background-color:rgba(135,206,250,0.040572222);\">a</span> <span style=\"background-color:rgba(135,206,250,0.12027526);\">great</span> <span style=\"background-color:rgba(135,206,250,0.0579067);\">product</span> <span style=\"background-color:rgba(135,206,250,0.069797896);\">.</span> <span style=\"background-color:rgba(135,206,250,0.039194282);\">i</span> <span style=\"background-color:rgba(135,206,250,0.04397051);\">have</span> <span style=\"background-color:rgba(135,206,250,0.118908525);\">sensitive</span> <span style=\"background-color:rgba(135,206,250,0.03608578);\">skin</span> <span style=\"background-color:rgba(135,206,250,0.03819968);\">and</span> <span style=\"background-color:rgba(135,206,250,0.0270475);\">this</span> <span style=\"background-color:rgba(135,206,250,0.02493766);\">is</span> <span style=\"background-color:rgba(135,206,250,0.024241833);\">the</span> <span style=\"background-color:rgba(135,206,250,0.13524781);\">perfect</span> <span style=\"background-color:rgba(135,206,250,0.050001793);\">size</span> <span style=\"background-color:rgba(135,206,250,0.07119727);\">!</span> <span style=\"background-color:rgba(135,206,250,0.029094864);\">i</span> <span style=\"background-color:rgba(135,206,250,0.033564907);\">have</span> <span style=\"background-color:rgba(135,206,250,0.11087675);\">sensitive</span> <span style=\"background-color:rgba(135,206,250,0.030886406);\">skin</span> <span style=\"background-color:rgba(135,206,250,0.03336634);\">and</span> <span style=\"background-color:rgba(135,206,250,0.025024347);\">this</span> <span style=\"background-color:rgba(135,206,250,0.020903029);\">is</span> <span style=\"background-color:rgba(135,206,250,0.020537313);\">the</span> <span style=\"background-color:rgba(135,206,250,0.10793286);\">perfect</span> <span style=\"background-color:rgba(135,206,250,0.053306334);\">amount</span> <span style=\"background-color:rgba(135,206,250,0.017081797);\">of</span> <span style=\"background-color:rgba(135,206,250,0.07879032);\">hydration</span> <span style=\"background-color:rgba(135,206,250,0.03870219);\">and</span> <span style=\"background-color:rgba(135,206,250,0.028479706);\">the</span> <span style=\"background-color:rgba(135,206,250,0.09386461);\">texture</span> <span style=\"background-color:rgba(135,206,250,0.026320966);\">is</span> <span style=\"background-color:rgba(135,206,250,0.14984393);\">perfect</span> <span style=\"background-color:rgba(135,206,250,0.10278516);\">.</span> <span style=\"background-color:rgba(135,206,250,0.046559546);\">it</span> <span style=\"background-color:rgba(135,206,250,0.11674758);\">absorbs</span> <span style=\"background-color:rgba(135,206,250,0.13795687);\">quickly</span> <span style=\"background-color:rgba(135,206,250,0.122602835);\">without</span> <span style=\"background-color:rgba(135,206,250,0.082803525);\">leaving</span> <span style=\"background-color:rgba(135,206,250,0.06945763);\">a</span> <span style=\"background-color:rgba(135,206,250,0.21894357);\">residue</span> <span style=\"background-color:rgba(135,206,250,0.37222022);\">.</span> <span style=\"background-color:rgba(135,206,250,0.2272712);\">i</span> <span style=\"background-color:rgba(135,206,250,0.70399636);\">love</span> <span style=\"background-color:rgba(135,206,250,1.0);\">that</span> <span style=\"background-color:rgba(135,206,250,0.6385789);\">it</span> <span style=\"background-color:rgba(135,206,250,0.10145836);\">is</span>"
            ]
          },
          "metadata": {}
        },
        {
          "output_type": "stream",
          "name": "stdout",
          "text": [
            "vegan:   \t52.33%\n",
            "cruelty:   \t18.33%\n",
            "fragrance:   \t9.53%\n",
            "unscented:   \t7.21%\n",
            "a:   \t3.96%\n",
            "--------\n",
            "\n"
          ]
        },
        {
          "output_type": "display_data",
          "data": {
            "text/plain": [
              "<IPython.core.display.HTML object>"
            ],
            "text/html": [
              "<span style=\"background-color:rgba(135,206,250,0.075349584);\">review</span> <span style=\"background-color:rgba(135,206,250,0.034121606);\">for</span> <span style=\"background-color:rgba(135,206,250,0.1974271);\">hyaluronic</span> <span style=\"background-color:rgba(135,206,250,0.21963747);\">acid</span> <span style=\"background-color:rgba(135,206,250,0.47272047);\">booster</span> <span style=\"background-color:rgba(135,206,250,0.06844455);\">|</span> <span style=\"background-color:rgba(135,206,250,0.06243549);\">this</span> <span style=\"background-color:rgba(135,206,250,0.06730755);\">is</span> <span style=\"background-color:rgba(135,206,250,0.06172151);\">a</span> <span style=\"background-color:rgba(135,206,250,0.07436989);\">great</span> <span style=\"background-color:rgba(135,206,250,0.14753628);\">product</span> <span style=\"background-color:rgba(135,206,250,0.16320364);\">.</span> <span style=\"background-color:rgba(135,206,250,0.052296955);\">i</span> <span style=\"background-color:rgba(135,206,250,0.02691703);\">have</span> <span style=\"background-color:rgba(135,206,250,0.066999435);\">sensitive</span> <span style=\"background-color:rgba(135,206,250,0.072417945);\">skin</span> <span style=\"background-color:rgba(135,206,250,0.10017673);\">and</span> <span style=\"background-color:rgba(135,206,250,0.03580932);\">this</span> <span style=\"background-color:rgba(135,206,250,0.030881252);\">is</span> <span style=\"background-color:rgba(135,206,250,0.04603511);\">the</span> <span style=\"background-color:rgba(135,206,250,0.049450587);\">perfect</span> <span style=\"background-color:rgba(135,206,250,0.091791235);\">size</span> <span style=\"background-color:rgba(135,206,250,0.1395888);\">!</span> <span style=\"background-color:rgba(135,206,250,0.037895575);\">i</span> <span style=\"background-color:rgba(135,206,250,0.019312028);\">have</span> <span style=\"background-color:rgba(135,206,250,0.058883023);\">sensitive</span> <span style=\"background-color:rgba(135,206,250,0.07218799);\">skin</span> <span style=\"background-color:rgba(135,206,250,0.0927276);\">and</span> <span style=\"background-color:rgba(135,206,250,0.039929174);\">this</span> <span style=\"background-color:rgba(135,206,250,0.035973083);\">is</span> <span style=\"background-color:rgba(135,206,250,0.044717617);\">the</span> <span style=\"background-color:rgba(135,206,250,0.053616438);\">perfect</span> <span style=\"background-color:rgba(135,206,250,0.052484587);\">amount</span> <span style=\"background-color:rgba(135,206,250,0.060051948);\">of</span> <span style=\"background-color:rgba(135,206,250,0.10159855);\">hydration</span> <span style=\"background-color:rgba(135,206,250,0.112503715);\">and</span> <span style=\"background-color:rgba(135,206,250,0.06053989);\">the</span> <span style=\"background-color:rgba(135,206,250,0.08035253);\">texture</span> <span style=\"background-color:rgba(135,206,250,0.05199392);\">is</span> <span style=\"background-color:rgba(135,206,250,0.06722464);\">perfect</span> <span style=\"background-color:rgba(135,206,250,0.19804929);\">.</span> <span style=\"background-color:rgba(135,206,250,0.09638185);\">it</span> <span style=\"background-color:rgba(135,206,250,0.16215068);\">absorbs</span> <span style=\"background-color:rgba(135,206,250,0.1259256);\">quickly</span> <span style=\"background-color:rgba(135,206,250,0.1317367);\">without</span> <span style=\"background-color:rgba(135,206,250,0.21366647);\">leaving</span> <span style=\"background-color:rgba(135,206,250,0.38017988);\">a</span> <span style=\"background-color:rgba(135,206,250,0.16180515);\">residue</span> <span style=\"background-color:rgba(135,206,250,0.47219467);\">.</span> <span style=\"background-color:rgba(135,206,250,0.2738957);\">i</span> <span style=\"background-color:rgba(135,206,250,0.37431493);\">love</span> <span style=\"background-color:rgba(135,206,250,0.5108219);\">that</span> <span style=\"background-color:rgba(135,206,250,0.85740775);\">it</span> <span style=\"background-color:rgba(135,206,250,1.0);\">is</span> <span style=\"background-color:rgba(135,206,250,0.72782207);\">vegan</span>"
            ]
          },
          "metadata": {}
        },
        {
          "output_type": "stream",
          "name": "stdout",
          "text": [
            "and:   \t96.03%\n",
            ".:   \t2.45%\n",
            ",:   \t1.01%\n",
            "!:   \t0.23%\n",
            "which:   \t0.22%\n",
            "--------\n",
            "\n"
          ]
        },
        {
          "output_type": "display_data",
          "data": {
            "text/plain": [
              "<IPython.core.display.HTML object>"
            ],
            "text/html": [
              "<span style=\"background-color:rgba(135,206,250,0.039010905);\">review</span> <span style=\"background-color:rgba(135,206,250,0.011525698);\">for</span> <span style=\"background-color:rgba(135,206,250,0.026550598);\">hyaluronic</span> <span style=\"background-color:rgba(135,206,250,0.052048795);\">acid</span> <span style=\"background-color:rgba(135,206,250,0.029300584);\">booster</span> <span style=\"background-color:rgba(135,206,250,0.024715468);\">|</span> <span style=\"background-color:rgba(135,206,250,0.027137782);\">this</span> <span style=\"background-color:rgba(135,206,250,0.026034761);\">is</span> <span style=\"background-color:rgba(135,206,250,0.012826805);\">a</span> <span style=\"background-color:rgba(135,206,250,0.029156493);\">great</span> <span style=\"background-color:rgba(135,206,250,0.028021395);\">product</span> <span style=\"background-color:rgba(135,206,250,0.021169728);\">.</span> <span style=\"background-color:rgba(135,206,250,0.024747832);\">i</span> <span style=\"background-color:rgba(135,206,250,0.0203751);\">have</span> <span style=\"background-color:rgba(135,206,250,0.033629313);\">sensitive</span> <span style=\"background-color:rgba(135,206,250,0.017497214);\">skin</span> <span style=\"background-color:rgba(135,206,250,0.009756799);\">and</span> <span style=\"background-color:rgba(135,206,250,0.014138303);\">this</span> <span style=\"background-color:rgba(135,206,250,0.014801612);\">is</span> <span style=\"background-color:rgba(135,206,250,0.009948844);\">the</span> <span style=\"background-color:rgba(135,206,250,0.027590524);\">perfect</span> <span style=\"background-color:rgba(135,206,250,0.013641103);\">size</span> <span style=\"background-color:rgba(135,206,250,0.018920403);\">!</span> <span style=\"background-color:rgba(135,206,250,0.02004998);\">i</span> <span style=\"background-color:rgba(135,206,250,0.018247735);\">have</span> <span style=\"background-color:rgba(135,206,250,0.034539163);\">sensitive</span> <span style=\"background-color:rgba(135,206,250,0.017805401);\">skin</span> <span style=\"background-color:rgba(135,206,250,0.010374835);\">and</span> <span style=\"background-color:rgba(135,206,250,0.016462352);\">this</span> <span style=\"background-color:rgba(135,206,250,0.018123088);\">is</span> <span style=\"background-color:rgba(135,206,250,0.01224853);\">the</span> <span style=\"background-color:rgba(135,206,250,0.031984057);\">perfect</span> <span style=\"background-color:rgba(135,206,250,0.015520707);\">amount</span> <span style=\"background-color:rgba(135,206,250,0.008651394);\">of</span> <span style=\"background-color:rgba(135,206,250,0.032889456);\">hydration</span> <span style=\"background-color:rgba(135,206,250,0.014921236);\">and</span> <span style=\"background-color:rgba(135,206,250,0.018880464);\">the</span> <span style=\"background-color:rgba(135,206,250,0.03096341);\">texture</span> <span style=\"background-color:rgba(135,206,250,0.026238838);\">is</span> <span style=\"background-color:rgba(135,206,250,0.049133353);\">perfect</span> <span style=\"background-color:rgba(135,206,250,0.040764518);\">.</span> <span style=\"background-color:rgba(135,206,250,0.03817117);\">it</span> <span style=\"background-color:rgba(135,206,250,0.10737978);\">absorbs</span> <span style=\"background-color:rgba(135,206,250,0.05248311);\">quickly</span> <span style=\"background-color:rgba(135,206,250,0.056497857);\">without</span> <span style=\"background-color:rgba(135,206,250,0.06982577);\">leaving</span> <span style=\"background-color:rgba(135,206,250,0.029557804);\">a</span> <span style=\"background-color:rgba(135,206,250,0.07744164);\">residue</span> <span style=\"background-color:rgba(135,206,250,0.0780171);\">.</span> <span style=\"background-color:rgba(135,206,250,0.10164519);\">i</span> <span style=\"background-color:rgba(135,206,250,0.12634413);\">love</span> <span style=\"background-color:rgba(135,206,250,0.081352934);\">that</span> <span style=\"background-color:rgba(135,206,250,0.112100735);\">it</span> <span style=\"background-color:rgba(135,206,250,0.16067004);\">is</span> <span style=\"background-color:rgba(135,206,250,1.0);\">vegan</span> <span style=\"background-color:rgba(135,206,250,0.07558681);\">and</span>"
            ]
          },
          "metadata": {}
        },
        {
          "output_type": "stream",
          "name": "stdout",
          "text": [
            "cruelty:   \t99.79%\n",
            "gluten:   \t0.17%\n",
            "clean:   \t0.03%\n",
            "safe:   \t0.0%\n",
            "non:   \t0.0%\n",
            "--------\n",
            "\n"
          ]
        },
        {
          "output_type": "display_data",
          "data": {
            "text/plain": [
              "<IPython.core.display.HTML object>"
            ],
            "text/html": [
              "<span style=\"background-color:rgba(135,206,250,0.053236023);\">review</span> <span style=\"background-color:rgba(135,206,250,0.054291118);\">for</span> <span style=\"background-color:rgba(135,206,250,0.045513526);\">hyaluronic</span> <span style=\"background-color:rgba(135,206,250,0.06667089);\">acid</span> <span style=\"background-color:rgba(135,206,250,0.07671585);\">booster</span> <span style=\"background-color:rgba(135,206,250,0.045818765);\">|</span> <span style=\"background-color:rgba(135,206,250,0.036979377);\">this</span> <span style=\"background-color:rgba(135,206,250,0.047056425);\">is</span> <span style=\"background-color:rgba(135,206,250,0.0619355);\">a</span> <span style=\"background-color:rgba(135,206,250,0.046237823);\">great</span> <span style=\"background-color:rgba(135,206,250,0.06135784);\">product</span> <span style=\"background-color:rgba(135,206,250,0.073536344);\">.</span> <span style=\"background-color:rgba(135,206,250,0.04590706);\">i</span> <span style=\"background-color:rgba(135,206,250,0.0468128);\">have</span> <span style=\"background-color:rgba(135,206,250,0.041621823);\">sensitive</span> <span style=\"background-color:rgba(135,206,250,0.031975638);\">skin</span> <span style=\"background-color:rgba(135,206,250,0.05511906);\">and</span> <span style=\"background-color:rgba(135,206,250,0.028222812);\">this</span> <span style=\"background-color:rgba(135,206,250,0.036278117);\">is</span> <span style=\"background-color:rgba(135,206,250,0.03576897);\">the</span> <span style=\"background-color:rgba(135,206,250,0.0504288);\">perfect</span> <span style=\"background-color:rgba(135,206,250,0.04033527);\">size</span> <span style=\"background-color:rgba(135,206,250,0.07577223);\">!</span> <span style=\"background-color:rgba(135,206,250,0.0374585);\">i</span> <span style=\"background-color:rgba(135,206,250,0.040140215);\">have</span> <span style=\"background-color:rgba(135,206,250,0.042875968);\">sensitive</span> <span style=\"background-color:rgba(135,206,250,0.030936616);\">skin</span> <span style=\"background-color:rgba(135,206,250,0.047148198);\">and</span> <span style=\"background-color:rgba(135,206,250,0.027047178);\">this</span> <span style=\"background-color:rgba(135,206,250,0.033449046);\">is</span> <span style=\"background-color:rgba(135,206,250,0.03115052);\">the</span> <span style=\"background-color:rgba(135,206,250,0.04693749);\">perfect</span> <span style=\"background-color:rgba(135,206,250,0.051561117);\">amount</span> <span style=\"background-color:rgba(135,206,250,0.04298134);\">of</span> <span style=\"background-color:rgba(135,206,250,0.048342537);\">hydration</span> <span style=\"background-color:rgba(135,206,250,0.0636563);\">and</span> <span style=\"background-color:rgba(135,206,250,0.047642853);\">the</span> <span style=\"background-color:rgba(135,206,250,0.04998419);\">texture</span> <span style=\"background-color:rgba(135,206,250,0.045797043);\">is</span> <span style=\"background-color:rgba(135,206,250,0.06692667);\">perfect</span> <span style=\"background-color:rgba(135,206,250,0.15571743);\">.</span> <span style=\"background-color:rgba(135,206,250,0.07910983);\">it</span> <span style=\"background-color:rgba(135,206,250,0.091250174);\">absorbs</span> <span style=\"background-color:rgba(135,206,250,0.14242072);\">quickly</span> <span style=\"background-color:rgba(135,206,250,0.08452602);\">without</span> <span style=\"background-color:rgba(135,206,250,0.07294761);\">leaving</span> <span style=\"background-color:rgba(135,206,250,0.07196956);\">a</span> <span style=\"background-color:rgba(135,206,250,0.04773235);\">residue</span> <span style=\"background-color:rgba(135,206,250,0.16040187);\">.</span> <span style=\"background-color:rgba(135,206,250,0.092006795);\">i</span> <span style=\"background-color:rgba(135,206,250,0.08877705);\">love</span> <span style=\"background-color:rgba(135,206,250,0.10597364);\">that</span> <span style=\"background-color:rgba(135,206,250,0.14757457);\">it</span> <span style=\"background-color:rgba(135,206,250,0.15390417);\">is</span> <span style=\"background-color:rgba(135,206,250,0.37584385);\">vegan</span> <span style=\"background-color:rgba(135,206,250,1.0);\">and</span> <span style=\"background-color:rgba(135,206,250,0.29415816);\">cruelty</span>"
            ]
          },
          "metadata": {}
        },
        {
          "output_type": "stream",
          "name": "stdout",
          "text": [
            "free:   \t89.66%\n",
            "-:   \t8.08%\n",
            ".:   \t2.25%\n",
            ",:   \t0.0%\n",
            "!:   \t0.0%\n",
            "--------\n",
            "\n"
          ]
        },
        {
          "output_type": "display_data",
          "data": {
            "text/plain": [
              "<IPython.core.display.HTML object>"
            ],
            "text/html": [
              "<span style=\"background-color:rgba(135,206,250,0.09048044);\">review</span> <span style=\"background-color:rgba(135,206,250,0.027171459);\">for</span> <span style=\"background-color:rgba(135,206,250,0.0774585);\">hyaluronic</span> <span style=\"background-color:rgba(135,206,250,0.16657746);\">acid</span> <span style=\"background-color:rgba(135,206,250,0.232381);\">booster</span> <span style=\"background-color:rgba(135,206,250,0.078448266);\">|</span> <span style=\"background-color:rgba(135,206,250,0.05589067);\">this</span> <span style=\"background-color:rgba(135,206,250,0.08485071);\">is</span> <span style=\"background-color:rgba(135,206,250,0.048140656);\">a</span> <span style=\"background-color:rgba(135,206,250,0.051141303);\">great</span> <span style=\"background-color:rgba(135,206,250,0.07998807);\">product</span> <span style=\"background-color:rgba(135,206,250,0.117247604);\">.</span> <span style=\"background-color:rgba(135,206,250,0.044892948);\">i</span> <span style=\"background-color:rgba(135,206,250,0.037330627);\">have</span> <span style=\"background-color:rgba(135,206,250,0.058668196);\">sensitive</span> <span style=\"background-color:rgba(135,206,250,0.048217356);\">skin</span> <span style=\"background-color:rgba(135,206,250,0.056269195);\">and</span> <span style=\"background-color:rgba(135,206,250,0.027306022);\">this</span> <span style=\"background-color:rgba(135,206,250,0.038389023);\">is</span> <span style=\"background-color:rgba(135,206,250,0.02510555);\">the</span> <span style=\"background-color:rgba(135,206,250,0.048296);\">perfect</span> <span style=\"background-color:rgba(135,206,250,0.040376704);\">size</span> <span style=\"background-color:rgba(135,206,250,0.12652539);\">!</span> <span style=\"background-color:rgba(135,206,250,0.037285578);\">i</span> <span style=\"background-color:rgba(135,206,250,0.035510283);\">have</span> <span style=\"background-color:rgba(135,206,250,0.067380294);\">sensitive</span> <span style=\"background-color:rgba(135,206,250,0.052402586);\">skin</span> <span style=\"background-color:rgba(135,206,250,0.05327397);\">and</span> <span style=\"background-color:rgba(135,206,250,0.028451035);\">this</span> <span style=\"background-color:rgba(135,206,250,0.03821198);\">is</span> <span style=\"background-color:rgba(135,206,250,0.022338841);\">the</span> <span style=\"background-color:rgba(135,206,250,0.04390657);\">perfect</span> <span style=\"background-color:rgba(135,206,250,0.038037676);\">amount</span> <span style=\"background-color:rgba(135,206,250,0.039628297);\">of</span> <span style=\"background-color:rgba(135,206,250,0.06869317);\">hydration</span> <span style=\"background-color:rgba(135,206,250,0.06379383);\">and</span> <span style=\"background-color:rgba(135,206,250,0.037277285);\">the</span> <span style=\"background-color:rgba(135,206,250,0.060559705);\">texture</span> <span style=\"background-color:rgba(135,206,250,0.056283765);\">is</span> <span style=\"background-color:rgba(135,206,250,0.06817435);\">perfect</span> <span style=\"background-color:rgba(135,206,250,0.1529462);\">.</span> <span style=\"background-color:rgba(135,206,250,0.076750614);\">it</span> <span style=\"background-color:rgba(135,206,250,0.16598594);\">absorbs</span> <span style=\"background-color:rgba(135,206,250,0.07801491);\">quickly</span> <span style=\"background-color:rgba(135,206,250,0.10475308);\">without</span> <span style=\"background-color:rgba(135,206,250,0.12103397);\">leaving</span> <span style=\"background-color:rgba(135,206,250,0.09904648);\">a</span> <span style=\"background-color:rgba(135,206,250,0.066587195);\">residue</span> <span style=\"background-color:rgba(135,206,250,0.22137041);\">.</span> <span style=\"background-color:rgba(135,206,250,0.12568267);\">i</span> <span style=\"background-color:rgba(135,206,250,0.23463477);\">love</span> <span style=\"background-color:rgba(135,206,250,0.17781758);\">that</span> <span style=\"background-color:rgba(135,206,250,0.1997857);\">it</span> <span style=\"background-color:rgba(135,206,250,0.3495959);\">is</span> <span style=\"background-color:rgba(135,206,250,0.5292844);\">vegan</span> <span style=\"background-color:rgba(135,206,250,0.6547077);\">and</span> <span style=\"background-color:rgba(135,206,250,1.0);\">cruelty</span> <span style=\"background-color:rgba(135,206,250,0.3358523);\">free</span>"
            ]
          },
          "metadata": {}
        },
        {
          "output_type": "stream",
          "name": "stdout",
          "text": [
            ".:   \t90.65%\n",
            "!:   \t6.06%\n",
            "which:   \t1.78%\n",
            "and:   \t0.74%\n",
            ",:   \t0.64%\n",
            "--------\n",
            "\n"
          ]
        },
        {
          "output_type": "display_data",
          "data": {
            "text/plain": [
              "<IPython.core.display.HTML object>"
            ],
            "text/html": [
              "<span style=\"background-color:rgba(135,206,250,0.12846635);\">review</span> <span style=\"background-color:rgba(135,206,250,0.061507408);\">for</span> <span style=\"background-color:rgba(135,206,250,0.05365619);\">hyaluronic</span> <span style=\"background-color:rgba(135,206,250,0.12067664);\">acid</span> <span style=\"background-color:rgba(135,206,250,0.045037366);\">booster</span> <span style=\"background-color:rgba(135,206,250,0.12424928);\">|</span> <span style=\"background-color:rgba(135,206,250,0.1515684);\">this</span> <span style=\"background-color:rgba(135,206,250,0.11776992);\">is</span> <span style=\"background-color:rgba(135,206,250,0.043628503);\">a</span> <span style=\"background-color:rgba(135,206,250,0.15043557);\">great</span> <span style=\"background-color:rgba(135,206,250,0.082271375);\">product</span> <span style=\"background-color:rgba(135,206,250,0.094855905);\">.</span> <span style=\"background-color:rgba(135,206,250,0.08950652);\">i</span> <span style=\"background-color:rgba(135,206,250,0.0669745);\">have</span> <span style=\"background-color:rgba(135,206,250,0.06661018);\">sensitive</span> <span style=\"background-color:rgba(135,206,250,0.035266716);\">skin</span> <span style=\"background-color:rgba(135,206,250,0.0332253);\">and</span> <span style=\"background-color:rgba(135,206,250,0.07430904);\">this</span> <span style=\"background-color:rgba(135,206,250,0.067114845);\">is</span> <span style=\"background-color:rgba(135,206,250,0.030702438);\">the</span> <span style=\"background-color:rgba(135,206,250,0.116553485);\">perfect</span> <span style=\"background-color:rgba(135,206,250,0.044421937);\">size</span> <span style=\"background-color:rgba(135,206,250,0.074878156);\">!</span> <span style=\"background-color:rgba(135,206,250,0.06364044);\">i</span> <span style=\"background-color:rgba(135,206,250,0.05786333);\">have</span> <span style=\"background-color:rgba(135,206,250,0.05817997);\">sensitive</span> <span style=\"background-color:rgba(135,206,250,0.03276877);\">skin</span> <span style=\"background-color:rgba(135,206,250,0.034189392);\">and</span> <span style=\"background-color:rgba(135,206,250,0.08034877);\">this</span> <span style=\"background-color:rgba(135,206,250,0.07754852);\">is</span> <span style=\"background-color:rgba(135,206,250,0.03378507);\">the</span> <span style=\"background-color:rgba(135,206,250,0.11411653);\">perfect</span> <span style=\"background-color:rgba(135,206,250,0.0694818);\">amount</span> <span style=\"background-color:rgba(135,206,250,0.027731648);\">of</span> <span style=\"background-color:rgba(135,206,250,0.088467546);\">hydration</span> <span style=\"background-color:rgba(135,206,250,0.07957736);\">and</span> <span style=\"background-color:rgba(135,206,250,0.06955307);\">the</span> <span style=\"background-color:rgba(135,206,250,0.09830472);\">texture</span> <span style=\"background-color:rgba(135,206,250,0.115377456);\">is</span> <span style=\"background-color:rgba(135,206,250,0.18805227);\">perfect</span> <span style=\"background-color:rgba(135,206,250,0.21643867);\">.</span> <span style=\"background-color:rgba(135,206,250,0.18961382);\">it</span> <span style=\"background-color:rgba(135,206,250,0.25336596);\">absorbs</span> <span style=\"background-color:rgba(135,206,250,0.23919873);\">quickly</span> <span style=\"background-color:rgba(135,206,250,0.13138755);\">without</span> <span style=\"background-color:rgba(135,206,250,0.12136536);\">leaving</span> <span style=\"background-color:rgba(135,206,250,0.06256551);\">a</span> <span style=\"background-color:rgba(135,206,250,0.093085386);\">residue</span> <span style=\"background-color:rgba(135,206,250,0.17750703);\">.</span> <span style=\"background-color:rgba(135,206,250,0.15171653);\">i</span> <span style=\"background-color:rgba(135,206,250,0.23265365);\">love</span> <span style=\"background-color:rgba(135,206,250,0.1541927);\">that</span> <span style=\"background-color:rgba(135,206,250,0.21429639);\">it</span> <span style=\"background-color:rgba(135,206,250,0.18441325);\">is</span> <span style=\"background-color:rgba(135,206,250,0.55168706);\">vegan</span> <span style=\"background-color:rgba(135,206,250,0.42868745);\">and</span> <span style=\"background-color:rgba(135,206,250,0.80354863);\">cruelty</span> <span style=\"background-color:rgba(135,206,250,0.6551005);\">free</span> <span style=\"background-color:rgba(135,206,250,1.0);\">.</span>"
            ]
          },
          "metadata": {}
        },
        {
          "output_type": "stream",
          "name": "stdout",
          "text": [
            ":   \t73.19%\n",
            "i:   \t18.41%\n",
            "gifted:   \t3.27%\n",
            "it:   \t2.71%\n",
            "the:   \t1.17%\n",
            "--------\n",
            "\n"
          ]
        }
      ]
    },
    {
      "cell_type": "markdown",
      "source": [
        "# This is a basic guide on how to code a GPT model from scratch to generate reviews of beauty products. The code can be further improved and optimized based on the specific requirements of the task. For example, more sophisticated preprocessing and tokenization methods can be used, the model architecture can be modified, and different training strategies can be employed. The generated reviews can also be post-processed to ensure they meet certain criteria, such as length, coherence, and relevance to the product. The model can also be evaluated on a separate test set to assess its performance."
      ],
      "metadata": {
        "id": "IuOcvP8zWWi5"
      }
    },
    {
      "cell_type": "code",
      "source": [],
      "metadata": {
        "id": "MmaqMzcUIwHa"
      },
      "execution_count": null,
      "outputs": []
    }
  ]
}