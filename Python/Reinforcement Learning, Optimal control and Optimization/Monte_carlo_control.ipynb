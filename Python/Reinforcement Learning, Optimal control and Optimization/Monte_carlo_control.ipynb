{
  "nbformat": 4,
  "nbformat_minor": 0,
  "metadata": {
    "colab": {
      "provenance": []
    },
    "kernelspec": {
      "name": "python3",
      "display_name": "Python 3"
    },
    "language_info": {
      "name": "python"
    }
  },
  "cells": [
    {
      "cell_type": "code",
      "execution_count": 3,
      "metadata": {
        "id": "nGklMT4rzCLl"
      },
      "outputs": [],
      "source": [
        "import numpy as np\n",
        "import gym\n",
        "import operator"
      ]
    },
    {
      "cell_type": "code",
      "source": [
        "class Store(gym.Env):\n",
        "    def __init__(self):\n",
        "        self.v_demand = [100, 200, 300, 400]\n",
        "        self.p_demand = [0.3, 0.4, 0.2, 0.1]\n",
        "        self.capacity = self.v_demand[-1]\n",
        "        self.days = ['Mon', 'Tue', 'Wed',\n",
        "                     'Thu', 'Fri', 'Sat', 'Sun']\n",
        "        self.unit_cost = 4\n",
        "        self.net_revenue = 7\n",
        "        self.action_space = [0, 100, 200, 300, 400]\n",
        "        self.state_space = [(d, i) for d in self.days for i in [0, 100, 200, 300, 400]]\n",
        "\n",
        "    def get_next_state_reward(self, state, action, demand):\n",
        "        day, inventory = state\n",
        "        result = {}\n",
        "        result['next_day'] = self.days[self.days.index(day) \\\n",
        "                                       + 1]\n",
        "        result['starting_inventory'] = min(self.capacity,\n",
        "                                           inventory\n",
        "                                           + action)\n",
        "        result['cost'] = self.unit_cost * action\n",
        "        result['sales'] = min(result['starting_inventory'],\n",
        "                              demand)\n",
        "        result['revenue'] = self.net_revenue * result['sales']\n",
        "        result['next_inventory'] \\\n",
        "            = result['starting_inventory'] - result['sales']\n",
        "        result['reward'] = result['revenue'] - result['cost']\n",
        "        return result\n",
        "\n",
        "    def get_transition_prob(self, state, action):\n",
        "        next_s_r_prob = {}\n",
        "        for ix, demand in enumerate(self.v_demand):\n",
        "            result = self.get_next_state_reward(state,\n",
        "                                                action,\n",
        "                                                demand)\n",
        "            next_s = (result['next_day'],\n",
        "                      result['next_inventory'])\n",
        "            reward = result['reward']\n",
        "            prob = self.p_demand[ix]\n",
        "            if (next_s, reward) not in next_s_r_prob:\n",
        "                next_s_r_prob[next_s, reward] = prob\n",
        "            else:\n",
        "                next_s_r_prob[next_s, reward] += prob\n",
        "        return next_s_r_prob\n",
        "\n",
        "    def reset(self):\n",
        "        self.day = \"Mon\"\n",
        "        self.inventory = 0\n",
        "        state = (self.day, self.inventory)\n",
        "        return state\n",
        "\n",
        "    def is_terminal(self, state):\n",
        "        day, inventory = state\n",
        "        if day == \"Sun\":\n",
        "            return True\n",
        "        else:\n",
        "            return False\n",
        "\n",
        "    def step(self, action):\n",
        "        demand = np.random.choice(self.v_demand,\n",
        "                                  p=self.p_demand)\n",
        "        result = self.get_next_state_reward((self.day,\n",
        "                                             self.inventory),\n",
        "                                       action,\n",
        "                                       demand)\n",
        "        self.day = result['next_day']\n",
        "        self.inventory = result['next_inventory']\n",
        "        state = (self.day, self.inventory)\n",
        "        reward = result['reward']\n",
        "        done = self.is_terminal(state)\n",
        "        info = {'demand': demand, 'sales': result['sales']}\n",
        "        return state, reward, done, info"
      ],
      "metadata": {
        "colab": {
          "base_uri": "https://localhost:8080/"
        },
        "id": "6emZ0j4B3GrM",
        "outputId": "70f2e075-42b9-42a8-ac8e-0d71d18ef6f9"
      },
      "execution_count": 24,
      "outputs": [
        {
          "output_type": "stream",
          "name": "stderr",
          "text": [
            "/usr/local/lib/python3.10/dist-packages/ipykernel/ipkernel.py:283: DeprecationWarning: `should_run_async` will not call `transform_cell` automatically in the future. Please pass the result to `transformed_cell` argument and any exception that happen during thetransform in `preprocessing_exc_tuple` in IPython 7.17 and above.\n",
            "  and should_run_async(code)\n"
          ]
        }
      ]
    },
    {
      "cell_type": "code",
      "source": [
        "store = Store()"
      ],
      "metadata": {
        "colab": {
          "base_uri": "https://localhost:8080/"
        },
        "id": "1qZAR5BA87Xu",
        "outputId": "9584b295-c0bb-43c3-e37c-749737e9bb75"
      },
      "execution_count": 25,
      "outputs": [
        {
          "output_type": "stream",
          "name": "stderr",
          "text": [
            "/usr/local/lib/python3.10/dist-packages/ipykernel/ipkernel.py:283: DeprecationWarning: `should_run_async` will not call `transform_cell` automatically in the future. Please pass the result to `transformed_cell` argument and any exception that happen during thetransform in `preprocessing_exc_tuple` in IPython 7.17 and above.\n",
            "  and should_run_async(code)\n"
          ]
        }
      ]
    },
    {
      "cell_type": "code",
      "source": [
        "def choose_action(state, policy):\n",
        "    prob_a = policy[state]\n",
        "    action = np.random.choice(a=list(prob_a.keys()),\n",
        "                              p=list(prob_a.values()))\n",
        "    return action\n",
        "\n",
        "def simulate_policy(policy, n_episodes):\n",
        "    np.random.seed(0)\n",
        "    store = Store()\n",
        "    rewards = []\n",
        "    for i_episode in range(n_episodes):\n",
        "        state = store.reset()\n",
        "        done = False\n",
        "        ep_reward = 0\n",
        "        while not done:\n",
        "            action = choose_action(state, policy)\n",
        "            state, reward, done, info = store.step(action)\n",
        "            ep_reward += reward\n",
        "        rewards.append(ep_reward)\n",
        "    print(\"Expected weekly profit:\", np.mean(rewards))"
      ],
      "metadata": {
        "id": "VCqnmgUE8Pkp"
      },
      "execution_count": 9,
      "outputs": []
    },
    {
      "cell_type": "code",
      "source": [
        "def get_trajectory(env, policy):\n",
        "    trajectory = []\n",
        "    state = env.reset()\n",
        "    done = False\n",
        "    sar = [state]\n",
        "    while not done:\n",
        "        action = choose_action(state, policy)\n",
        "        state, reward, done, info = env.step(action)\n",
        "        sar.append(action)\n",
        "        sar.append(reward)\n",
        "        trajectory.append(sar)\n",
        "        sar = [state]\n",
        "    return trajectory"
      ],
      "metadata": {
        "id": "u9ZekPUk7_uu"
      },
      "execution_count": 10,
      "outputs": []
    },
    {
      "cell_type": "code",
      "source": [
        "def get_eps_greedy(actions, eps, a_best):\n",
        "    prob_a = {}\n",
        "    n_a = len(actions)\n",
        "    for a in actions:\n",
        "        if a == a_best:\n",
        "            prob_a[a] = 1 - eps + eps/n_a\n",
        "        else:\n",
        "            prob_a[a] = eps/n_a\n",
        "    return prob_a"
      ],
      "metadata": {
        "id": "CtvBy7e27ZYt"
      },
      "execution_count": 11,
      "outputs": []
    },
    {
      "cell_type": "code",
      "source": [
        "def get_random_policy(states, actions):\n",
        "    policy = {}\n",
        "    n_a = len(actions)\n",
        "    for s in states:\n",
        "        policy[s] = {a: 1/n_a for a in actions}\n",
        "    return policy"
      ],
      "metadata": {
        "id": "Uxj9TVHf7sa1"
      },
      "execution_count": 5,
      "outputs": []
    },
    {
      "cell_type": "code",
      "source": [
        "def on_policy_first_visit_mc(env, n_iter, eps, gamma):\n",
        "    np.random.seed(0)\n",
        "    states =  env.state_space\n",
        "    actions = env.action_space\n",
        "    policy =  get_random_policy(states, actions)\n",
        "    Q = {s: {a: 0 for a in actions} for s in states}\n",
        "    Q_n = {s: {a: 0 for a in actions} for s in states}\n",
        "    for i in range(n_iter):\n",
        "        if i % 10000 == 0:\n",
        "            print(\"Iteration:\", i)\n",
        "        trajectory = get_trajectory(env, policy)\n",
        "        G = 0\n",
        "        T = len(trajectory) - 1\n",
        "        for t, sar in enumerate(reversed(trajectory)):\n",
        "            s, a, r = sar\n",
        "            G = r + gamma * G\n",
        "            first_visit = True\n",
        "            for j in range(T - t):\n",
        "                s_j = trajectory[j][0]\n",
        "                a_j = trajectory[j][1]\n",
        "                if (s, a) == (s_j, a_j):\n",
        "                    first_visit = False\n",
        "            if first_visit:\n",
        "                Q[s][a] = Q_n[s][a] * Q[s][a] + G\n",
        "                Q_n[s][a] += 1\n",
        "                Q[s][a] /= Q_n[s][a]\n",
        "                a_best = max(Q[s].items(),\n",
        "                             key=operator.itemgetter(1))[0]\n",
        "                policy[s] = get_eps_greedy(actions,\n",
        "                                           eps,\n",
        "                                           a_best)\n",
        "    return policy, Q, Q_n"
      ],
      "metadata": {
        "id": "WdnXJ52V7u1K"
      },
      "execution_count": 12,
      "outputs": []
    },
    {
      "cell_type": "code",
      "source": [
        "policy, Q, Q_n = on_policy_first_visit_mc(store,\n",
        "                                          300000,\n",
        "                                          0.05,\n",
        "                                          1)"
      ],
      "metadata": {
        "colab": {
          "base_uri": "https://localhost:8080/"
        },
        "id": "Eg4Ji0rA7xuF",
        "outputId": "580d607a-4fea-4bf8-86c4-492ee49f18d5"
      },
      "execution_count": 27,
      "outputs": [
        {
          "output_type": "stream",
          "name": "stderr",
          "text": [
            "/usr/local/lib/python3.10/dist-packages/ipykernel/ipkernel.py:283: DeprecationWarning: `should_run_async` will not call `transform_cell` automatically in the future. Please pass the result to `transformed_cell` argument and any exception that happen during thetransform in `preprocessing_exc_tuple` in IPython 7.17 and above.\n",
            "  and should_run_async(code)\n"
          ]
        },
        {
          "output_type": "stream",
          "name": "stdout",
          "text": [
            "Iteration: 0\n",
            "Iteration: 10000\n",
            "Iteration: 20000\n",
            "Iteration: 30000\n",
            "Iteration: 40000\n",
            "Iteration: 50000\n",
            "Iteration: 60000\n",
            "Iteration: 70000\n",
            "Iteration: 80000\n",
            "Iteration: 90000\n",
            "Iteration: 100000\n",
            "Iteration: 110000\n",
            "Iteration: 120000\n",
            "Iteration: 130000\n",
            "Iteration: 140000\n",
            "Iteration: 150000\n",
            "Iteration: 160000\n",
            "Iteration: 170000\n",
            "Iteration: 180000\n",
            "Iteration: 190000\n",
            "Iteration: 200000\n",
            "Iteration: 210000\n",
            "Iteration: 220000\n",
            "Iteration: 230000\n",
            "Iteration: 240000\n",
            "Iteration: 250000\n",
            "Iteration: 260000\n",
            "Iteration: 270000\n",
            "Iteration: 280000\n",
            "Iteration: 290000\n"
          ]
        }
      ]
    },
    {
      "cell_type": "code",
      "source": [
        "policy"
      ],
      "metadata": {
        "colab": {
          "base_uri": "https://localhost:8080/"
        },
        "id": "iEe_9o218cfj",
        "outputId": "237393bd-f1b4-4014-9afe-b5ed5259d971"
      },
      "execution_count": 28,
      "outputs": [
        {
          "output_type": "execute_result",
          "data": {
            "text/plain": [
              "{('Mon', 0): {0: 0.01, 100: 0.01, 200: 0.01, 300: 0.01, 400: 0.96},\n",
              " ('Mon', 100): {0: 0.2, 100: 0.2, 200: 0.2, 300: 0.2, 400: 0.2},\n",
              " ('Mon', 200): {0: 0.2, 100: 0.2, 200: 0.2, 300: 0.2, 400: 0.2},\n",
              " ('Mon', 300): {0: 0.2, 100: 0.2, 200: 0.2, 300: 0.2, 400: 0.2},\n",
              " ('Mon', 400): {0: 0.2, 100: 0.2, 200: 0.2, 300: 0.2, 400: 0.2},\n",
              " ('Tue', 0): {0: 0.01, 100: 0.01, 200: 0.01, 300: 0.01, 400: 0.96},\n",
              " ('Tue', 100): {0: 0.01, 100: 0.01, 200: 0.01, 300: 0.96, 400: 0.01},\n",
              " ('Tue', 200): {0: 0.01, 100: 0.01, 200: 0.96, 300: 0.01, 400: 0.01},\n",
              " ('Tue', 300): {0: 0.96, 100: 0.01, 200: 0.01, 300: 0.01, 400: 0.01},\n",
              " ('Tue', 400): {0: 0.2, 100: 0.2, 200: 0.2, 300: 0.2, 400: 0.2},\n",
              " ('Wed', 0): {0: 0.01, 100: 0.01, 200: 0.01, 300: 0.01, 400: 0.96},\n",
              " ('Wed', 100): {0: 0.01, 100: 0.01, 200: 0.01, 300: 0.96, 400: 0.01},\n",
              " ('Wed', 200): {0: 0.01, 100: 0.01, 200: 0.96, 300: 0.01, 400: 0.01},\n",
              " ('Wed', 300): {0: 0.96, 100: 0.01, 200: 0.01, 300: 0.01, 400: 0.01},\n",
              " ('Wed', 400): {0: 0.2, 100: 0.2, 200: 0.2, 300: 0.2, 400: 0.2},\n",
              " ('Thu', 0): {0: 0.01, 100: 0.01, 200: 0.01, 300: 0.01, 400: 0.96},\n",
              " ('Thu', 100): {0: 0.01, 100: 0.01, 200: 0.01, 300: 0.96, 400: 0.01},\n",
              " ('Thu', 200): {0: 0.01, 100: 0.01, 200: 0.96, 300: 0.01, 400: 0.01},\n",
              " ('Thu', 300): {0: 0.01, 100: 0.96, 200: 0.01, 300: 0.01, 400: 0.01},\n",
              " ('Thu', 400): {0: 0.2, 100: 0.2, 200: 0.2, 300: 0.2, 400: 0.2},\n",
              " ('Fri', 0): {0: 0.01, 100: 0.01, 200: 0.01, 300: 0.96, 400: 0.01},\n",
              " ('Fri', 100): {0: 0.01, 100: 0.01, 200: 0.96, 300: 0.01, 400: 0.01},\n",
              " ('Fri', 200): {0: 0.01, 100: 0.96, 200: 0.01, 300: 0.01, 400: 0.01},\n",
              " ('Fri', 300): {0: 0.96, 100: 0.01, 200: 0.01, 300: 0.01, 400: 0.01},\n",
              " ('Fri', 400): {0: 0.2, 100: 0.2, 200: 0.2, 300: 0.2, 400: 0.2},\n",
              " ('Sat', 0): {0: 0.01, 100: 0.01, 200: 0.96, 300: 0.01, 400: 0.01},\n",
              " ('Sat', 100): {0: 0.01, 100: 0.96, 200: 0.01, 300: 0.01, 400: 0.01},\n",
              " ('Sat', 200): {0: 0.96, 100: 0.01, 200: 0.01, 300: 0.01, 400: 0.01},\n",
              " ('Sat', 300): {0: 0.96, 100: 0.01, 200: 0.01, 300: 0.01, 400: 0.01},\n",
              " ('Sat', 400): {0: 0.2, 100: 0.2, 200: 0.2, 300: 0.2, 400: 0.2},\n",
              " ('Sun', 0): {0: 0.2, 100: 0.2, 200: 0.2, 300: 0.2, 400: 0.2},\n",
              " ('Sun', 100): {0: 0.2, 100: 0.2, 200: 0.2, 300: 0.2, 400: 0.2},\n",
              " ('Sun', 200): {0: 0.2, 100: 0.2, 200: 0.2, 300: 0.2, 400: 0.2},\n",
              " ('Sun', 300): {0: 0.2, 100: 0.2, 200: 0.2, 300: 0.2, 400: 0.2},\n",
              " ('Sun', 400): {0: 0.2, 100: 0.2, 200: 0.2, 300: 0.2, 400: 0.2}}"
            ]
          },
          "metadata": {},
          "execution_count": 28
        }
      ]
    },
    {
      "cell_type": "code",
      "source": [
        "def off_policy_mc(env, n_iter, eps, gamma):\n",
        "    np.random.seed(0)\n",
        "    states =  env.state_space\n",
        "    actions = env.action_space\n",
        "    Q = {s: {a: 0 for a in actions} for s in states}\n",
        "    C = {s: {a: 0 for a in actions} for s in states}\n",
        "    target_policy = {}\n",
        "    behavior_policy = get_random_policy(states,\n",
        "                                        actions)\n",
        "    for i in range(n_iter):\n",
        "        if i % 10000 == 0:\n",
        "            print(\"Iteration:\", i)\n",
        "        trajectory = get_trajectory(env,\n",
        "                                    behavior_policy)\n",
        "        G = 0\n",
        "        W = 1\n",
        "        T = len(trajectory) - 1\n",
        "        for t, sar in enumerate(reversed(trajectory)):\n",
        "            s, a, r = sar\n",
        "            G = r + gamma * G\n",
        "            C[s][a] += W\n",
        "            Q[s][a] += (W/C[s][a]) * (G - Q[s][a])\n",
        "            a_best = max(Q[s].items(),\n",
        "                         key=operator.itemgetter(1))[0]\n",
        "            target_policy[s] = a_best\n",
        "            behavior_policy[s] = get_eps_greedy(actions,\n",
        "                                                eps,\n",
        "                                                a_best)\n",
        "            if a != target_policy[s]:\n",
        "                break\n",
        "            W = W / behavior_policy[s][a]\n",
        "    target_policy = {s: target_policy[s] for s in states\n",
        "                                   if s in target_policy}\n",
        "    return target_policy, Q"
      ],
      "metadata": {
        "id": "Dmkk187c9UDU"
      },
      "execution_count": 29,
      "outputs": []
    },
    {
      "cell_type": "code",
      "source": [
        "policy, Q = off_policy_mc(store, 300000, 0.05, 1)"
      ],
      "metadata": {
        "colab": {
          "base_uri": "https://localhost:8080/"
        },
        "id": "wVRbSr_pC6dW",
        "outputId": "7d7feb34-7c74-4b2c-d916-a048195181c6"
      },
      "execution_count": 30,
      "outputs": [
        {
          "output_type": "stream",
          "name": "stderr",
          "text": [
            "/usr/local/lib/python3.10/dist-packages/ipykernel/ipkernel.py:283: DeprecationWarning: `should_run_async` will not call `transform_cell` automatically in the future. Please pass the result to `transformed_cell` argument and any exception that happen during thetransform in `preprocessing_exc_tuple` in IPython 7.17 and above.\n",
            "  and should_run_async(code)\n"
          ]
        },
        {
          "output_type": "stream",
          "name": "stdout",
          "text": [
            "Iteration: 0\n",
            "Iteration: 10000\n",
            "Iteration: 20000\n",
            "Iteration: 30000\n",
            "Iteration: 40000\n",
            "Iteration: 50000\n",
            "Iteration: 60000\n",
            "Iteration: 70000\n",
            "Iteration: 80000\n",
            "Iteration: 90000\n",
            "Iteration: 100000\n",
            "Iteration: 110000\n",
            "Iteration: 120000\n",
            "Iteration: 130000\n",
            "Iteration: 140000\n",
            "Iteration: 150000\n",
            "Iteration: 160000\n",
            "Iteration: 170000\n",
            "Iteration: 180000\n",
            "Iteration: 190000\n",
            "Iteration: 200000\n",
            "Iteration: 210000\n",
            "Iteration: 220000\n",
            "Iteration: 230000\n",
            "Iteration: 240000\n",
            "Iteration: 250000\n",
            "Iteration: 260000\n",
            "Iteration: 270000\n",
            "Iteration: 280000\n",
            "Iteration: 290000\n"
          ]
        }
      ]
    },
    {
      "cell_type": "code",
      "source": [
        "policy"
      ],
      "metadata": {
        "colab": {
          "base_uri": "https://localhost:8080/"
        },
        "id": "-YtDhUeDC9JU",
        "outputId": "fac3f1bb-c827-4390-8b38-98ba08031d30"
      },
      "execution_count": 31,
      "outputs": [
        {
          "output_type": "execute_result",
          "data": {
            "text/plain": [
              "{('Mon', 0): 400,\n",
              " ('Tue', 0): 400,\n",
              " ('Tue', 100): 300,\n",
              " ('Tue', 200): 200,\n",
              " ('Tue', 300): 100,\n",
              " ('Wed', 0): 400,\n",
              " ('Wed', 100): 300,\n",
              " ('Wed', 200): 200,\n",
              " ('Wed', 300): 100,\n",
              " ('Thu', 0): 400,\n",
              " ('Thu', 100): 300,\n",
              " ('Thu', 200): 200,\n",
              " ('Thu', 300): 100,\n",
              " ('Fri', 0): 300,\n",
              " ('Fri', 100): 200,\n",
              " ('Fri', 200): 100,\n",
              " ('Fri', 300): 0,\n",
              " ('Sat', 0): 200,\n",
              " ('Sat', 100): 100,\n",
              " ('Sat', 200): 0,\n",
              " ('Sat', 300): 0}"
            ]
          },
          "metadata": {},
          "execution_count": 31
        }
      ]
    },
    {
      "cell_type": "code",
      "source": [],
      "metadata": {
        "id": "cD55RSD2TlI_"
      },
      "execution_count": null,
      "outputs": []
    }
  ]
}